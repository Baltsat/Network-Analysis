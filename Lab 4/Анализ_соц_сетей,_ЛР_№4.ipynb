{
  "nbformat": 4,
  "nbformat_minor": 0,
  "metadata": {
    "colab": {
      "provenance": []
    },
    "kernelspec": {
      "name": "python3",
      "display_name": "Python 3"
    },
    "language_info": {
      "name": "python"
    },
    "accelerator": "GPU",
    "gpuClass": "standard",
    "widgets": {
      "application/vnd.jupyter.widget-state+json": {
        "87054b6bcbff41819e08f512d125099e": {
          "model_module": "@jupyter-widgets/controls",
          "model_name": "HBoxModel",
          "model_module_version": "1.5.0",
          "state": {
            "_dom_classes": [],
            "_model_module": "@jupyter-widgets/controls",
            "_model_module_version": "1.5.0",
            "_model_name": "HBoxModel",
            "_view_count": null,
            "_view_module": "@jupyter-widgets/controls",
            "_view_module_version": "1.5.0",
            "_view_name": "HBoxView",
            "box_style": "",
            "children": [
              "IPY_MODEL_ad01ca40792749cc8e2d1566b03b89a5",
              "IPY_MODEL_b855198e9c4d40fc9bfaf792c356390f",
              "IPY_MODEL_c948b05c6d974193a863accab8fa7860"
            ],
            "layout": "IPY_MODEL_a92b6014963843e5a796e0a90e520bba"
          }
        },
        "ad01ca40792749cc8e2d1566b03b89a5": {
          "model_module": "@jupyter-widgets/controls",
          "model_name": "HTMLModel",
          "model_module_version": "1.5.0",
          "state": {
            "_dom_classes": [],
            "_model_module": "@jupyter-widgets/controls",
            "_model_module_version": "1.5.0",
            "_model_name": "HTMLModel",
            "_view_count": null,
            "_view_module": "@jupyter-widgets/controls",
            "_view_module_version": "1.5.0",
            "_view_name": "HTMLView",
            "description": "",
            "description_tooltip": null,
            "layout": "IPY_MODEL_4987e17c60af47a09c06d8f2dc341d6b",
            "placeholder": "​",
            "style": "IPY_MODEL_9cfe2da21eac4e8da142cd4d18f0ac7d",
            "value": "Downloading (…)olve/main/vocab.json: 100%"
          }
        },
        "b855198e9c4d40fc9bfaf792c356390f": {
          "model_module": "@jupyter-widgets/controls",
          "model_name": "FloatProgressModel",
          "model_module_version": "1.5.0",
          "state": {
            "_dom_classes": [],
            "_model_module": "@jupyter-widgets/controls",
            "_model_module_version": "1.5.0",
            "_model_name": "FloatProgressModel",
            "_view_count": null,
            "_view_module": "@jupyter-widgets/controls",
            "_view_module_version": "1.5.0",
            "_view_name": "ProgressView",
            "bar_style": "success",
            "description": "",
            "description_tooltip": null,
            "layout": "IPY_MODEL_b91622d56a5c4bd09e9b3fac8aa4887d",
            "max": 1042301,
            "min": 0,
            "orientation": "horizontal",
            "style": "IPY_MODEL_e0f01685ed9d4d999775755ec21aa9b2",
            "value": 1042301
          }
        },
        "c948b05c6d974193a863accab8fa7860": {
          "model_module": "@jupyter-widgets/controls",
          "model_name": "HTMLModel",
          "model_module_version": "1.5.0",
          "state": {
            "_dom_classes": [],
            "_model_module": "@jupyter-widgets/controls",
            "_model_module_version": "1.5.0",
            "_model_name": "HTMLModel",
            "_view_count": null,
            "_view_module": "@jupyter-widgets/controls",
            "_view_module_version": "1.5.0",
            "_view_name": "HTMLView",
            "description": "",
            "description_tooltip": null,
            "layout": "IPY_MODEL_31293cae5f6f4cd6b229955081c928e4",
            "placeholder": "​",
            "style": "IPY_MODEL_4bc2993af8bc4c14a3e52a087b705521",
            "value": " 1.04M/1.04M [00:00&lt;00:00, 12.1MB/s]"
          }
        },
        "a92b6014963843e5a796e0a90e520bba": {
          "model_module": "@jupyter-widgets/base",
          "model_name": "LayoutModel",
          "model_module_version": "1.2.0",
          "state": {
            "_model_module": "@jupyter-widgets/base",
            "_model_module_version": "1.2.0",
            "_model_name": "LayoutModel",
            "_view_count": null,
            "_view_module": "@jupyter-widgets/base",
            "_view_module_version": "1.2.0",
            "_view_name": "LayoutView",
            "align_content": null,
            "align_items": null,
            "align_self": null,
            "border": null,
            "bottom": null,
            "display": null,
            "flex": null,
            "flex_flow": null,
            "grid_area": null,
            "grid_auto_columns": null,
            "grid_auto_flow": null,
            "grid_auto_rows": null,
            "grid_column": null,
            "grid_gap": null,
            "grid_row": null,
            "grid_template_areas": null,
            "grid_template_columns": null,
            "grid_template_rows": null,
            "height": null,
            "justify_content": null,
            "justify_items": null,
            "left": null,
            "margin": null,
            "max_height": null,
            "max_width": null,
            "min_height": null,
            "min_width": null,
            "object_fit": null,
            "object_position": null,
            "order": null,
            "overflow": null,
            "overflow_x": null,
            "overflow_y": null,
            "padding": null,
            "right": null,
            "top": null,
            "visibility": null,
            "width": null
          }
        },
        "4987e17c60af47a09c06d8f2dc341d6b": {
          "model_module": "@jupyter-widgets/base",
          "model_name": "LayoutModel",
          "model_module_version": "1.2.0",
          "state": {
            "_model_module": "@jupyter-widgets/base",
            "_model_module_version": "1.2.0",
            "_model_name": "LayoutModel",
            "_view_count": null,
            "_view_module": "@jupyter-widgets/base",
            "_view_module_version": "1.2.0",
            "_view_name": "LayoutView",
            "align_content": null,
            "align_items": null,
            "align_self": null,
            "border": null,
            "bottom": null,
            "display": null,
            "flex": null,
            "flex_flow": null,
            "grid_area": null,
            "grid_auto_columns": null,
            "grid_auto_flow": null,
            "grid_auto_rows": null,
            "grid_column": null,
            "grid_gap": null,
            "grid_row": null,
            "grid_template_areas": null,
            "grid_template_columns": null,
            "grid_template_rows": null,
            "height": null,
            "justify_content": null,
            "justify_items": null,
            "left": null,
            "margin": null,
            "max_height": null,
            "max_width": null,
            "min_height": null,
            "min_width": null,
            "object_fit": null,
            "object_position": null,
            "order": null,
            "overflow": null,
            "overflow_x": null,
            "overflow_y": null,
            "padding": null,
            "right": null,
            "top": null,
            "visibility": null,
            "width": null
          }
        },
        "9cfe2da21eac4e8da142cd4d18f0ac7d": {
          "model_module": "@jupyter-widgets/controls",
          "model_name": "DescriptionStyleModel",
          "model_module_version": "1.5.0",
          "state": {
            "_model_module": "@jupyter-widgets/controls",
            "_model_module_version": "1.5.0",
            "_model_name": "DescriptionStyleModel",
            "_view_count": null,
            "_view_module": "@jupyter-widgets/base",
            "_view_module_version": "1.2.0",
            "_view_name": "StyleView",
            "description_width": ""
          }
        },
        "b91622d56a5c4bd09e9b3fac8aa4887d": {
          "model_module": "@jupyter-widgets/base",
          "model_name": "LayoutModel",
          "model_module_version": "1.2.0",
          "state": {
            "_model_module": "@jupyter-widgets/base",
            "_model_module_version": "1.2.0",
            "_model_name": "LayoutModel",
            "_view_count": null,
            "_view_module": "@jupyter-widgets/base",
            "_view_module_version": "1.2.0",
            "_view_name": "LayoutView",
            "align_content": null,
            "align_items": null,
            "align_self": null,
            "border": null,
            "bottom": null,
            "display": null,
            "flex": null,
            "flex_flow": null,
            "grid_area": null,
            "grid_auto_columns": null,
            "grid_auto_flow": null,
            "grid_auto_rows": null,
            "grid_column": null,
            "grid_gap": null,
            "grid_row": null,
            "grid_template_areas": null,
            "grid_template_columns": null,
            "grid_template_rows": null,
            "height": null,
            "justify_content": null,
            "justify_items": null,
            "left": null,
            "margin": null,
            "max_height": null,
            "max_width": null,
            "min_height": null,
            "min_width": null,
            "object_fit": null,
            "object_position": null,
            "order": null,
            "overflow": null,
            "overflow_x": null,
            "overflow_y": null,
            "padding": null,
            "right": null,
            "top": null,
            "visibility": null,
            "width": null
          }
        },
        "e0f01685ed9d4d999775755ec21aa9b2": {
          "model_module": "@jupyter-widgets/controls",
          "model_name": "ProgressStyleModel",
          "model_module_version": "1.5.0",
          "state": {
            "_model_module": "@jupyter-widgets/controls",
            "_model_module_version": "1.5.0",
            "_model_name": "ProgressStyleModel",
            "_view_count": null,
            "_view_module": "@jupyter-widgets/base",
            "_view_module_version": "1.2.0",
            "_view_name": "StyleView",
            "bar_color": null,
            "description_width": ""
          }
        },
        "31293cae5f6f4cd6b229955081c928e4": {
          "model_module": "@jupyter-widgets/base",
          "model_name": "LayoutModel",
          "model_module_version": "1.2.0",
          "state": {
            "_model_module": "@jupyter-widgets/base",
            "_model_module_version": "1.2.0",
            "_model_name": "LayoutModel",
            "_view_count": null,
            "_view_module": "@jupyter-widgets/base",
            "_view_module_version": "1.2.0",
            "_view_name": "LayoutView",
            "align_content": null,
            "align_items": null,
            "align_self": null,
            "border": null,
            "bottom": null,
            "display": null,
            "flex": null,
            "flex_flow": null,
            "grid_area": null,
            "grid_auto_columns": null,
            "grid_auto_flow": null,
            "grid_auto_rows": null,
            "grid_column": null,
            "grid_gap": null,
            "grid_row": null,
            "grid_template_areas": null,
            "grid_template_columns": null,
            "grid_template_rows": null,
            "height": null,
            "justify_content": null,
            "justify_items": null,
            "left": null,
            "margin": null,
            "max_height": null,
            "max_width": null,
            "min_height": null,
            "min_width": null,
            "object_fit": null,
            "object_position": null,
            "order": null,
            "overflow": null,
            "overflow_x": null,
            "overflow_y": null,
            "padding": null,
            "right": null,
            "top": null,
            "visibility": null,
            "width": null
          }
        },
        "4bc2993af8bc4c14a3e52a087b705521": {
          "model_module": "@jupyter-widgets/controls",
          "model_name": "DescriptionStyleModel",
          "model_module_version": "1.5.0",
          "state": {
            "_model_module": "@jupyter-widgets/controls",
            "_model_module_version": "1.5.0",
            "_model_name": "DescriptionStyleModel",
            "_view_count": null,
            "_view_module": "@jupyter-widgets/base",
            "_view_module_version": "1.2.0",
            "_view_name": "StyleView",
            "description_width": ""
          }
        },
        "a01339fe70654a029b9f19c2eb50d316": {
          "model_module": "@jupyter-widgets/controls",
          "model_name": "HBoxModel",
          "model_module_version": "1.5.0",
          "state": {
            "_dom_classes": [],
            "_model_module": "@jupyter-widgets/controls",
            "_model_module_version": "1.5.0",
            "_model_name": "HBoxModel",
            "_view_count": null,
            "_view_module": "@jupyter-widgets/controls",
            "_view_module_version": "1.5.0",
            "_view_name": "HBoxView",
            "box_style": "",
            "children": [
              "IPY_MODEL_51669fcc4b6e4546b7af66238c853a5f",
              "IPY_MODEL_81bb8c89dd3e43c1b1cc19b649a92ad9",
              "IPY_MODEL_8d607e833b9d441a9eda018db15b541a"
            ],
            "layout": "IPY_MODEL_48f7888691934d0e976b7f5ed3c3eeb3"
          }
        },
        "51669fcc4b6e4546b7af66238c853a5f": {
          "model_module": "@jupyter-widgets/controls",
          "model_name": "HTMLModel",
          "model_module_version": "1.5.0",
          "state": {
            "_dom_classes": [],
            "_model_module": "@jupyter-widgets/controls",
            "_model_module_version": "1.5.0",
            "_model_name": "HTMLModel",
            "_view_count": null,
            "_view_module": "@jupyter-widgets/controls",
            "_view_module_version": "1.5.0",
            "_view_name": "HTMLView",
            "description": "",
            "description_tooltip": null,
            "layout": "IPY_MODEL_0355197e28ab49a6be554926da816100",
            "placeholder": "​",
            "style": "IPY_MODEL_2e43f96afa59455cb03e68bd310fda02",
            "value": "Downloading (…)olve/main/merges.txt: 100%"
          }
        },
        "81bb8c89dd3e43c1b1cc19b649a92ad9": {
          "model_module": "@jupyter-widgets/controls",
          "model_name": "FloatProgressModel",
          "model_module_version": "1.5.0",
          "state": {
            "_dom_classes": [],
            "_model_module": "@jupyter-widgets/controls",
            "_model_module_version": "1.5.0",
            "_model_name": "FloatProgressModel",
            "_view_count": null,
            "_view_module": "@jupyter-widgets/controls",
            "_view_module_version": "1.5.0",
            "_view_name": "ProgressView",
            "bar_style": "success",
            "description": "",
            "description_tooltip": null,
            "layout": "IPY_MODEL_2d6608a6085846f9a084f69ec12bff8f",
            "max": 456318,
            "min": 0,
            "orientation": "horizontal",
            "style": "IPY_MODEL_35d4cfb04d484858a1ae9cb598c5f697",
            "value": 456318
          }
        },
        "8d607e833b9d441a9eda018db15b541a": {
          "model_module": "@jupyter-widgets/controls",
          "model_name": "HTMLModel",
          "model_module_version": "1.5.0",
          "state": {
            "_dom_classes": [],
            "_model_module": "@jupyter-widgets/controls",
            "_model_module_version": "1.5.0",
            "_model_name": "HTMLModel",
            "_view_count": null,
            "_view_module": "@jupyter-widgets/controls",
            "_view_module_version": "1.5.0",
            "_view_name": "HTMLView",
            "description": "",
            "description_tooltip": null,
            "layout": "IPY_MODEL_c0f2126f4dc648feaee04a40f42fa7c7",
            "placeholder": "​",
            "style": "IPY_MODEL_8522d5d7c8f8491d9ebdb92325756cd4",
            "value": " 456k/456k [00:00&lt;00:00, 6.59MB/s]"
          }
        },
        "48f7888691934d0e976b7f5ed3c3eeb3": {
          "model_module": "@jupyter-widgets/base",
          "model_name": "LayoutModel",
          "model_module_version": "1.2.0",
          "state": {
            "_model_module": "@jupyter-widgets/base",
            "_model_module_version": "1.2.0",
            "_model_name": "LayoutModel",
            "_view_count": null,
            "_view_module": "@jupyter-widgets/base",
            "_view_module_version": "1.2.0",
            "_view_name": "LayoutView",
            "align_content": null,
            "align_items": null,
            "align_self": null,
            "border": null,
            "bottom": null,
            "display": null,
            "flex": null,
            "flex_flow": null,
            "grid_area": null,
            "grid_auto_columns": null,
            "grid_auto_flow": null,
            "grid_auto_rows": null,
            "grid_column": null,
            "grid_gap": null,
            "grid_row": null,
            "grid_template_areas": null,
            "grid_template_columns": null,
            "grid_template_rows": null,
            "height": null,
            "justify_content": null,
            "justify_items": null,
            "left": null,
            "margin": null,
            "max_height": null,
            "max_width": null,
            "min_height": null,
            "min_width": null,
            "object_fit": null,
            "object_position": null,
            "order": null,
            "overflow": null,
            "overflow_x": null,
            "overflow_y": null,
            "padding": null,
            "right": null,
            "top": null,
            "visibility": null,
            "width": null
          }
        },
        "0355197e28ab49a6be554926da816100": {
          "model_module": "@jupyter-widgets/base",
          "model_name": "LayoutModel",
          "model_module_version": "1.2.0",
          "state": {
            "_model_module": "@jupyter-widgets/base",
            "_model_module_version": "1.2.0",
            "_model_name": "LayoutModel",
            "_view_count": null,
            "_view_module": "@jupyter-widgets/base",
            "_view_module_version": "1.2.0",
            "_view_name": "LayoutView",
            "align_content": null,
            "align_items": null,
            "align_self": null,
            "border": null,
            "bottom": null,
            "display": null,
            "flex": null,
            "flex_flow": null,
            "grid_area": null,
            "grid_auto_columns": null,
            "grid_auto_flow": null,
            "grid_auto_rows": null,
            "grid_column": null,
            "grid_gap": null,
            "grid_row": null,
            "grid_template_areas": null,
            "grid_template_columns": null,
            "grid_template_rows": null,
            "height": null,
            "justify_content": null,
            "justify_items": null,
            "left": null,
            "margin": null,
            "max_height": null,
            "max_width": null,
            "min_height": null,
            "min_width": null,
            "object_fit": null,
            "object_position": null,
            "order": null,
            "overflow": null,
            "overflow_x": null,
            "overflow_y": null,
            "padding": null,
            "right": null,
            "top": null,
            "visibility": null,
            "width": null
          }
        },
        "2e43f96afa59455cb03e68bd310fda02": {
          "model_module": "@jupyter-widgets/controls",
          "model_name": "DescriptionStyleModel",
          "model_module_version": "1.5.0",
          "state": {
            "_model_module": "@jupyter-widgets/controls",
            "_model_module_version": "1.5.0",
            "_model_name": "DescriptionStyleModel",
            "_view_count": null,
            "_view_module": "@jupyter-widgets/base",
            "_view_module_version": "1.2.0",
            "_view_name": "StyleView",
            "description_width": ""
          }
        },
        "2d6608a6085846f9a084f69ec12bff8f": {
          "model_module": "@jupyter-widgets/base",
          "model_name": "LayoutModel",
          "model_module_version": "1.2.0",
          "state": {
            "_model_module": "@jupyter-widgets/base",
            "_model_module_version": "1.2.0",
            "_model_name": "LayoutModel",
            "_view_count": null,
            "_view_module": "@jupyter-widgets/base",
            "_view_module_version": "1.2.0",
            "_view_name": "LayoutView",
            "align_content": null,
            "align_items": null,
            "align_self": null,
            "border": null,
            "bottom": null,
            "display": null,
            "flex": null,
            "flex_flow": null,
            "grid_area": null,
            "grid_auto_columns": null,
            "grid_auto_flow": null,
            "grid_auto_rows": null,
            "grid_column": null,
            "grid_gap": null,
            "grid_row": null,
            "grid_template_areas": null,
            "grid_template_columns": null,
            "grid_template_rows": null,
            "height": null,
            "justify_content": null,
            "justify_items": null,
            "left": null,
            "margin": null,
            "max_height": null,
            "max_width": null,
            "min_height": null,
            "min_width": null,
            "object_fit": null,
            "object_position": null,
            "order": null,
            "overflow": null,
            "overflow_x": null,
            "overflow_y": null,
            "padding": null,
            "right": null,
            "top": null,
            "visibility": null,
            "width": null
          }
        },
        "35d4cfb04d484858a1ae9cb598c5f697": {
          "model_module": "@jupyter-widgets/controls",
          "model_name": "ProgressStyleModel",
          "model_module_version": "1.5.0",
          "state": {
            "_model_module": "@jupyter-widgets/controls",
            "_model_module_version": "1.5.0",
            "_model_name": "ProgressStyleModel",
            "_view_count": null,
            "_view_module": "@jupyter-widgets/base",
            "_view_module_version": "1.2.0",
            "_view_name": "StyleView",
            "bar_color": null,
            "description_width": ""
          }
        },
        "c0f2126f4dc648feaee04a40f42fa7c7": {
          "model_module": "@jupyter-widgets/base",
          "model_name": "LayoutModel",
          "model_module_version": "1.2.0",
          "state": {
            "_model_module": "@jupyter-widgets/base",
            "_model_module_version": "1.2.0",
            "_model_name": "LayoutModel",
            "_view_count": null,
            "_view_module": "@jupyter-widgets/base",
            "_view_module_version": "1.2.0",
            "_view_name": "LayoutView",
            "align_content": null,
            "align_items": null,
            "align_self": null,
            "border": null,
            "bottom": null,
            "display": null,
            "flex": null,
            "flex_flow": null,
            "grid_area": null,
            "grid_auto_columns": null,
            "grid_auto_flow": null,
            "grid_auto_rows": null,
            "grid_column": null,
            "grid_gap": null,
            "grid_row": null,
            "grid_template_areas": null,
            "grid_template_columns": null,
            "grid_template_rows": null,
            "height": null,
            "justify_content": null,
            "justify_items": null,
            "left": null,
            "margin": null,
            "max_height": null,
            "max_width": null,
            "min_height": null,
            "min_width": null,
            "object_fit": null,
            "object_position": null,
            "order": null,
            "overflow": null,
            "overflow_x": null,
            "overflow_y": null,
            "padding": null,
            "right": null,
            "top": null,
            "visibility": null,
            "width": null
          }
        },
        "8522d5d7c8f8491d9ebdb92325756cd4": {
          "model_module": "@jupyter-widgets/controls",
          "model_name": "DescriptionStyleModel",
          "model_module_version": "1.5.0",
          "state": {
            "_model_module": "@jupyter-widgets/controls",
            "_model_module_version": "1.5.0",
            "_model_name": "DescriptionStyleModel",
            "_view_count": null,
            "_view_module": "@jupyter-widgets/base",
            "_view_module_version": "1.2.0",
            "_view_name": "StyleView",
            "description_width": ""
          }
        },
        "fdbcb0e9fd744380a50cd4cc09b84350": {
          "model_module": "@jupyter-widgets/controls",
          "model_name": "HBoxModel",
          "model_module_version": "1.5.0",
          "state": {
            "_dom_classes": [],
            "_model_module": "@jupyter-widgets/controls",
            "_model_module_version": "1.5.0",
            "_model_name": "HBoxModel",
            "_view_count": null,
            "_view_module": "@jupyter-widgets/controls",
            "_view_module_version": "1.5.0",
            "_view_name": "HBoxView",
            "box_style": "",
            "children": [
              "IPY_MODEL_b5cf4aec9d41462b8baa6d8c8403afa8",
              "IPY_MODEL_ee9dcf2d1e4a40f3a5b4f43899a818b5",
              "IPY_MODEL_e732a879ab464b72a94468e3eb112f09"
            ],
            "layout": "IPY_MODEL_c41b6c371bd340719c40525be4630d5a"
          }
        },
        "b5cf4aec9d41462b8baa6d8c8403afa8": {
          "model_module": "@jupyter-widgets/controls",
          "model_name": "HTMLModel",
          "model_module_version": "1.5.0",
          "state": {
            "_dom_classes": [],
            "_model_module": "@jupyter-widgets/controls",
            "_model_module_version": "1.5.0",
            "_model_name": "HTMLModel",
            "_view_count": null,
            "_view_module": "@jupyter-widgets/controls",
            "_view_module_version": "1.5.0",
            "_view_name": "HTMLView",
            "description": "",
            "description_tooltip": null,
            "layout": "IPY_MODEL_8e3579849dd340e99cbf6f4b855349e4",
            "placeholder": "​",
            "style": "IPY_MODEL_4be0b40de2484428b0138d72ed082b30",
            "value": "Downloading (…)lve/main/config.json: 100%"
          }
        },
        "ee9dcf2d1e4a40f3a5b4f43899a818b5": {
          "model_module": "@jupyter-widgets/controls",
          "model_name": "FloatProgressModel",
          "model_module_version": "1.5.0",
          "state": {
            "_dom_classes": [],
            "_model_module": "@jupyter-widgets/controls",
            "_model_module_version": "1.5.0",
            "_model_name": "FloatProgressModel",
            "_view_count": null,
            "_view_module": "@jupyter-widgets/controls",
            "_view_module_version": "1.5.0",
            "_view_name": "ProgressView",
            "bar_style": "success",
            "description": "",
            "description_tooltip": null,
            "layout": "IPY_MODEL_f29d2728a8f844ff97e2bc626490d64b",
            "max": 665,
            "min": 0,
            "orientation": "horizontal",
            "style": "IPY_MODEL_414bbefeb75c43c596ce623f35f95643",
            "value": 665
          }
        },
        "e732a879ab464b72a94468e3eb112f09": {
          "model_module": "@jupyter-widgets/controls",
          "model_name": "HTMLModel",
          "model_module_version": "1.5.0",
          "state": {
            "_dom_classes": [],
            "_model_module": "@jupyter-widgets/controls",
            "_model_module_version": "1.5.0",
            "_model_name": "HTMLModel",
            "_view_count": null,
            "_view_module": "@jupyter-widgets/controls",
            "_view_module_version": "1.5.0",
            "_view_name": "HTMLView",
            "description": "",
            "description_tooltip": null,
            "layout": "IPY_MODEL_6414bd845a8c4f82bd0c5921a9ed835f",
            "placeholder": "​",
            "style": "IPY_MODEL_f7f0f442a2804d03becea0c185120b85",
            "value": " 665/665 [00:00&lt;00:00, 52.3kB/s]"
          }
        },
        "c41b6c371bd340719c40525be4630d5a": {
          "model_module": "@jupyter-widgets/base",
          "model_name": "LayoutModel",
          "model_module_version": "1.2.0",
          "state": {
            "_model_module": "@jupyter-widgets/base",
            "_model_module_version": "1.2.0",
            "_model_name": "LayoutModel",
            "_view_count": null,
            "_view_module": "@jupyter-widgets/base",
            "_view_module_version": "1.2.0",
            "_view_name": "LayoutView",
            "align_content": null,
            "align_items": null,
            "align_self": null,
            "border": null,
            "bottom": null,
            "display": null,
            "flex": null,
            "flex_flow": null,
            "grid_area": null,
            "grid_auto_columns": null,
            "grid_auto_flow": null,
            "grid_auto_rows": null,
            "grid_column": null,
            "grid_gap": null,
            "grid_row": null,
            "grid_template_areas": null,
            "grid_template_columns": null,
            "grid_template_rows": null,
            "height": null,
            "justify_content": null,
            "justify_items": null,
            "left": null,
            "margin": null,
            "max_height": null,
            "max_width": null,
            "min_height": null,
            "min_width": null,
            "object_fit": null,
            "object_position": null,
            "order": null,
            "overflow": null,
            "overflow_x": null,
            "overflow_y": null,
            "padding": null,
            "right": null,
            "top": null,
            "visibility": null,
            "width": null
          }
        },
        "8e3579849dd340e99cbf6f4b855349e4": {
          "model_module": "@jupyter-widgets/base",
          "model_name": "LayoutModel",
          "model_module_version": "1.2.0",
          "state": {
            "_model_module": "@jupyter-widgets/base",
            "_model_module_version": "1.2.0",
            "_model_name": "LayoutModel",
            "_view_count": null,
            "_view_module": "@jupyter-widgets/base",
            "_view_module_version": "1.2.0",
            "_view_name": "LayoutView",
            "align_content": null,
            "align_items": null,
            "align_self": null,
            "border": null,
            "bottom": null,
            "display": null,
            "flex": null,
            "flex_flow": null,
            "grid_area": null,
            "grid_auto_columns": null,
            "grid_auto_flow": null,
            "grid_auto_rows": null,
            "grid_column": null,
            "grid_gap": null,
            "grid_row": null,
            "grid_template_areas": null,
            "grid_template_columns": null,
            "grid_template_rows": null,
            "height": null,
            "justify_content": null,
            "justify_items": null,
            "left": null,
            "margin": null,
            "max_height": null,
            "max_width": null,
            "min_height": null,
            "min_width": null,
            "object_fit": null,
            "object_position": null,
            "order": null,
            "overflow": null,
            "overflow_x": null,
            "overflow_y": null,
            "padding": null,
            "right": null,
            "top": null,
            "visibility": null,
            "width": null
          }
        },
        "4be0b40de2484428b0138d72ed082b30": {
          "model_module": "@jupyter-widgets/controls",
          "model_name": "DescriptionStyleModel",
          "model_module_version": "1.5.0",
          "state": {
            "_model_module": "@jupyter-widgets/controls",
            "_model_module_version": "1.5.0",
            "_model_name": "DescriptionStyleModel",
            "_view_count": null,
            "_view_module": "@jupyter-widgets/base",
            "_view_module_version": "1.2.0",
            "_view_name": "StyleView",
            "description_width": ""
          }
        },
        "f29d2728a8f844ff97e2bc626490d64b": {
          "model_module": "@jupyter-widgets/base",
          "model_name": "LayoutModel",
          "model_module_version": "1.2.0",
          "state": {
            "_model_module": "@jupyter-widgets/base",
            "_model_module_version": "1.2.0",
            "_model_name": "LayoutModel",
            "_view_count": null,
            "_view_module": "@jupyter-widgets/base",
            "_view_module_version": "1.2.0",
            "_view_name": "LayoutView",
            "align_content": null,
            "align_items": null,
            "align_self": null,
            "border": null,
            "bottom": null,
            "display": null,
            "flex": null,
            "flex_flow": null,
            "grid_area": null,
            "grid_auto_columns": null,
            "grid_auto_flow": null,
            "grid_auto_rows": null,
            "grid_column": null,
            "grid_gap": null,
            "grid_row": null,
            "grid_template_areas": null,
            "grid_template_columns": null,
            "grid_template_rows": null,
            "height": null,
            "justify_content": null,
            "justify_items": null,
            "left": null,
            "margin": null,
            "max_height": null,
            "max_width": null,
            "min_height": null,
            "min_width": null,
            "object_fit": null,
            "object_position": null,
            "order": null,
            "overflow": null,
            "overflow_x": null,
            "overflow_y": null,
            "padding": null,
            "right": null,
            "top": null,
            "visibility": null,
            "width": null
          }
        },
        "414bbefeb75c43c596ce623f35f95643": {
          "model_module": "@jupyter-widgets/controls",
          "model_name": "ProgressStyleModel",
          "model_module_version": "1.5.0",
          "state": {
            "_model_module": "@jupyter-widgets/controls",
            "_model_module_version": "1.5.0",
            "_model_name": "ProgressStyleModel",
            "_view_count": null,
            "_view_module": "@jupyter-widgets/base",
            "_view_module_version": "1.2.0",
            "_view_name": "StyleView",
            "bar_color": null,
            "description_width": ""
          }
        },
        "6414bd845a8c4f82bd0c5921a9ed835f": {
          "model_module": "@jupyter-widgets/base",
          "model_name": "LayoutModel",
          "model_module_version": "1.2.0",
          "state": {
            "_model_module": "@jupyter-widgets/base",
            "_model_module_version": "1.2.0",
            "_model_name": "LayoutModel",
            "_view_count": null,
            "_view_module": "@jupyter-widgets/base",
            "_view_module_version": "1.2.0",
            "_view_name": "LayoutView",
            "align_content": null,
            "align_items": null,
            "align_self": null,
            "border": null,
            "bottom": null,
            "display": null,
            "flex": null,
            "flex_flow": null,
            "grid_area": null,
            "grid_auto_columns": null,
            "grid_auto_flow": null,
            "grid_auto_rows": null,
            "grid_column": null,
            "grid_gap": null,
            "grid_row": null,
            "grid_template_areas": null,
            "grid_template_columns": null,
            "grid_template_rows": null,
            "height": null,
            "justify_content": null,
            "justify_items": null,
            "left": null,
            "margin": null,
            "max_height": null,
            "max_width": null,
            "min_height": null,
            "min_width": null,
            "object_fit": null,
            "object_position": null,
            "order": null,
            "overflow": null,
            "overflow_x": null,
            "overflow_y": null,
            "padding": null,
            "right": null,
            "top": null,
            "visibility": null,
            "width": null
          }
        },
        "f7f0f442a2804d03becea0c185120b85": {
          "model_module": "@jupyter-widgets/controls",
          "model_name": "DescriptionStyleModel",
          "model_module_version": "1.5.0",
          "state": {
            "_model_module": "@jupyter-widgets/controls",
            "_model_module_version": "1.5.0",
            "_model_name": "DescriptionStyleModel",
            "_view_count": null,
            "_view_module": "@jupyter-widgets/base",
            "_view_module_version": "1.2.0",
            "_view_name": "StyleView",
            "description_width": ""
          }
        },
        "06a697c418244f0db6c8dc5920302192": {
          "model_module": "@jupyter-widgets/controls",
          "model_name": "HBoxModel",
          "model_module_version": "1.5.0",
          "state": {
            "_dom_classes": [],
            "_model_module": "@jupyter-widgets/controls",
            "_model_module_version": "1.5.0",
            "_model_name": "HBoxModel",
            "_view_count": null,
            "_view_module": "@jupyter-widgets/controls",
            "_view_module_version": "1.5.0",
            "_view_name": "HBoxView",
            "box_style": "",
            "children": [
              "IPY_MODEL_5d6dcfeab14345128f4d5a5ff5289842",
              "IPY_MODEL_7de28add8aee4fb4969a703aa92cff92",
              "IPY_MODEL_1acf8ac2fc384932804c12f9e202d567"
            ],
            "layout": "IPY_MODEL_eb954c42051947098b08710bd0fc8dd0"
          }
        },
        "5d6dcfeab14345128f4d5a5ff5289842": {
          "model_module": "@jupyter-widgets/controls",
          "model_name": "HTMLModel",
          "model_module_version": "1.5.0",
          "state": {
            "_dom_classes": [],
            "_model_module": "@jupyter-widgets/controls",
            "_model_module_version": "1.5.0",
            "_model_name": "HTMLModel",
            "_view_count": null,
            "_view_module": "@jupyter-widgets/controls",
            "_view_module_version": "1.5.0",
            "_view_name": "HTMLView",
            "description": "",
            "description_tooltip": null,
            "layout": "IPY_MODEL_7318bc1dc0804f1987a1f9672c804c88",
            "placeholder": "​",
            "style": "IPY_MODEL_b3fdc7b8ad984ec890f114003974872b",
            "value": "Downloading pytorch_model.bin: 100%"
          }
        },
        "7de28add8aee4fb4969a703aa92cff92": {
          "model_module": "@jupyter-widgets/controls",
          "model_name": "FloatProgressModel",
          "model_module_version": "1.5.0",
          "state": {
            "_dom_classes": [],
            "_model_module": "@jupyter-widgets/controls",
            "_model_module_version": "1.5.0",
            "_model_name": "FloatProgressModel",
            "_view_count": null,
            "_view_module": "@jupyter-widgets/controls",
            "_view_module_version": "1.5.0",
            "_view_name": "ProgressView",
            "bar_style": "success",
            "description": "",
            "description_tooltip": null,
            "layout": "IPY_MODEL_fd0b1cfa308d4d08a81eedbaa63822f2",
            "max": 548118077,
            "min": 0,
            "orientation": "horizontal",
            "style": "IPY_MODEL_e3d7f884ad444b719d8cfcbe0e2a37a6",
            "value": 548118077
          }
        },
        "1acf8ac2fc384932804c12f9e202d567": {
          "model_module": "@jupyter-widgets/controls",
          "model_name": "HTMLModel",
          "model_module_version": "1.5.0",
          "state": {
            "_dom_classes": [],
            "_model_module": "@jupyter-widgets/controls",
            "_model_module_version": "1.5.0",
            "_model_name": "HTMLModel",
            "_view_count": null,
            "_view_module": "@jupyter-widgets/controls",
            "_view_module_version": "1.5.0",
            "_view_name": "HTMLView",
            "description": "",
            "description_tooltip": null,
            "layout": "IPY_MODEL_ba55e12cc779483e89338edfc3939e13",
            "placeholder": "​",
            "style": "IPY_MODEL_b981f305ba16480080398031f625461b",
            "value": " 548M/548M [00:04&lt;00:00, 94.6MB/s]"
          }
        },
        "eb954c42051947098b08710bd0fc8dd0": {
          "model_module": "@jupyter-widgets/base",
          "model_name": "LayoutModel",
          "model_module_version": "1.2.0",
          "state": {
            "_model_module": "@jupyter-widgets/base",
            "_model_module_version": "1.2.0",
            "_model_name": "LayoutModel",
            "_view_count": null,
            "_view_module": "@jupyter-widgets/base",
            "_view_module_version": "1.2.0",
            "_view_name": "LayoutView",
            "align_content": null,
            "align_items": null,
            "align_self": null,
            "border": null,
            "bottom": null,
            "display": null,
            "flex": null,
            "flex_flow": null,
            "grid_area": null,
            "grid_auto_columns": null,
            "grid_auto_flow": null,
            "grid_auto_rows": null,
            "grid_column": null,
            "grid_gap": null,
            "grid_row": null,
            "grid_template_areas": null,
            "grid_template_columns": null,
            "grid_template_rows": null,
            "height": null,
            "justify_content": null,
            "justify_items": null,
            "left": null,
            "margin": null,
            "max_height": null,
            "max_width": null,
            "min_height": null,
            "min_width": null,
            "object_fit": null,
            "object_position": null,
            "order": null,
            "overflow": null,
            "overflow_x": null,
            "overflow_y": null,
            "padding": null,
            "right": null,
            "top": null,
            "visibility": null,
            "width": null
          }
        },
        "7318bc1dc0804f1987a1f9672c804c88": {
          "model_module": "@jupyter-widgets/base",
          "model_name": "LayoutModel",
          "model_module_version": "1.2.0",
          "state": {
            "_model_module": "@jupyter-widgets/base",
            "_model_module_version": "1.2.0",
            "_model_name": "LayoutModel",
            "_view_count": null,
            "_view_module": "@jupyter-widgets/base",
            "_view_module_version": "1.2.0",
            "_view_name": "LayoutView",
            "align_content": null,
            "align_items": null,
            "align_self": null,
            "border": null,
            "bottom": null,
            "display": null,
            "flex": null,
            "flex_flow": null,
            "grid_area": null,
            "grid_auto_columns": null,
            "grid_auto_flow": null,
            "grid_auto_rows": null,
            "grid_column": null,
            "grid_gap": null,
            "grid_row": null,
            "grid_template_areas": null,
            "grid_template_columns": null,
            "grid_template_rows": null,
            "height": null,
            "justify_content": null,
            "justify_items": null,
            "left": null,
            "margin": null,
            "max_height": null,
            "max_width": null,
            "min_height": null,
            "min_width": null,
            "object_fit": null,
            "object_position": null,
            "order": null,
            "overflow": null,
            "overflow_x": null,
            "overflow_y": null,
            "padding": null,
            "right": null,
            "top": null,
            "visibility": null,
            "width": null
          }
        },
        "b3fdc7b8ad984ec890f114003974872b": {
          "model_module": "@jupyter-widgets/controls",
          "model_name": "DescriptionStyleModel",
          "model_module_version": "1.5.0",
          "state": {
            "_model_module": "@jupyter-widgets/controls",
            "_model_module_version": "1.5.0",
            "_model_name": "DescriptionStyleModel",
            "_view_count": null,
            "_view_module": "@jupyter-widgets/base",
            "_view_module_version": "1.2.0",
            "_view_name": "StyleView",
            "description_width": ""
          }
        },
        "fd0b1cfa308d4d08a81eedbaa63822f2": {
          "model_module": "@jupyter-widgets/base",
          "model_name": "LayoutModel",
          "model_module_version": "1.2.0",
          "state": {
            "_model_module": "@jupyter-widgets/base",
            "_model_module_version": "1.2.0",
            "_model_name": "LayoutModel",
            "_view_count": null,
            "_view_module": "@jupyter-widgets/base",
            "_view_module_version": "1.2.0",
            "_view_name": "LayoutView",
            "align_content": null,
            "align_items": null,
            "align_self": null,
            "border": null,
            "bottom": null,
            "display": null,
            "flex": null,
            "flex_flow": null,
            "grid_area": null,
            "grid_auto_columns": null,
            "grid_auto_flow": null,
            "grid_auto_rows": null,
            "grid_column": null,
            "grid_gap": null,
            "grid_row": null,
            "grid_template_areas": null,
            "grid_template_columns": null,
            "grid_template_rows": null,
            "height": null,
            "justify_content": null,
            "justify_items": null,
            "left": null,
            "margin": null,
            "max_height": null,
            "max_width": null,
            "min_height": null,
            "min_width": null,
            "object_fit": null,
            "object_position": null,
            "order": null,
            "overflow": null,
            "overflow_x": null,
            "overflow_y": null,
            "padding": null,
            "right": null,
            "top": null,
            "visibility": null,
            "width": null
          }
        },
        "e3d7f884ad444b719d8cfcbe0e2a37a6": {
          "model_module": "@jupyter-widgets/controls",
          "model_name": "ProgressStyleModel",
          "model_module_version": "1.5.0",
          "state": {
            "_model_module": "@jupyter-widgets/controls",
            "_model_module_version": "1.5.0",
            "_model_name": "ProgressStyleModel",
            "_view_count": null,
            "_view_module": "@jupyter-widgets/base",
            "_view_module_version": "1.2.0",
            "_view_name": "StyleView",
            "bar_color": null,
            "description_width": ""
          }
        },
        "ba55e12cc779483e89338edfc3939e13": {
          "model_module": "@jupyter-widgets/base",
          "model_name": "LayoutModel",
          "model_module_version": "1.2.0",
          "state": {
            "_model_module": "@jupyter-widgets/base",
            "_model_module_version": "1.2.0",
            "_model_name": "LayoutModel",
            "_view_count": null,
            "_view_module": "@jupyter-widgets/base",
            "_view_module_version": "1.2.0",
            "_view_name": "LayoutView",
            "align_content": null,
            "align_items": null,
            "align_self": null,
            "border": null,
            "bottom": null,
            "display": null,
            "flex": null,
            "flex_flow": null,
            "grid_area": null,
            "grid_auto_columns": null,
            "grid_auto_flow": null,
            "grid_auto_rows": null,
            "grid_column": null,
            "grid_gap": null,
            "grid_row": null,
            "grid_template_areas": null,
            "grid_template_columns": null,
            "grid_template_rows": null,
            "height": null,
            "justify_content": null,
            "justify_items": null,
            "left": null,
            "margin": null,
            "max_height": null,
            "max_width": null,
            "min_height": null,
            "min_width": null,
            "object_fit": null,
            "object_position": null,
            "order": null,
            "overflow": null,
            "overflow_x": null,
            "overflow_y": null,
            "padding": null,
            "right": null,
            "top": null,
            "visibility": null,
            "width": null
          }
        },
        "b981f305ba16480080398031f625461b": {
          "model_module": "@jupyter-widgets/controls",
          "model_name": "DescriptionStyleModel",
          "model_module_version": "1.5.0",
          "state": {
            "_model_module": "@jupyter-widgets/controls",
            "_model_module_version": "1.5.0",
            "_model_name": "DescriptionStyleModel",
            "_view_count": null,
            "_view_module": "@jupyter-widgets/base",
            "_view_module_version": "1.2.0",
            "_view_name": "StyleView",
            "description_width": ""
          }
        },
        "c693e6e2fc3d4b7da16c51102af5196a": {
          "model_module": "@jupyter-widgets/controls",
          "model_name": "HBoxModel",
          "model_module_version": "1.5.0",
          "state": {
            "_dom_classes": [],
            "_model_module": "@jupyter-widgets/controls",
            "_model_module_version": "1.5.0",
            "_model_name": "HBoxModel",
            "_view_count": null,
            "_view_module": "@jupyter-widgets/controls",
            "_view_module_version": "1.5.0",
            "_view_name": "HBoxView",
            "box_style": "",
            "children": [
              "IPY_MODEL_36ba8d376fe7422fb0751cc114942b17",
              "IPY_MODEL_4479d2e65b864813a9033467cb4facf3",
              "IPY_MODEL_7c3373936718499682ea67f3c4982508"
            ],
            "layout": "IPY_MODEL_c0980242988a44dd9d6a686043d1dc74"
          }
        },
        "36ba8d376fe7422fb0751cc114942b17": {
          "model_module": "@jupyter-widgets/controls",
          "model_name": "HTMLModel",
          "model_module_version": "1.5.0",
          "state": {
            "_dom_classes": [],
            "_model_module": "@jupyter-widgets/controls",
            "_model_module_version": "1.5.0",
            "_model_name": "HTMLModel",
            "_view_count": null,
            "_view_module": "@jupyter-widgets/controls",
            "_view_module_version": "1.5.0",
            "_view_name": "HTMLView",
            "description": "",
            "description_tooltip": null,
            "layout": "IPY_MODEL_36a04977eb6942d59c4ee73a79063d23",
            "placeholder": "​",
            "style": "IPY_MODEL_5e4ec4d033d541e49cbdb37dd4195d84",
            "value": "Downloading (…)neration_config.json: 100%"
          }
        },
        "4479d2e65b864813a9033467cb4facf3": {
          "model_module": "@jupyter-widgets/controls",
          "model_name": "FloatProgressModel",
          "model_module_version": "1.5.0",
          "state": {
            "_dom_classes": [],
            "_model_module": "@jupyter-widgets/controls",
            "_model_module_version": "1.5.0",
            "_model_name": "FloatProgressModel",
            "_view_count": null,
            "_view_module": "@jupyter-widgets/controls",
            "_view_module_version": "1.5.0",
            "_view_name": "ProgressView",
            "bar_style": "success",
            "description": "",
            "description_tooltip": null,
            "layout": "IPY_MODEL_373cc9b474254c5695867816ea75f9cb",
            "max": 124,
            "min": 0,
            "orientation": "horizontal",
            "style": "IPY_MODEL_8fc4a1ed4d7c43a1ba6337ac63cac3a8",
            "value": 124
          }
        },
        "7c3373936718499682ea67f3c4982508": {
          "model_module": "@jupyter-widgets/controls",
          "model_name": "HTMLModel",
          "model_module_version": "1.5.0",
          "state": {
            "_dom_classes": [],
            "_model_module": "@jupyter-widgets/controls",
            "_model_module_version": "1.5.0",
            "_model_name": "HTMLModel",
            "_view_count": null,
            "_view_module": "@jupyter-widgets/controls",
            "_view_module_version": "1.5.0",
            "_view_name": "HTMLView",
            "description": "",
            "description_tooltip": null,
            "layout": "IPY_MODEL_1c5774b4e9f34c8ca1d7be79fc37b0fe",
            "placeholder": "​",
            "style": "IPY_MODEL_7dfa11d685a748c68cf991b43f0dc3a2",
            "value": " 124/124 [00:00&lt;00:00, 7.17kB/s]"
          }
        },
        "c0980242988a44dd9d6a686043d1dc74": {
          "model_module": "@jupyter-widgets/base",
          "model_name": "LayoutModel",
          "model_module_version": "1.2.0",
          "state": {
            "_model_module": "@jupyter-widgets/base",
            "_model_module_version": "1.2.0",
            "_model_name": "LayoutModel",
            "_view_count": null,
            "_view_module": "@jupyter-widgets/base",
            "_view_module_version": "1.2.0",
            "_view_name": "LayoutView",
            "align_content": null,
            "align_items": null,
            "align_self": null,
            "border": null,
            "bottom": null,
            "display": null,
            "flex": null,
            "flex_flow": null,
            "grid_area": null,
            "grid_auto_columns": null,
            "grid_auto_flow": null,
            "grid_auto_rows": null,
            "grid_column": null,
            "grid_gap": null,
            "grid_row": null,
            "grid_template_areas": null,
            "grid_template_columns": null,
            "grid_template_rows": null,
            "height": null,
            "justify_content": null,
            "justify_items": null,
            "left": null,
            "margin": null,
            "max_height": null,
            "max_width": null,
            "min_height": null,
            "min_width": null,
            "object_fit": null,
            "object_position": null,
            "order": null,
            "overflow": null,
            "overflow_x": null,
            "overflow_y": null,
            "padding": null,
            "right": null,
            "top": null,
            "visibility": null,
            "width": null
          }
        },
        "36a04977eb6942d59c4ee73a79063d23": {
          "model_module": "@jupyter-widgets/base",
          "model_name": "LayoutModel",
          "model_module_version": "1.2.0",
          "state": {
            "_model_module": "@jupyter-widgets/base",
            "_model_module_version": "1.2.0",
            "_model_name": "LayoutModel",
            "_view_count": null,
            "_view_module": "@jupyter-widgets/base",
            "_view_module_version": "1.2.0",
            "_view_name": "LayoutView",
            "align_content": null,
            "align_items": null,
            "align_self": null,
            "border": null,
            "bottom": null,
            "display": null,
            "flex": null,
            "flex_flow": null,
            "grid_area": null,
            "grid_auto_columns": null,
            "grid_auto_flow": null,
            "grid_auto_rows": null,
            "grid_column": null,
            "grid_gap": null,
            "grid_row": null,
            "grid_template_areas": null,
            "grid_template_columns": null,
            "grid_template_rows": null,
            "height": null,
            "justify_content": null,
            "justify_items": null,
            "left": null,
            "margin": null,
            "max_height": null,
            "max_width": null,
            "min_height": null,
            "min_width": null,
            "object_fit": null,
            "object_position": null,
            "order": null,
            "overflow": null,
            "overflow_x": null,
            "overflow_y": null,
            "padding": null,
            "right": null,
            "top": null,
            "visibility": null,
            "width": null
          }
        },
        "5e4ec4d033d541e49cbdb37dd4195d84": {
          "model_module": "@jupyter-widgets/controls",
          "model_name": "DescriptionStyleModel",
          "model_module_version": "1.5.0",
          "state": {
            "_model_module": "@jupyter-widgets/controls",
            "_model_module_version": "1.5.0",
            "_model_name": "DescriptionStyleModel",
            "_view_count": null,
            "_view_module": "@jupyter-widgets/base",
            "_view_module_version": "1.2.0",
            "_view_name": "StyleView",
            "description_width": ""
          }
        },
        "373cc9b474254c5695867816ea75f9cb": {
          "model_module": "@jupyter-widgets/base",
          "model_name": "LayoutModel",
          "model_module_version": "1.2.0",
          "state": {
            "_model_module": "@jupyter-widgets/base",
            "_model_module_version": "1.2.0",
            "_model_name": "LayoutModel",
            "_view_count": null,
            "_view_module": "@jupyter-widgets/base",
            "_view_module_version": "1.2.0",
            "_view_name": "LayoutView",
            "align_content": null,
            "align_items": null,
            "align_self": null,
            "border": null,
            "bottom": null,
            "display": null,
            "flex": null,
            "flex_flow": null,
            "grid_area": null,
            "grid_auto_columns": null,
            "grid_auto_flow": null,
            "grid_auto_rows": null,
            "grid_column": null,
            "grid_gap": null,
            "grid_row": null,
            "grid_template_areas": null,
            "grid_template_columns": null,
            "grid_template_rows": null,
            "height": null,
            "justify_content": null,
            "justify_items": null,
            "left": null,
            "margin": null,
            "max_height": null,
            "max_width": null,
            "min_height": null,
            "min_width": null,
            "object_fit": null,
            "object_position": null,
            "order": null,
            "overflow": null,
            "overflow_x": null,
            "overflow_y": null,
            "padding": null,
            "right": null,
            "top": null,
            "visibility": null,
            "width": null
          }
        },
        "8fc4a1ed4d7c43a1ba6337ac63cac3a8": {
          "model_module": "@jupyter-widgets/controls",
          "model_name": "ProgressStyleModel",
          "model_module_version": "1.5.0",
          "state": {
            "_model_module": "@jupyter-widgets/controls",
            "_model_module_version": "1.5.0",
            "_model_name": "ProgressStyleModel",
            "_view_count": null,
            "_view_module": "@jupyter-widgets/base",
            "_view_module_version": "1.2.0",
            "_view_name": "StyleView",
            "bar_color": null,
            "description_width": ""
          }
        },
        "1c5774b4e9f34c8ca1d7be79fc37b0fe": {
          "model_module": "@jupyter-widgets/base",
          "model_name": "LayoutModel",
          "model_module_version": "1.2.0",
          "state": {
            "_model_module": "@jupyter-widgets/base",
            "_model_module_version": "1.2.0",
            "_model_name": "LayoutModel",
            "_view_count": null,
            "_view_module": "@jupyter-widgets/base",
            "_view_module_version": "1.2.0",
            "_view_name": "LayoutView",
            "align_content": null,
            "align_items": null,
            "align_self": null,
            "border": null,
            "bottom": null,
            "display": null,
            "flex": null,
            "flex_flow": null,
            "grid_area": null,
            "grid_auto_columns": null,
            "grid_auto_flow": null,
            "grid_auto_rows": null,
            "grid_column": null,
            "grid_gap": null,
            "grid_row": null,
            "grid_template_areas": null,
            "grid_template_columns": null,
            "grid_template_rows": null,
            "height": null,
            "justify_content": null,
            "justify_items": null,
            "left": null,
            "margin": null,
            "max_height": null,
            "max_width": null,
            "min_height": null,
            "min_width": null,
            "object_fit": null,
            "object_position": null,
            "order": null,
            "overflow": null,
            "overflow_x": null,
            "overflow_y": null,
            "padding": null,
            "right": null,
            "top": null,
            "visibility": null,
            "width": null
          }
        },
        "7dfa11d685a748c68cf991b43f0dc3a2": {
          "model_module": "@jupyter-widgets/controls",
          "model_name": "DescriptionStyleModel",
          "model_module_version": "1.5.0",
          "state": {
            "_model_module": "@jupyter-widgets/controls",
            "_model_module_version": "1.5.0",
            "_model_name": "DescriptionStyleModel",
            "_view_count": null,
            "_view_module": "@jupyter-widgets/base",
            "_view_module_version": "1.2.0",
            "_view_name": "StyleView",
            "description_width": ""
          }
        },
        "e0b17390664c4071a8994f4aabf17fae": {
          "model_module": "@jupyter-widgets/controls",
          "model_name": "HBoxModel",
          "model_module_version": "1.5.0",
          "state": {
            "_dom_classes": [],
            "_model_module": "@jupyter-widgets/controls",
            "_model_module_version": "1.5.0",
            "_model_name": "HBoxModel",
            "_view_count": null,
            "_view_module": "@jupyter-widgets/controls",
            "_view_module_version": "1.5.0",
            "_view_name": "HBoxView",
            "box_style": "",
            "children": [
              "IPY_MODEL_3e801a1260b64ebe924536b65d5526dc",
              "IPY_MODEL_81fb564217f540d6a9fd3da9bbfc049f",
              "IPY_MODEL_b98a495cdd524a8cb1e324f06e9e8449"
            ],
            "layout": "IPY_MODEL_85add5efd7474ec6b3e04ebcd1205e77"
          }
        },
        "3e801a1260b64ebe924536b65d5526dc": {
          "model_module": "@jupyter-widgets/controls",
          "model_name": "HTMLModel",
          "model_module_version": "1.5.0",
          "state": {
            "_dom_classes": [],
            "_model_module": "@jupyter-widgets/controls",
            "_model_module_version": "1.5.0",
            "_model_name": "HTMLModel",
            "_view_count": null,
            "_view_module": "@jupyter-widgets/controls",
            "_view_module_version": "1.5.0",
            "_view_name": "HTMLView",
            "description": "",
            "description_tooltip": null,
            "layout": "IPY_MODEL_f32c02b8af564e1083af3149c331a778",
            "placeholder": "​",
            "style": "IPY_MODEL_4ecf45a5dfa946f998845db2f70d5093",
            "value": "Map (num_proc=5):  91%"
          }
        },
        "81fb564217f540d6a9fd3da9bbfc049f": {
          "model_module": "@jupyter-widgets/controls",
          "model_name": "FloatProgressModel",
          "model_module_version": "1.5.0",
          "state": {
            "_dom_classes": [],
            "_model_module": "@jupyter-widgets/controls",
            "_model_module_version": "1.5.0",
            "_model_name": "FloatProgressModel",
            "_view_count": null,
            "_view_module": "@jupyter-widgets/controls",
            "_view_module_version": "1.5.0",
            "_view_name": "ProgressView",
            "bar_style": "",
            "description": "",
            "description_tooltip": null,
            "layout": "IPY_MODEL_e8dfdbaa3a974b87a7718357ec51460b",
            "max": 9000,
            "min": 0,
            "orientation": "horizontal",
            "style": "IPY_MODEL_b50fdfbe0263476383dd8e81f288cf6d",
            "value": 9000
          }
        },
        "b98a495cdd524a8cb1e324f06e9e8449": {
          "model_module": "@jupyter-widgets/controls",
          "model_name": "HTMLModel",
          "model_module_version": "1.5.0",
          "state": {
            "_dom_classes": [],
            "_model_module": "@jupyter-widgets/controls",
            "_model_module_version": "1.5.0",
            "_model_name": "HTMLModel",
            "_view_count": null,
            "_view_module": "@jupyter-widgets/controls",
            "_view_module_version": "1.5.0",
            "_view_name": "HTMLView",
            "description": "",
            "description_tooltip": null,
            "layout": "IPY_MODEL_7e5bcfd3528c457892a9bab5540c3aed",
            "placeholder": "​",
            "style": "IPY_MODEL_52715a1c94404fbca274473407728d13",
            "value": " 8200/9000 [00:02&lt;00:00, 4779.41 examples/s]"
          }
        },
        "85add5efd7474ec6b3e04ebcd1205e77": {
          "model_module": "@jupyter-widgets/base",
          "model_name": "LayoutModel",
          "model_module_version": "1.2.0",
          "state": {
            "_model_module": "@jupyter-widgets/base",
            "_model_module_version": "1.2.0",
            "_model_name": "LayoutModel",
            "_view_count": null,
            "_view_module": "@jupyter-widgets/base",
            "_view_module_version": "1.2.0",
            "_view_name": "LayoutView",
            "align_content": null,
            "align_items": null,
            "align_self": null,
            "border": null,
            "bottom": null,
            "display": null,
            "flex": null,
            "flex_flow": null,
            "grid_area": null,
            "grid_auto_columns": null,
            "grid_auto_flow": null,
            "grid_auto_rows": null,
            "grid_column": null,
            "grid_gap": null,
            "grid_row": null,
            "grid_template_areas": null,
            "grid_template_columns": null,
            "grid_template_rows": null,
            "height": null,
            "justify_content": null,
            "justify_items": null,
            "left": null,
            "margin": null,
            "max_height": null,
            "max_width": null,
            "min_height": null,
            "min_width": null,
            "object_fit": null,
            "object_position": null,
            "order": null,
            "overflow": null,
            "overflow_x": null,
            "overflow_y": null,
            "padding": null,
            "right": null,
            "top": null,
            "visibility": "hidden",
            "width": null
          }
        },
        "f32c02b8af564e1083af3149c331a778": {
          "model_module": "@jupyter-widgets/base",
          "model_name": "LayoutModel",
          "model_module_version": "1.2.0",
          "state": {
            "_model_module": "@jupyter-widgets/base",
            "_model_module_version": "1.2.0",
            "_model_name": "LayoutModel",
            "_view_count": null,
            "_view_module": "@jupyter-widgets/base",
            "_view_module_version": "1.2.0",
            "_view_name": "LayoutView",
            "align_content": null,
            "align_items": null,
            "align_self": null,
            "border": null,
            "bottom": null,
            "display": null,
            "flex": null,
            "flex_flow": null,
            "grid_area": null,
            "grid_auto_columns": null,
            "grid_auto_flow": null,
            "grid_auto_rows": null,
            "grid_column": null,
            "grid_gap": null,
            "grid_row": null,
            "grid_template_areas": null,
            "grid_template_columns": null,
            "grid_template_rows": null,
            "height": null,
            "justify_content": null,
            "justify_items": null,
            "left": null,
            "margin": null,
            "max_height": null,
            "max_width": null,
            "min_height": null,
            "min_width": null,
            "object_fit": null,
            "object_position": null,
            "order": null,
            "overflow": null,
            "overflow_x": null,
            "overflow_y": null,
            "padding": null,
            "right": null,
            "top": null,
            "visibility": null,
            "width": null
          }
        },
        "4ecf45a5dfa946f998845db2f70d5093": {
          "model_module": "@jupyter-widgets/controls",
          "model_name": "DescriptionStyleModel",
          "model_module_version": "1.5.0",
          "state": {
            "_model_module": "@jupyter-widgets/controls",
            "_model_module_version": "1.5.0",
            "_model_name": "DescriptionStyleModel",
            "_view_count": null,
            "_view_module": "@jupyter-widgets/base",
            "_view_module_version": "1.2.0",
            "_view_name": "StyleView",
            "description_width": ""
          }
        },
        "e8dfdbaa3a974b87a7718357ec51460b": {
          "model_module": "@jupyter-widgets/base",
          "model_name": "LayoutModel",
          "model_module_version": "1.2.0",
          "state": {
            "_model_module": "@jupyter-widgets/base",
            "_model_module_version": "1.2.0",
            "_model_name": "LayoutModel",
            "_view_count": null,
            "_view_module": "@jupyter-widgets/base",
            "_view_module_version": "1.2.0",
            "_view_name": "LayoutView",
            "align_content": null,
            "align_items": null,
            "align_self": null,
            "border": null,
            "bottom": null,
            "display": null,
            "flex": null,
            "flex_flow": null,
            "grid_area": null,
            "grid_auto_columns": null,
            "grid_auto_flow": null,
            "grid_auto_rows": null,
            "grid_column": null,
            "grid_gap": null,
            "grid_row": null,
            "grid_template_areas": null,
            "grid_template_columns": null,
            "grid_template_rows": null,
            "height": null,
            "justify_content": null,
            "justify_items": null,
            "left": null,
            "margin": null,
            "max_height": null,
            "max_width": null,
            "min_height": null,
            "min_width": null,
            "object_fit": null,
            "object_position": null,
            "order": null,
            "overflow": null,
            "overflow_x": null,
            "overflow_y": null,
            "padding": null,
            "right": null,
            "top": null,
            "visibility": null,
            "width": null
          }
        },
        "b50fdfbe0263476383dd8e81f288cf6d": {
          "model_module": "@jupyter-widgets/controls",
          "model_name": "ProgressStyleModel",
          "model_module_version": "1.5.0",
          "state": {
            "_model_module": "@jupyter-widgets/controls",
            "_model_module_version": "1.5.0",
            "_model_name": "ProgressStyleModel",
            "_view_count": null,
            "_view_module": "@jupyter-widgets/base",
            "_view_module_version": "1.2.0",
            "_view_name": "StyleView",
            "bar_color": null,
            "description_width": ""
          }
        },
        "7e5bcfd3528c457892a9bab5540c3aed": {
          "model_module": "@jupyter-widgets/base",
          "model_name": "LayoutModel",
          "model_module_version": "1.2.0",
          "state": {
            "_model_module": "@jupyter-widgets/base",
            "_model_module_version": "1.2.0",
            "_model_name": "LayoutModel",
            "_view_count": null,
            "_view_module": "@jupyter-widgets/base",
            "_view_module_version": "1.2.0",
            "_view_name": "LayoutView",
            "align_content": null,
            "align_items": null,
            "align_self": null,
            "border": null,
            "bottom": null,
            "display": null,
            "flex": null,
            "flex_flow": null,
            "grid_area": null,
            "grid_auto_columns": null,
            "grid_auto_flow": null,
            "grid_auto_rows": null,
            "grid_column": null,
            "grid_gap": null,
            "grid_row": null,
            "grid_template_areas": null,
            "grid_template_columns": null,
            "grid_template_rows": null,
            "height": null,
            "justify_content": null,
            "justify_items": null,
            "left": null,
            "margin": null,
            "max_height": null,
            "max_width": null,
            "min_height": null,
            "min_width": null,
            "object_fit": null,
            "object_position": null,
            "order": null,
            "overflow": null,
            "overflow_x": null,
            "overflow_y": null,
            "padding": null,
            "right": null,
            "top": null,
            "visibility": null,
            "width": null
          }
        },
        "52715a1c94404fbca274473407728d13": {
          "model_module": "@jupyter-widgets/controls",
          "model_name": "DescriptionStyleModel",
          "model_module_version": "1.5.0",
          "state": {
            "_model_module": "@jupyter-widgets/controls",
            "_model_module_version": "1.5.0",
            "_model_name": "DescriptionStyleModel",
            "_view_count": null,
            "_view_module": "@jupyter-widgets/base",
            "_view_module_version": "1.2.0",
            "_view_name": "StyleView",
            "description_width": ""
          }
        },
        "d4d314a0fb024fc0bd1fa5828cb7d667": {
          "model_module": "@jupyter-widgets/controls",
          "model_name": "HBoxModel",
          "model_module_version": "1.5.0",
          "state": {
            "_dom_classes": [],
            "_model_module": "@jupyter-widgets/controls",
            "_model_module_version": "1.5.0",
            "_model_name": "HBoxModel",
            "_view_count": null,
            "_view_module": "@jupyter-widgets/controls",
            "_view_module_version": "1.5.0",
            "_view_name": "HBoxView",
            "box_style": "",
            "children": [
              "IPY_MODEL_81e55999a3a74746b5b7ef4d9d668747",
              "IPY_MODEL_dd4148eb265540b4abd7cd6c0762b175",
              "IPY_MODEL_a22e7d613c824fc397f8f767c51bf073"
            ],
            "layout": "IPY_MODEL_a804ec47f6934086bfa0746bbf3711e0"
          }
        },
        "81e55999a3a74746b5b7ef4d9d668747": {
          "model_module": "@jupyter-widgets/controls",
          "model_name": "HTMLModel",
          "model_module_version": "1.5.0",
          "state": {
            "_dom_classes": [],
            "_model_module": "@jupyter-widgets/controls",
            "_model_module_version": "1.5.0",
            "_model_name": "HTMLModel",
            "_view_count": null,
            "_view_module": "@jupyter-widgets/controls",
            "_view_module_version": "1.5.0",
            "_view_name": "HTMLView",
            "description": "",
            "description_tooltip": null,
            "layout": "IPY_MODEL_ba5fbf3152c34cddab903a46005b8407",
            "placeholder": "​",
            "style": "IPY_MODEL_62b5cdf0b03a4e7cbd39e4c4c29d1f05",
            "value": "Map (num_proc=5):  20%"
          }
        },
        "dd4148eb265540b4abd7cd6c0762b175": {
          "model_module": "@jupyter-widgets/controls",
          "model_name": "FloatProgressModel",
          "model_module_version": "1.5.0",
          "state": {
            "_dom_classes": [],
            "_model_module": "@jupyter-widgets/controls",
            "_model_module_version": "1.5.0",
            "_model_name": "FloatProgressModel",
            "_view_count": null,
            "_view_module": "@jupyter-widgets/controls",
            "_view_module_version": "1.5.0",
            "_view_name": "ProgressView",
            "bar_style": "",
            "description": "",
            "description_tooltip": null,
            "layout": "IPY_MODEL_8c545d20271d42efaf0ea742a609d510",
            "max": 1000,
            "min": 0,
            "orientation": "horizontal",
            "style": "IPY_MODEL_d762a85148174742a00f8790d36e89f6",
            "value": 1000
          }
        },
        "a22e7d613c824fc397f8f767c51bf073": {
          "model_module": "@jupyter-widgets/controls",
          "model_name": "HTMLModel",
          "model_module_version": "1.5.0",
          "state": {
            "_dom_classes": [],
            "_model_module": "@jupyter-widgets/controls",
            "_model_module_version": "1.5.0",
            "_model_name": "HTMLModel",
            "_view_count": null,
            "_view_module": "@jupyter-widgets/controls",
            "_view_module_version": "1.5.0",
            "_view_name": "HTMLView",
            "description": "",
            "description_tooltip": null,
            "layout": "IPY_MODEL_d32498aac5124710b52a517705724908",
            "placeholder": "​",
            "style": "IPY_MODEL_3e139a7c5b7c4578a3f73c032bca6cfa",
            "value": " 200/1000 [00:00&lt;00:01, 446.82 examples/s]"
          }
        },
        "a804ec47f6934086bfa0746bbf3711e0": {
          "model_module": "@jupyter-widgets/base",
          "model_name": "LayoutModel",
          "model_module_version": "1.2.0",
          "state": {
            "_model_module": "@jupyter-widgets/base",
            "_model_module_version": "1.2.0",
            "_model_name": "LayoutModel",
            "_view_count": null,
            "_view_module": "@jupyter-widgets/base",
            "_view_module_version": "1.2.0",
            "_view_name": "LayoutView",
            "align_content": null,
            "align_items": null,
            "align_self": null,
            "border": null,
            "bottom": null,
            "display": null,
            "flex": null,
            "flex_flow": null,
            "grid_area": null,
            "grid_auto_columns": null,
            "grid_auto_flow": null,
            "grid_auto_rows": null,
            "grid_column": null,
            "grid_gap": null,
            "grid_row": null,
            "grid_template_areas": null,
            "grid_template_columns": null,
            "grid_template_rows": null,
            "height": null,
            "justify_content": null,
            "justify_items": null,
            "left": null,
            "margin": null,
            "max_height": null,
            "max_width": null,
            "min_height": null,
            "min_width": null,
            "object_fit": null,
            "object_position": null,
            "order": null,
            "overflow": null,
            "overflow_x": null,
            "overflow_y": null,
            "padding": null,
            "right": null,
            "top": null,
            "visibility": "hidden",
            "width": null
          }
        },
        "ba5fbf3152c34cddab903a46005b8407": {
          "model_module": "@jupyter-widgets/base",
          "model_name": "LayoutModel",
          "model_module_version": "1.2.0",
          "state": {
            "_model_module": "@jupyter-widgets/base",
            "_model_module_version": "1.2.0",
            "_model_name": "LayoutModel",
            "_view_count": null,
            "_view_module": "@jupyter-widgets/base",
            "_view_module_version": "1.2.0",
            "_view_name": "LayoutView",
            "align_content": null,
            "align_items": null,
            "align_self": null,
            "border": null,
            "bottom": null,
            "display": null,
            "flex": null,
            "flex_flow": null,
            "grid_area": null,
            "grid_auto_columns": null,
            "grid_auto_flow": null,
            "grid_auto_rows": null,
            "grid_column": null,
            "grid_gap": null,
            "grid_row": null,
            "grid_template_areas": null,
            "grid_template_columns": null,
            "grid_template_rows": null,
            "height": null,
            "justify_content": null,
            "justify_items": null,
            "left": null,
            "margin": null,
            "max_height": null,
            "max_width": null,
            "min_height": null,
            "min_width": null,
            "object_fit": null,
            "object_position": null,
            "order": null,
            "overflow": null,
            "overflow_x": null,
            "overflow_y": null,
            "padding": null,
            "right": null,
            "top": null,
            "visibility": null,
            "width": null
          }
        },
        "62b5cdf0b03a4e7cbd39e4c4c29d1f05": {
          "model_module": "@jupyter-widgets/controls",
          "model_name": "DescriptionStyleModel",
          "model_module_version": "1.5.0",
          "state": {
            "_model_module": "@jupyter-widgets/controls",
            "_model_module_version": "1.5.0",
            "_model_name": "DescriptionStyleModel",
            "_view_count": null,
            "_view_module": "@jupyter-widgets/base",
            "_view_module_version": "1.2.0",
            "_view_name": "StyleView",
            "description_width": ""
          }
        },
        "8c545d20271d42efaf0ea742a609d510": {
          "model_module": "@jupyter-widgets/base",
          "model_name": "LayoutModel",
          "model_module_version": "1.2.0",
          "state": {
            "_model_module": "@jupyter-widgets/base",
            "_model_module_version": "1.2.0",
            "_model_name": "LayoutModel",
            "_view_count": null,
            "_view_module": "@jupyter-widgets/base",
            "_view_module_version": "1.2.0",
            "_view_name": "LayoutView",
            "align_content": null,
            "align_items": null,
            "align_self": null,
            "border": null,
            "bottom": null,
            "display": null,
            "flex": null,
            "flex_flow": null,
            "grid_area": null,
            "grid_auto_columns": null,
            "grid_auto_flow": null,
            "grid_auto_rows": null,
            "grid_column": null,
            "grid_gap": null,
            "grid_row": null,
            "grid_template_areas": null,
            "grid_template_columns": null,
            "grid_template_rows": null,
            "height": null,
            "justify_content": null,
            "justify_items": null,
            "left": null,
            "margin": null,
            "max_height": null,
            "max_width": null,
            "min_height": null,
            "min_width": null,
            "object_fit": null,
            "object_position": null,
            "order": null,
            "overflow": null,
            "overflow_x": null,
            "overflow_y": null,
            "padding": null,
            "right": null,
            "top": null,
            "visibility": null,
            "width": null
          }
        },
        "d762a85148174742a00f8790d36e89f6": {
          "model_module": "@jupyter-widgets/controls",
          "model_name": "ProgressStyleModel",
          "model_module_version": "1.5.0",
          "state": {
            "_model_module": "@jupyter-widgets/controls",
            "_model_module_version": "1.5.0",
            "_model_name": "ProgressStyleModel",
            "_view_count": null,
            "_view_module": "@jupyter-widgets/base",
            "_view_module_version": "1.2.0",
            "_view_name": "StyleView",
            "bar_color": null,
            "description_width": ""
          }
        },
        "d32498aac5124710b52a517705724908": {
          "model_module": "@jupyter-widgets/base",
          "model_name": "LayoutModel",
          "model_module_version": "1.2.0",
          "state": {
            "_model_module": "@jupyter-widgets/base",
            "_model_module_version": "1.2.0",
            "_model_name": "LayoutModel",
            "_view_count": null,
            "_view_module": "@jupyter-widgets/base",
            "_view_module_version": "1.2.0",
            "_view_name": "LayoutView",
            "align_content": null,
            "align_items": null,
            "align_self": null,
            "border": null,
            "bottom": null,
            "display": null,
            "flex": null,
            "flex_flow": null,
            "grid_area": null,
            "grid_auto_columns": null,
            "grid_auto_flow": null,
            "grid_auto_rows": null,
            "grid_column": null,
            "grid_gap": null,
            "grid_row": null,
            "grid_template_areas": null,
            "grid_template_columns": null,
            "grid_template_rows": null,
            "height": null,
            "justify_content": null,
            "justify_items": null,
            "left": null,
            "margin": null,
            "max_height": null,
            "max_width": null,
            "min_height": null,
            "min_width": null,
            "object_fit": null,
            "object_position": null,
            "order": null,
            "overflow": null,
            "overflow_x": null,
            "overflow_y": null,
            "padding": null,
            "right": null,
            "top": null,
            "visibility": null,
            "width": null
          }
        },
        "3e139a7c5b7c4578a3f73c032bca6cfa": {
          "model_module": "@jupyter-widgets/controls",
          "model_name": "DescriptionStyleModel",
          "model_module_version": "1.5.0",
          "state": {
            "_model_module": "@jupyter-widgets/controls",
            "_model_module_version": "1.5.0",
            "_model_name": "DescriptionStyleModel",
            "_view_count": null,
            "_view_module": "@jupyter-widgets/base",
            "_view_module_version": "1.2.0",
            "_view_name": "StyleView",
            "description_width": ""
          }
        }
      }
    }
  },
  "cells": [
    {
      "cell_type": "markdown",
      "source": [
        "# ***Импорты***"
      ],
      "metadata": {
        "id": "lpL2d_SLISGV"
      }
    },
    {
      "cell_type": "code",
      "source": [
        "!pip install --upgrade gensim\n",
        "from gensim.models.ldamodel import LdaModel\n",
        "from gensim.models.coherencemodel import CoherenceModel\n",
        "from gensim.models import LdaMulticore"
      ],
      "metadata": {
        "colab": {
          "base_uri": "https://localhost:8080/"
        },
        "id": "sEUE7z1f4S95",
        "outputId": "915c45d1-7764-4847-c878-14e1b7c96262"
      },
      "execution_count": 1,
      "outputs": [
        {
          "output_type": "stream",
          "name": "stdout",
          "text": [
            "Looking in indexes: https://pypi.org/simple, https://us-python.pkg.dev/colab-wheels/public/simple/\n",
            "Requirement already satisfied: gensim in /usr/local/lib/python3.10/dist-packages (4.3.1)\n",
            "Requirement already satisfied: numpy>=1.18.5 in /usr/local/lib/python3.10/dist-packages (from gensim) (1.22.4)\n",
            "Requirement already satisfied: scipy>=1.7.0 in /usr/local/lib/python3.10/dist-packages (from gensim) (1.10.1)\n",
            "Requirement already satisfied: smart-open>=1.8.1 in /usr/local/lib/python3.10/dist-packages (from gensim) (6.3.0)\n"
          ]
        }
      ]
    },
    {
      "cell_type": "code",
      "source": [
        "# !pip install --upgrade numpy\n",
        "!pip install pyLDAvis\n",
        "# !pip install transformers\n",
        "!pip install transformers==4.28.0 accelerate\n",
        "!pip install datasets\n",
        "# !pip install --upgrade gensim\n",
        "import pandas as pd\n",
        "\n",
        "import nltk \n",
        "# nltk.download('wordnet')\n",
        "nltk.download('stopwords')\n",
        "nltk.download('punkt')\n",
        "# nltk.download('movie_reviews')\n",
        "from nltk import ngrams\n",
        "from nltk.tokenize import word_tokenize\n",
        "from nltk.corpus import stopwords\n",
        "from nltk.stem import WordNetLemmatizer\n",
        "import re\n",
        "\n",
        "# from gensim.models.ldamodel import LdaModel\n",
        "# from gensim.models.coherencemodel import CoherenceModel\n",
        "from sklearn.model_selection import train_test_split \n",
        "from datasets import Dataset\n",
        "import pyLDAvis.gensim_models \n",
        "import pyLDAvis\n",
        "from transformers import DataCollatorForLanguageModeling, DataCollatorWithPadding, GPT2Tokenizer, GPT2LMHeadModel, Trainer, TrainingArguments, AutoConfig, pipeline\n",
        "\n",
        "\n",
        "from tqdm.notebook import tqdm\n",
        "from tqdm import tqdm"
      ],
      "metadata": {
        "colab": {
          "base_uri": "https://localhost:8080/",
          "height": 1000
        },
        "id": "zPIwMzTQLr-8",
        "outputId": "39d0094d-728c-44dd-fbe5-3d73328dbf3f"
      },
      "execution_count": 2,
      "outputs": [
        {
          "output_type": "stream",
          "name": "stdout",
          "text": [
            "Looking in indexes: https://pypi.org/simple, https://us-python.pkg.dev/colab-wheels/public/simple/\n",
            "Collecting pyLDAvis\n",
            "  Downloading pyLDAvis-3.4.1-py3-none-any.whl (2.6 MB)\n",
            "\u001b[2K     \u001b[90m━━━━━━━━━━━━━━━━━━━━━━━━━━━━━━━━━━━━━━━━\u001b[0m \u001b[32m2.6/2.6 MB\u001b[0m \u001b[31m31.1 MB/s\u001b[0m eta \u001b[36m0:00:00\u001b[0m\n",
            "\u001b[?25hCollecting numpy>=1.24.2 (from pyLDAvis)\n",
            "  Downloading numpy-1.24.3-cp310-cp310-manylinux_2_17_x86_64.manylinux2014_x86_64.whl (17.3 MB)\n",
            "\u001b[2K     \u001b[90m━━━━━━━━━━━━━━━━━━━━━━━━━━━━━━━━━━━━━━━━\u001b[0m \u001b[32m17.3/17.3 MB\u001b[0m \u001b[31m90.3 MB/s\u001b[0m eta \u001b[36m0:00:00\u001b[0m\n",
            "\u001b[?25hRequirement already satisfied: scipy in /usr/local/lib/python3.10/dist-packages (from pyLDAvis) (1.10.1)\n",
            "Collecting pandas>=2.0.0 (from pyLDAvis)\n",
            "  Downloading pandas-2.0.2-cp310-cp310-manylinux_2_17_x86_64.manylinux2014_x86_64.whl (12.3 MB)\n",
            "\u001b[2K     \u001b[90m━━━━━━━━━━━━━━━━━━━━━━━━━━━━━━━━━━━━━━━\u001b[0m \u001b[32m12.3/12.3 MB\u001b[0m \u001b[31m110.3 MB/s\u001b[0m eta \u001b[36m0:00:00\u001b[0m\n",
            "\u001b[?25hRequirement already satisfied: joblib>=1.2.0 in /usr/local/lib/python3.10/dist-packages (from pyLDAvis) (1.2.0)\n",
            "Requirement already satisfied: jinja2 in /usr/local/lib/python3.10/dist-packages (from pyLDAvis) (3.1.2)\n",
            "Requirement already satisfied: numexpr in /usr/local/lib/python3.10/dist-packages (from pyLDAvis) (2.8.4)\n",
            "Collecting funcy (from pyLDAvis)\n",
            "  Downloading funcy-2.0-py2.py3-none-any.whl (30 kB)\n",
            "Requirement already satisfied: scikit-learn>=1.0.0 in /usr/local/lib/python3.10/dist-packages (from pyLDAvis) (1.2.2)\n",
            "Requirement already satisfied: gensim in /usr/local/lib/python3.10/dist-packages (from pyLDAvis) (4.3.1)\n",
            "Requirement already satisfied: setuptools in /usr/local/lib/python3.10/dist-packages (from pyLDAvis) (67.7.2)\n",
            "Requirement already satisfied: python-dateutil>=2.8.2 in /usr/local/lib/python3.10/dist-packages (from pandas>=2.0.0->pyLDAvis) (2.8.2)\n",
            "Requirement already satisfied: pytz>=2020.1 in /usr/local/lib/python3.10/dist-packages (from pandas>=2.0.0->pyLDAvis) (2022.7.1)\n",
            "Requirement already satisfied: tzdata>=2022.1 in /usr/local/lib/python3.10/dist-packages (from pandas>=2.0.0->pyLDAvis) (2023.3)\n",
            "Requirement already satisfied: threadpoolctl>=2.0.0 in /usr/local/lib/python3.10/dist-packages (from scikit-learn>=1.0.0->pyLDAvis) (3.1.0)\n",
            "Requirement already satisfied: smart-open>=1.8.1 in /usr/local/lib/python3.10/dist-packages (from gensim->pyLDAvis) (6.3.0)\n",
            "Requirement already satisfied: MarkupSafe>=2.0 in /usr/local/lib/python3.10/dist-packages (from jinja2->pyLDAvis) (2.1.2)\n",
            "Requirement already satisfied: six>=1.5 in /usr/local/lib/python3.10/dist-packages (from python-dateutil>=2.8.2->pandas>=2.0.0->pyLDAvis) (1.16.0)\n",
            "Installing collected packages: funcy, numpy, pandas, pyLDAvis\n",
            "  Attempting uninstall: numpy\n",
            "    Found existing installation: numpy 1.22.4\n",
            "    Uninstalling numpy-1.22.4:\n",
            "      Successfully uninstalled numpy-1.22.4\n",
            "  Attempting uninstall: pandas\n",
            "    Found existing installation: pandas 1.5.3\n",
            "    Uninstalling pandas-1.5.3:\n",
            "      Successfully uninstalled pandas-1.5.3\n",
            "\u001b[31mERROR: pip's dependency resolver does not currently take into account all the packages that are installed. This behaviour is the source of the following dependency conflicts.\n",
            "google-colab 1.0.0 requires pandas==1.5.3, but you have pandas 2.0.2 which is incompatible.\n",
            "numba 0.56.4 requires numpy<1.24,>=1.18, but you have numpy 1.24.3 which is incompatible.\n",
            "tensorflow 2.12.0 requires numpy<1.24,>=1.22, but you have numpy 1.24.3 which is incompatible.\u001b[0m\u001b[31m\n",
            "\u001b[0mSuccessfully installed funcy-2.0 numpy-1.24.3 pandas-2.0.2 pyLDAvis-3.4.1\n"
          ]
        },
        {
          "output_type": "display_data",
          "data": {
            "application/vnd.colab-display-data+json": {
              "pip_warning": {
                "packages": [
                  "numpy"
                ]
              }
            }
          },
          "metadata": {}
        },
        {
          "output_type": "stream",
          "name": "stdout",
          "text": [
            "Looking in indexes: https://pypi.org/simple, https://us-python.pkg.dev/colab-wheels/public/simple/\n",
            "Collecting transformers==4.28.0\n",
            "  Downloading transformers-4.28.0-py3-none-any.whl (7.0 MB)\n",
            "\u001b[2K     \u001b[90m━━━━━━━━━━━━━━━━━━━━━━━━━━━━━━━━━━━━━━━━\u001b[0m \u001b[32m7.0/7.0 MB\u001b[0m \u001b[31m52.9 MB/s\u001b[0m eta \u001b[36m0:00:00\u001b[0m\n",
            "\u001b[?25hCollecting accelerate\n",
            "  Downloading accelerate-0.19.0-py3-none-any.whl (219 kB)\n",
            "\u001b[2K     \u001b[90m━━━━━━━━━━━━━━━━━━━━━━━━━━━━━━━━━━━━━━\u001b[0m \u001b[32m219.1/219.1 kB\u001b[0m \u001b[31m27.0 MB/s\u001b[0m eta \u001b[36m0:00:00\u001b[0m\n",
            "\u001b[?25hRequirement already satisfied: filelock in /usr/local/lib/python3.10/dist-packages (from transformers==4.28.0) (3.12.0)\n",
            "Collecting huggingface-hub<1.0,>=0.11.0 (from transformers==4.28.0)\n",
            "  Downloading huggingface_hub-0.15.0-py3-none-any.whl (236 kB)\n",
            "\u001b[2K     \u001b[90m━━━━━━━━━━━━━━━━━━━━━━━━━━━━━━━━━━━━━━\u001b[0m \u001b[32m236.8/236.8 kB\u001b[0m \u001b[31m27.7 MB/s\u001b[0m eta \u001b[36m0:00:00\u001b[0m\n",
            "\u001b[?25hRequirement already satisfied: numpy>=1.17 in /usr/local/lib/python3.10/dist-packages (from transformers==4.28.0) (1.24.3)\n",
            "Requirement already satisfied: packaging>=20.0 in /usr/local/lib/python3.10/dist-packages (from transformers==4.28.0) (23.1)\n",
            "Requirement already satisfied: pyyaml>=5.1 in /usr/local/lib/python3.10/dist-packages (from transformers==4.28.0) (6.0)\n",
            "Requirement already satisfied: regex!=2019.12.17 in /usr/local/lib/python3.10/dist-packages (from transformers==4.28.0) (2022.10.31)\n",
            "Requirement already satisfied: requests in /usr/local/lib/python3.10/dist-packages (from transformers==4.28.0) (2.27.1)\n",
            "Collecting tokenizers!=0.11.3,<0.14,>=0.11.1 (from transformers==4.28.0)\n",
            "  Downloading tokenizers-0.13.3-cp310-cp310-manylinux_2_17_x86_64.manylinux2014_x86_64.whl (7.8 MB)\n",
            "\u001b[2K     \u001b[90m━━━━━━━━━━━━━━━━━━━━━━━━━━━━━━━━━━━━━━━━\u001b[0m \u001b[32m7.8/7.8 MB\u001b[0m \u001b[31m82.9 MB/s\u001b[0m eta \u001b[36m0:00:00\u001b[0m\n",
            "\u001b[?25hRequirement already satisfied: tqdm>=4.27 in /usr/local/lib/python3.10/dist-packages (from transformers==4.28.0) (4.65.0)\n",
            "Requirement already satisfied: psutil in /usr/local/lib/python3.10/dist-packages (from accelerate) (5.9.5)\n",
            "Requirement already satisfied: torch>=1.6.0 in /usr/local/lib/python3.10/dist-packages (from accelerate) (2.0.1+cu118)\n",
            "Requirement already satisfied: fsspec in /usr/local/lib/python3.10/dist-packages (from huggingface-hub<1.0,>=0.11.0->transformers==4.28.0) (2023.4.0)\n",
            "Requirement already satisfied: typing-extensions>=3.7.4.3 in /usr/local/lib/python3.10/dist-packages (from huggingface-hub<1.0,>=0.11.0->transformers==4.28.0) (4.5.0)\n",
            "Requirement already satisfied: sympy in /usr/local/lib/python3.10/dist-packages (from torch>=1.6.0->accelerate) (1.11.1)\n",
            "Requirement already satisfied: networkx in /usr/local/lib/python3.10/dist-packages (from torch>=1.6.0->accelerate) (3.1)\n",
            "Requirement already satisfied: jinja2 in /usr/local/lib/python3.10/dist-packages (from torch>=1.6.0->accelerate) (3.1.2)\n",
            "Requirement already satisfied: triton==2.0.0 in /usr/local/lib/python3.10/dist-packages (from torch>=1.6.0->accelerate) (2.0.0)\n",
            "Requirement already satisfied: cmake in /usr/local/lib/python3.10/dist-packages (from triton==2.0.0->torch>=1.6.0->accelerate) (3.25.2)\n",
            "Requirement already satisfied: lit in /usr/local/lib/python3.10/dist-packages (from triton==2.0.0->torch>=1.6.0->accelerate) (16.0.5)\n",
            "Requirement already satisfied: urllib3<1.27,>=1.21.1 in /usr/local/lib/python3.10/dist-packages (from requests->transformers==4.28.0) (1.26.15)\n",
            "Requirement already satisfied: certifi>=2017.4.17 in /usr/local/lib/python3.10/dist-packages (from requests->transformers==4.28.0) (2022.12.7)\n",
            "Requirement already satisfied: charset-normalizer~=2.0.0 in /usr/local/lib/python3.10/dist-packages (from requests->transformers==4.28.0) (2.0.12)\n",
            "Requirement already satisfied: idna<4,>=2.5 in /usr/local/lib/python3.10/dist-packages (from requests->transformers==4.28.0) (3.4)\n",
            "Requirement already satisfied: MarkupSafe>=2.0 in /usr/local/lib/python3.10/dist-packages (from jinja2->torch>=1.6.0->accelerate) (2.1.2)\n",
            "Requirement already satisfied: mpmath>=0.19 in /usr/local/lib/python3.10/dist-packages (from sympy->torch>=1.6.0->accelerate) (1.3.0)\n",
            "Installing collected packages: tokenizers, huggingface-hub, transformers, accelerate\n",
            "Successfully installed accelerate-0.19.0 huggingface-hub-0.15.0 tokenizers-0.13.3 transformers-4.28.0\n",
            "Looking in indexes: https://pypi.org/simple, https://us-python.pkg.dev/colab-wheels/public/simple/\n",
            "Collecting datasets\n",
            "  Downloading datasets-2.12.0-py3-none-any.whl (474 kB)\n",
            "\u001b[2K     \u001b[90m━━━━━━━━━━━━━━━━━━━━━━━━━━━━━━━━━━━━━━\u001b[0m \u001b[32m474.6/474.6 kB\u001b[0m \u001b[31m10.2 MB/s\u001b[0m eta \u001b[36m0:00:00\u001b[0m\n",
            "\u001b[?25hRequirement already satisfied: numpy>=1.17 in /usr/local/lib/python3.10/dist-packages (from datasets) (1.24.3)\n",
            "Requirement already satisfied: pyarrow>=8.0.0 in /usr/local/lib/python3.10/dist-packages (from datasets) (9.0.0)\n",
            "Collecting dill<0.3.7,>=0.3.0 (from datasets)\n",
            "  Downloading dill-0.3.6-py3-none-any.whl (110 kB)\n",
            "\u001b[2K     \u001b[90m━━━━━━━━━━━━━━━━━━━━━━━━━━━━━━━━━━━━━━\u001b[0m \u001b[32m110.5/110.5 kB\u001b[0m \u001b[31m14.5 MB/s\u001b[0m eta \u001b[36m0:00:00\u001b[0m\n",
            "\u001b[?25hRequirement already satisfied: pandas in /usr/local/lib/python3.10/dist-packages (from datasets) (2.0.2)\n",
            "Requirement already satisfied: requests>=2.19.0 in /usr/local/lib/python3.10/dist-packages (from datasets) (2.27.1)\n",
            "Requirement already satisfied: tqdm>=4.62.1 in /usr/local/lib/python3.10/dist-packages (from datasets) (4.65.0)\n",
            "Collecting xxhash (from datasets)\n",
            "  Downloading xxhash-3.2.0-cp310-cp310-manylinux_2_17_x86_64.manylinux2014_x86_64.whl (212 kB)\n",
            "\u001b[2K     \u001b[90m━━━━━━━━━━━━━━━━━━━━━━━━━━━━━━━━━━━━━━\u001b[0m \u001b[32m212.5/212.5 kB\u001b[0m \u001b[31m27.2 MB/s\u001b[0m eta \u001b[36m0:00:00\u001b[0m\n",
            "\u001b[?25hCollecting multiprocess (from datasets)\n",
            "  Downloading multiprocess-0.70.14-py310-none-any.whl (134 kB)\n",
            "\u001b[2K     \u001b[90m━━━━━━━━━━━━━━━━━━━━━━━━━━━━━━━━━━━━━━━\u001b[0m \u001b[32m134.3/134.3 kB\u001b[0m \u001b[31m9.9 MB/s\u001b[0m eta \u001b[36m0:00:00\u001b[0m\n",
            "\u001b[?25hRequirement already satisfied: fsspec[http]>=2021.11.1 in /usr/local/lib/python3.10/dist-packages (from datasets) (2023.4.0)\n",
            "Collecting aiohttp (from datasets)\n",
            "  Downloading aiohttp-3.8.4-cp310-cp310-manylinux_2_17_x86_64.manylinux2014_x86_64.whl (1.0 MB)\n",
            "\u001b[2K     \u001b[90m━━━━━━━━━━━━━━━━━━━━━━━━━━━━━━━━━━━━━━━━\u001b[0m \u001b[32m1.0/1.0 MB\u001b[0m \u001b[31m39.2 MB/s\u001b[0m eta \u001b[36m0:00:00\u001b[0m\n",
            "\u001b[?25hRequirement already satisfied: huggingface-hub<1.0.0,>=0.11.0 in /usr/local/lib/python3.10/dist-packages (from datasets) (0.15.0)\n",
            "Requirement already satisfied: packaging in /usr/local/lib/python3.10/dist-packages (from datasets) (23.1)\n",
            "Collecting responses<0.19 (from datasets)\n",
            "  Downloading responses-0.18.0-py3-none-any.whl (38 kB)\n",
            "Requirement already satisfied: pyyaml>=5.1 in /usr/local/lib/python3.10/dist-packages (from datasets) (6.0)\n",
            "Requirement already satisfied: attrs>=17.3.0 in /usr/local/lib/python3.10/dist-packages (from aiohttp->datasets) (23.1.0)\n",
            "Requirement already satisfied: charset-normalizer<4.0,>=2.0 in /usr/local/lib/python3.10/dist-packages (from aiohttp->datasets) (2.0.12)\n",
            "Collecting multidict<7.0,>=4.5 (from aiohttp->datasets)\n",
            "  Downloading multidict-6.0.4-cp310-cp310-manylinux_2_17_x86_64.manylinux2014_x86_64.whl (114 kB)\n",
            "\u001b[2K     \u001b[90m━━━━━━━━━━━━━━━━━━━━━━━━━━━━━━━━━━━━━━\u001b[0m \u001b[32m114.5/114.5 kB\u001b[0m \u001b[31m15.3 MB/s\u001b[0m eta \u001b[36m0:00:00\u001b[0m\n",
            "\u001b[?25hCollecting async-timeout<5.0,>=4.0.0a3 (from aiohttp->datasets)\n",
            "  Downloading async_timeout-4.0.2-py3-none-any.whl (5.8 kB)\n",
            "Collecting yarl<2.0,>=1.0 (from aiohttp->datasets)\n",
            "  Downloading yarl-1.9.2-cp310-cp310-manylinux_2_17_x86_64.manylinux2014_x86_64.whl (268 kB)\n",
            "\u001b[2K     \u001b[90m━━━━━━━━━━━━━━━━━━━━━━━━━━━━━━━━━━━━━━\u001b[0m \u001b[32m268.8/268.8 kB\u001b[0m \u001b[31m32.1 MB/s\u001b[0m eta \u001b[36m0:00:00\u001b[0m\n",
            "\u001b[?25hCollecting frozenlist>=1.1.1 (from aiohttp->datasets)\n",
            "  Downloading frozenlist-1.3.3-cp310-cp310-manylinux_2_5_x86_64.manylinux1_x86_64.manylinux_2_17_x86_64.manylinux2014_x86_64.whl (149 kB)\n",
            "\u001b[2K     \u001b[90m━━━━━━━━━━━━━━━━━━━━━━━━━━━━━━━━━━━━━━\u001b[0m \u001b[32m149.6/149.6 kB\u001b[0m \u001b[31m18.1 MB/s\u001b[0m eta \u001b[36m0:00:00\u001b[0m\n",
            "\u001b[?25hCollecting aiosignal>=1.1.2 (from aiohttp->datasets)\n",
            "  Downloading aiosignal-1.3.1-py3-none-any.whl (7.6 kB)\n",
            "Requirement already satisfied: filelock in /usr/local/lib/python3.10/dist-packages (from huggingface-hub<1.0.0,>=0.11.0->datasets) (3.12.0)\n",
            "Requirement already satisfied: typing-extensions>=3.7.4.3 in /usr/local/lib/python3.10/dist-packages (from huggingface-hub<1.0.0,>=0.11.0->datasets) (4.5.0)\n",
            "Requirement already satisfied: urllib3<1.27,>=1.21.1 in /usr/local/lib/python3.10/dist-packages (from requests>=2.19.0->datasets) (1.26.15)\n",
            "Requirement already satisfied: certifi>=2017.4.17 in /usr/local/lib/python3.10/dist-packages (from requests>=2.19.0->datasets) (2022.12.7)\n",
            "Requirement already satisfied: idna<4,>=2.5 in /usr/local/lib/python3.10/dist-packages (from requests>=2.19.0->datasets) (3.4)\n",
            "Requirement already satisfied: python-dateutil>=2.8.2 in /usr/local/lib/python3.10/dist-packages (from pandas->datasets) (2.8.2)\n",
            "Requirement already satisfied: pytz>=2020.1 in /usr/local/lib/python3.10/dist-packages (from pandas->datasets) (2022.7.1)\n",
            "Requirement already satisfied: tzdata>=2022.1 in /usr/local/lib/python3.10/dist-packages (from pandas->datasets) (2023.3)\n",
            "Requirement already satisfied: six>=1.5 in /usr/local/lib/python3.10/dist-packages (from python-dateutil>=2.8.2->pandas->datasets) (1.16.0)\n",
            "Installing collected packages: xxhash, multidict, frozenlist, dill, async-timeout, yarl, responses, multiprocess, aiosignal, aiohttp, datasets\n",
            "Successfully installed aiohttp-3.8.4 aiosignal-1.3.1 async-timeout-4.0.2 datasets-2.12.0 dill-0.3.6 frozenlist-1.3.3 multidict-6.0.4 multiprocess-0.70.14 responses-0.18.0 xxhash-3.2.0 yarl-1.9.2\n"
          ]
        },
        {
          "output_type": "stream",
          "name": "stderr",
          "text": [
            "[nltk_data] Downloading package stopwords to /root/nltk_data...\n",
            "[nltk_data]   Unzipping corpora/stopwords.zip.\n",
            "[nltk_data] Downloading package punkt to /root/nltk_data...\n",
            "[nltk_data]   Unzipping tokenizers/punkt.zip.\n",
            "/usr/local/lib/python3.10/dist-packages/torch/utils/tensorboard/__init__.py:4: DeprecationWarning: distutils Version classes are deprecated. Use packaging.version instead.\n",
            "  if not hasattr(tensorboard, \"__version__\") or LooseVersion(\n",
            "/usr/local/lib/python3.10/dist-packages/torch/utils/tensorboard/__init__.py:6: DeprecationWarning: distutils Version classes are deprecated. Use packaging.version instead.\n",
            "  ) < LooseVersion(\"1.15\"):\n",
            "/usr/local/lib/python3.10/dist-packages/tensorflow_probability/python/__init__.py:57: DeprecationWarning: distutils Version classes are deprecated. Use packaging.version instead.\n",
            "  if (distutils.version.LooseVersion(tf.__version__) <\n",
            "/usr/local/lib/python3.10/dist-packages/tensorflow_probability/python/__init__.py:58: DeprecationWarning: distutils Version classes are deprecated. Use packaging.version instead.\n",
            "  distutils.version.LooseVersion(required_tensorflow_version)):\n"
          ]
        }
      ]
    },
    {
      "cell_type": "markdown",
      "source": [
        "# ***Часть №1***"
      ],
      "metadata": {
        "id": "8i3xwDceH7kj"
      }
    },
    {
      "cell_type": "markdown",
      "source": [
        "## ***Предобработка датасета***"
      ],
      "metadata": {
        "id": "HRt0JvEfdbnu"
      }
    },
    {
      "cell_type": "code",
      "source": [
        "covid = pd.read_csv(\"/content/covid19_tweets.csv\")\n",
        "covid"
      ],
      "metadata": {
        "colab": {
          "base_uri": "https://localhost:8080/",
          "height": 881
        },
        "id": "i1WzI8qRdlVK",
        "outputId": "a8aac56d-ddc2-4fee-93c0-0cc86fe64856"
      },
      "execution_count": 3,
      "outputs": [
        {
          "output_type": "stream",
          "name": "stderr",
          "text": [
            "/usr/local/lib/python3.10/dist-packages/ipykernel/ipkernel.py:283: DeprecationWarning: `should_run_async` will not call `transform_cell` automatically in the future. Please pass the result to `transformed_cell` argument and any exception that happen during thetransform in `preprocessing_exc_tuple` in IPython 7.17 and above.\n",
            "  and should_run_async(code)\n"
          ]
        },
        {
          "output_type": "execute_result",
          "data": {
            "text/plain": [
              "                       user_name                   user_location  \\\n",
              "0                         ᏉᎥ☻լꂅϮ                      astroworld   \n",
              "1                  Tom Basile 🇺🇸                    New York, NY   \n",
              "2                Time4fisticuffs                Pewee Valley, KY   \n",
              "3                    ethel mertz            Stuck in the Middle    \n",
              "4                       DIPR-J&K               Jammu and Kashmir   \n",
              "...                          ...                             ...   \n",
              "24620             Abogado.com.ph                             NaN   \n",
              "24621         Derik Van Derbeken                 Los Angeles, CA   \n",
              "24622                 __________                  Cincinnati, OH   \n",
              "24623                    Shannon                       Ohio, USA   \n",
              "24624  RIVIERA BEACH FIRE RESCUE  600 West Blue Heron Blvd, Rivi   \n",
              "\n",
              "                                        user_description         user_created  \\\n",
              "0      wednesday addams as a disney princess keepin i...  2017-05-26 05:46:42   \n",
              "1      Husband, Father, Columnist & Commentator. Auth...  2009-04-16 20:06:23   \n",
              "2      #Christian #Catholic #Conservative #Reagan #Re...  2009-02-28 18:57:41   \n",
              "3      #Browns #Indians #ClevelandProud #[]_[] #Cavs ...  2019-03-07 01:45:06   \n",
              "4      🖊️Official Twitter handle of Department of Inf...  2017-02-12 06:45:15   \n",
              "...                                                  ...                  ...   \n",
              "24620                                                NaN  2017-01-20 07:23:27   \n",
              "24621  Photog, VO, Foodie, Amateur Sleuth,💖-Rusty G d...  2009-03-12 23:01:59   \n",
              "24622  Big heart, sharp tongue.                      ...  2009-03-01 04:17:32   \n",
              "24623                                     Capricorn. 24.  2016-12-04 23:54:12   \n",
              "24624  Official information from Riviera Beach Fire R...  2015-03-31 13:13:24   \n",
              "\n",
              "       user_followers  user_friends  user_favourites  user_verified  \\\n",
              "0                 624           950            18775          False   \n",
              "1                2253          1677               24           True   \n",
              "2                9275          9525             7254          False   \n",
              "3                 197           987             1488          False   \n",
              "4              101009           168              101          False   \n",
              "...               ...           ...              ...            ...   \n",
              "24620           10711            38               85          False   \n",
              "24621             409          2997            18143          False   \n",
              "24622             150           642             9992          False   \n",
              "24623              15            44              834          False   \n",
              "24624            1302           284               95          False   \n",
              "\n",
              "                      date                                               text  \\\n",
              "0      2020-07-25 12:27:21  If I smelled the scent of hand sanitizers toda...   \n",
              "1      2020-07-25 12:27:17  Hey @Yankees @YankeesPR and @MLB - wouldn't it...   \n",
              "2      2020-07-25 12:27:14  @diane3443 @wdunlap @realDonaldTrump Trump nev...   \n",
              "3      2020-07-25 12:27:10  @brookbanktv The one gift #COVID19 has give me...   \n",
              "4      2020-07-25 12:27:08  25 July : Media Bulletin on Novel #CoronaVirus...   \n",
              "...                    ...                                                ...   \n",
              "24620  2020-07-26 02:12:27  Former COMELEC Chair tests positive for COVID-...   \n",
              "24621  2020-07-26 02:12:25  @chipfranklin He wouldn't actually take office...   \n",
              "24622  2020-07-26 02:12:20  @AutographsToYou @Dee_Wallace This is such a b...   \n",
              "24623  2020-07-26 02:12:20  On the left is the amount of suicide deaths fo...   \n",
              "24624         2020-07-26 0                                                NaN   \n",
              "\n",
              "                                hashtags               source is_retweet  \n",
              "0                                    NaN   Twitter for iPhone      False  \n",
              "1                                    NaN  Twitter for Android      False  \n",
              "2                            ['COVID19']  Twitter for Android      False  \n",
              "3                            ['COVID19']   Twitter for iPhone      False  \n",
              "4      ['CoronaVirusUpdates', 'COVID19']  Twitter for Android      False  \n",
              "...                                  ...                  ...        ...  \n",
              "24620       ['AbogadoSnitch', 'covid19']            TweetDeck      False  \n",
              "24621                                NaN  Twitter for Android      False  \n",
              "24622                                NaN  Twitter for Android      False  \n",
              "24623                                NaN  Twitter for Android      False  \n",
              "24624                                NaN                  NaN        NaN  \n",
              "\n",
              "[24625 rows x 13 columns]"
            ],
            "text/html": [
              "\n",
              "  <div id=\"df-4b45433f-18a0-4647-a904-f5ae6f775e92\">\n",
              "    <div class=\"colab-df-container\">\n",
              "      <div>\n",
              "<style scoped>\n",
              "    .dataframe tbody tr th:only-of-type {\n",
              "        vertical-align: middle;\n",
              "    }\n",
              "\n",
              "    .dataframe tbody tr th {\n",
              "        vertical-align: top;\n",
              "    }\n",
              "\n",
              "    .dataframe thead th {\n",
              "        text-align: right;\n",
              "    }\n",
              "</style>\n",
              "<table border=\"1\" class=\"dataframe\">\n",
              "  <thead>\n",
              "    <tr style=\"text-align: right;\">\n",
              "      <th></th>\n",
              "      <th>user_name</th>\n",
              "      <th>user_location</th>\n",
              "      <th>user_description</th>\n",
              "      <th>user_created</th>\n",
              "      <th>user_followers</th>\n",
              "      <th>user_friends</th>\n",
              "      <th>user_favourites</th>\n",
              "      <th>user_verified</th>\n",
              "      <th>date</th>\n",
              "      <th>text</th>\n",
              "      <th>hashtags</th>\n",
              "      <th>source</th>\n",
              "      <th>is_retweet</th>\n",
              "    </tr>\n",
              "  </thead>\n",
              "  <tbody>\n",
              "    <tr>\n",
              "      <th>0</th>\n",
              "      <td>ᏉᎥ☻լꂅϮ</td>\n",
              "      <td>astroworld</td>\n",
              "      <td>wednesday addams as a disney princess keepin i...</td>\n",
              "      <td>2017-05-26 05:46:42</td>\n",
              "      <td>624</td>\n",
              "      <td>950</td>\n",
              "      <td>18775</td>\n",
              "      <td>False</td>\n",
              "      <td>2020-07-25 12:27:21</td>\n",
              "      <td>If I smelled the scent of hand sanitizers toda...</td>\n",
              "      <td>NaN</td>\n",
              "      <td>Twitter for iPhone</td>\n",
              "      <td>False</td>\n",
              "    </tr>\n",
              "    <tr>\n",
              "      <th>1</th>\n",
              "      <td>Tom Basile 🇺🇸</td>\n",
              "      <td>New York, NY</td>\n",
              "      <td>Husband, Father, Columnist &amp; Commentator. Auth...</td>\n",
              "      <td>2009-04-16 20:06:23</td>\n",
              "      <td>2253</td>\n",
              "      <td>1677</td>\n",
              "      <td>24</td>\n",
              "      <td>True</td>\n",
              "      <td>2020-07-25 12:27:17</td>\n",
              "      <td>Hey @Yankees @YankeesPR and @MLB - wouldn't it...</td>\n",
              "      <td>NaN</td>\n",
              "      <td>Twitter for Android</td>\n",
              "      <td>False</td>\n",
              "    </tr>\n",
              "    <tr>\n",
              "      <th>2</th>\n",
              "      <td>Time4fisticuffs</td>\n",
              "      <td>Pewee Valley, KY</td>\n",
              "      <td>#Christian #Catholic #Conservative #Reagan #Re...</td>\n",
              "      <td>2009-02-28 18:57:41</td>\n",
              "      <td>9275</td>\n",
              "      <td>9525</td>\n",
              "      <td>7254</td>\n",
              "      <td>False</td>\n",
              "      <td>2020-07-25 12:27:14</td>\n",
              "      <td>@diane3443 @wdunlap @realDonaldTrump Trump nev...</td>\n",
              "      <td>['COVID19']</td>\n",
              "      <td>Twitter for Android</td>\n",
              "      <td>False</td>\n",
              "    </tr>\n",
              "    <tr>\n",
              "      <th>3</th>\n",
              "      <td>ethel mertz</td>\n",
              "      <td>Stuck in the Middle</td>\n",
              "      <td>#Browns #Indians #ClevelandProud #[]_[] #Cavs ...</td>\n",
              "      <td>2019-03-07 01:45:06</td>\n",
              "      <td>197</td>\n",
              "      <td>987</td>\n",
              "      <td>1488</td>\n",
              "      <td>False</td>\n",
              "      <td>2020-07-25 12:27:10</td>\n",
              "      <td>@brookbanktv The one gift #COVID19 has give me...</td>\n",
              "      <td>['COVID19']</td>\n",
              "      <td>Twitter for iPhone</td>\n",
              "      <td>False</td>\n",
              "    </tr>\n",
              "    <tr>\n",
              "      <th>4</th>\n",
              "      <td>DIPR-J&amp;K</td>\n",
              "      <td>Jammu and Kashmir</td>\n",
              "      <td>🖊️Official Twitter handle of Department of Inf...</td>\n",
              "      <td>2017-02-12 06:45:15</td>\n",
              "      <td>101009</td>\n",
              "      <td>168</td>\n",
              "      <td>101</td>\n",
              "      <td>False</td>\n",
              "      <td>2020-07-25 12:27:08</td>\n",
              "      <td>25 July : Media Bulletin on Novel #CoronaVirus...</td>\n",
              "      <td>['CoronaVirusUpdates', 'COVID19']</td>\n",
              "      <td>Twitter for Android</td>\n",
              "      <td>False</td>\n",
              "    </tr>\n",
              "    <tr>\n",
              "      <th>...</th>\n",
              "      <td>...</td>\n",
              "      <td>...</td>\n",
              "      <td>...</td>\n",
              "      <td>...</td>\n",
              "      <td>...</td>\n",
              "      <td>...</td>\n",
              "      <td>...</td>\n",
              "      <td>...</td>\n",
              "      <td>...</td>\n",
              "      <td>...</td>\n",
              "      <td>...</td>\n",
              "      <td>...</td>\n",
              "      <td>...</td>\n",
              "    </tr>\n",
              "    <tr>\n",
              "      <th>24620</th>\n",
              "      <td>Abogado.com.ph</td>\n",
              "      <td>NaN</td>\n",
              "      <td>NaN</td>\n",
              "      <td>2017-01-20 07:23:27</td>\n",
              "      <td>10711</td>\n",
              "      <td>38</td>\n",
              "      <td>85</td>\n",
              "      <td>False</td>\n",
              "      <td>2020-07-26 02:12:27</td>\n",
              "      <td>Former COMELEC Chair tests positive for COVID-...</td>\n",
              "      <td>['AbogadoSnitch', 'covid19']</td>\n",
              "      <td>TweetDeck</td>\n",
              "      <td>False</td>\n",
              "    </tr>\n",
              "    <tr>\n",
              "      <th>24621</th>\n",
              "      <td>Derik Van Derbeken</td>\n",
              "      <td>Los Angeles, CA</td>\n",
              "      <td>Photog, VO, Foodie, Amateur Sleuth,💖-Rusty G d...</td>\n",
              "      <td>2009-03-12 23:01:59</td>\n",
              "      <td>409</td>\n",
              "      <td>2997</td>\n",
              "      <td>18143</td>\n",
              "      <td>False</td>\n",
              "      <td>2020-07-26 02:12:25</td>\n",
              "      <td>@chipfranklin He wouldn't actually take office...</td>\n",
              "      <td>NaN</td>\n",
              "      <td>Twitter for Android</td>\n",
              "      <td>False</td>\n",
              "    </tr>\n",
              "    <tr>\n",
              "      <th>24622</th>\n",
              "      <td>__________</td>\n",
              "      <td>Cincinnati, OH</td>\n",
              "      <td>Big heart, sharp tongue.                      ...</td>\n",
              "      <td>2009-03-01 04:17:32</td>\n",
              "      <td>150</td>\n",
              "      <td>642</td>\n",
              "      <td>9992</td>\n",
              "      <td>False</td>\n",
              "      <td>2020-07-26 02:12:20</td>\n",
              "      <td>@AutographsToYou @Dee_Wallace This is such a b...</td>\n",
              "      <td>NaN</td>\n",
              "      <td>Twitter for Android</td>\n",
              "      <td>False</td>\n",
              "    </tr>\n",
              "    <tr>\n",
              "      <th>24623</th>\n",
              "      <td>Shannon</td>\n",
              "      <td>Ohio, USA</td>\n",
              "      <td>Capricorn. 24.</td>\n",
              "      <td>2016-12-04 23:54:12</td>\n",
              "      <td>15</td>\n",
              "      <td>44</td>\n",
              "      <td>834</td>\n",
              "      <td>False</td>\n",
              "      <td>2020-07-26 02:12:20</td>\n",
              "      <td>On the left is the amount of suicide deaths fo...</td>\n",
              "      <td>NaN</td>\n",
              "      <td>Twitter for Android</td>\n",
              "      <td>False</td>\n",
              "    </tr>\n",
              "    <tr>\n",
              "      <th>24624</th>\n",
              "      <td>RIVIERA BEACH FIRE RESCUE</td>\n",
              "      <td>600 West Blue Heron Blvd, Rivi</td>\n",
              "      <td>Official information from Riviera Beach Fire R...</td>\n",
              "      <td>2015-03-31 13:13:24</td>\n",
              "      <td>1302</td>\n",
              "      <td>284</td>\n",
              "      <td>95</td>\n",
              "      <td>False</td>\n",
              "      <td>2020-07-26 0</td>\n",
              "      <td>NaN</td>\n",
              "      <td>NaN</td>\n",
              "      <td>NaN</td>\n",
              "      <td>NaN</td>\n",
              "    </tr>\n",
              "  </tbody>\n",
              "</table>\n",
              "<p>24625 rows × 13 columns</p>\n",
              "</div>\n",
              "      <button class=\"colab-df-convert\" onclick=\"convertToInteractive('df-4b45433f-18a0-4647-a904-f5ae6f775e92')\"\n",
              "              title=\"Convert this dataframe to an interactive table.\"\n",
              "              style=\"display:none;\">\n",
              "        \n",
              "  <svg xmlns=\"http://www.w3.org/2000/svg\" height=\"24px\"viewBox=\"0 0 24 24\"\n",
              "       width=\"24px\">\n",
              "    <path d=\"M0 0h24v24H0V0z\" fill=\"none\"/>\n",
              "    <path d=\"M18.56 5.44l.94 2.06.94-2.06 2.06-.94-2.06-.94-.94-2.06-.94 2.06-2.06.94zm-11 1L8.5 8.5l.94-2.06 2.06-.94-2.06-.94L8.5 2.5l-.94 2.06-2.06.94zm10 10l.94 2.06.94-2.06 2.06-.94-2.06-.94-.94-2.06-.94 2.06-2.06.94z\"/><path d=\"M17.41 7.96l-1.37-1.37c-.4-.4-.92-.59-1.43-.59-.52 0-1.04.2-1.43.59L10.3 9.45l-7.72 7.72c-.78.78-.78 2.05 0 2.83L4 21.41c.39.39.9.59 1.41.59.51 0 1.02-.2 1.41-.59l7.78-7.78 2.81-2.81c.8-.78.8-2.07 0-2.86zM5.41 20L4 18.59l7.72-7.72 1.47 1.35L5.41 20z\"/>\n",
              "  </svg>\n",
              "      </button>\n",
              "      \n",
              "  <style>\n",
              "    .colab-df-container {\n",
              "      display:flex;\n",
              "      flex-wrap:wrap;\n",
              "      gap: 12px;\n",
              "    }\n",
              "\n",
              "    .colab-df-convert {\n",
              "      background-color: #E8F0FE;\n",
              "      border: none;\n",
              "      border-radius: 50%;\n",
              "      cursor: pointer;\n",
              "      display: none;\n",
              "      fill: #1967D2;\n",
              "      height: 32px;\n",
              "      padding: 0 0 0 0;\n",
              "      width: 32px;\n",
              "    }\n",
              "\n",
              "    .colab-df-convert:hover {\n",
              "      background-color: #E2EBFA;\n",
              "      box-shadow: 0px 1px 2px rgba(60, 64, 67, 0.3), 0px 1px 3px 1px rgba(60, 64, 67, 0.15);\n",
              "      fill: #174EA6;\n",
              "    }\n",
              "\n",
              "    [theme=dark] .colab-df-convert {\n",
              "      background-color: #3B4455;\n",
              "      fill: #D2E3FC;\n",
              "    }\n",
              "\n",
              "    [theme=dark] .colab-df-convert:hover {\n",
              "      background-color: #434B5C;\n",
              "      box-shadow: 0px 1px 3px 1px rgba(0, 0, 0, 0.15);\n",
              "      filter: drop-shadow(0px 1px 2px rgba(0, 0, 0, 0.3));\n",
              "      fill: #FFFFFF;\n",
              "    }\n",
              "  </style>\n",
              "\n",
              "      <script>\n",
              "        const buttonEl =\n",
              "          document.querySelector('#df-4b45433f-18a0-4647-a904-f5ae6f775e92 button.colab-df-convert');\n",
              "        buttonEl.style.display =\n",
              "          google.colab.kernel.accessAllowed ? 'block' : 'none';\n",
              "\n",
              "        async function convertToInteractive(key) {\n",
              "          const element = document.querySelector('#df-4b45433f-18a0-4647-a904-f5ae6f775e92');\n",
              "          const dataTable =\n",
              "            await google.colab.kernel.invokeFunction('convertToInteractive',\n",
              "                                                     [key], {});\n",
              "          if (!dataTable) return;\n",
              "\n",
              "          const docLinkHtml = 'Like what you see? Visit the ' +\n",
              "            '<a target=\"_blank\" href=https://colab.research.google.com/notebooks/data_table.ipynb>data table notebook</a>'\n",
              "            + ' to learn more about interactive tables.';\n",
              "          element.innerHTML = '';\n",
              "          dataTable['output_type'] = 'display_data';\n",
              "          await google.colab.output.renderOutput(dataTable, element);\n",
              "          const docLink = document.createElement('div');\n",
              "          docLink.innerHTML = docLinkHtml;\n",
              "          element.appendChild(docLink);\n",
              "        }\n",
              "      </script>\n",
              "    </div>\n",
              "  </div>\n",
              "  "
            ]
          },
          "metadata": {},
          "execution_count": 3
        }
      ]
    },
    {
      "cell_type": "code",
      "source": [
        "covid = covid[[\"text\"]]  # Оставляем только поле с текстом\n",
        "covid"
      ],
      "metadata": {
        "id": "OWi6Owp0d27r",
        "colab": {
          "base_uri": "https://localhost:8080/",
          "height": 470
        },
        "outputId": "4134da66-503f-4fbe-a7b2-a807dfdd9727"
      },
      "execution_count": 5,
      "outputs": [
        {
          "output_type": "stream",
          "name": "stderr",
          "text": [
            "/usr/local/lib/python3.10/dist-packages/ipykernel/ipkernel.py:283: DeprecationWarning: `should_run_async` will not call `transform_cell` automatically in the future. Please pass the result to `transformed_cell` argument and any exception that happen during thetransform in `preprocessing_exc_tuple` in IPython 7.17 and above.\n",
            "  and should_run_async(code)\n"
          ]
        },
        {
          "output_type": "execute_result",
          "data": {
            "text/plain": [
              "                                                    text\n",
              "0      If I smelled the scent of hand sanitizers toda...\n",
              "1      Hey @Yankees @YankeesPR and @MLB - wouldn't it...\n",
              "2      @diane3443 @wdunlap @realDonaldTrump Trump nev...\n",
              "3      @brookbanktv The one gift #COVID19 has give me...\n",
              "4      25 July : Media Bulletin on Novel #CoronaVirus...\n",
              "...                                                  ...\n",
              "24620  Former COMELEC Chair tests positive for COVID-...\n",
              "24621  @chipfranklin He wouldn't actually take office...\n",
              "24622  @AutographsToYou @Dee_Wallace This is such a b...\n",
              "24623  On the left is the amount of suicide deaths fo...\n",
              "24624                                                NaN\n",
              "\n",
              "[24625 rows x 1 columns]"
            ],
            "text/html": [
              "\n",
              "  <div id=\"df-7f3924a4-5f0e-4b7b-b9e5-07eaafdbc484\">\n",
              "    <div class=\"colab-df-container\">\n",
              "      <div>\n",
              "<style scoped>\n",
              "    .dataframe tbody tr th:only-of-type {\n",
              "        vertical-align: middle;\n",
              "    }\n",
              "\n",
              "    .dataframe tbody tr th {\n",
              "        vertical-align: top;\n",
              "    }\n",
              "\n",
              "    .dataframe thead th {\n",
              "        text-align: right;\n",
              "    }\n",
              "</style>\n",
              "<table border=\"1\" class=\"dataframe\">\n",
              "  <thead>\n",
              "    <tr style=\"text-align: right;\">\n",
              "      <th></th>\n",
              "      <th>text</th>\n",
              "    </tr>\n",
              "  </thead>\n",
              "  <tbody>\n",
              "    <tr>\n",
              "      <th>0</th>\n",
              "      <td>If I smelled the scent of hand sanitizers toda...</td>\n",
              "    </tr>\n",
              "    <tr>\n",
              "      <th>1</th>\n",
              "      <td>Hey @Yankees @YankeesPR and @MLB - wouldn't it...</td>\n",
              "    </tr>\n",
              "    <tr>\n",
              "      <th>2</th>\n",
              "      <td>@diane3443 @wdunlap @realDonaldTrump Trump nev...</td>\n",
              "    </tr>\n",
              "    <tr>\n",
              "      <th>3</th>\n",
              "      <td>@brookbanktv The one gift #COVID19 has give me...</td>\n",
              "    </tr>\n",
              "    <tr>\n",
              "      <th>4</th>\n",
              "      <td>25 July : Media Bulletin on Novel #CoronaVirus...</td>\n",
              "    </tr>\n",
              "    <tr>\n",
              "      <th>...</th>\n",
              "      <td>...</td>\n",
              "    </tr>\n",
              "    <tr>\n",
              "      <th>24620</th>\n",
              "      <td>Former COMELEC Chair tests positive for COVID-...</td>\n",
              "    </tr>\n",
              "    <tr>\n",
              "      <th>24621</th>\n",
              "      <td>@chipfranklin He wouldn't actually take office...</td>\n",
              "    </tr>\n",
              "    <tr>\n",
              "      <th>24622</th>\n",
              "      <td>@AutographsToYou @Dee_Wallace This is such a b...</td>\n",
              "    </tr>\n",
              "    <tr>\n",
              "      <th>24623</th>\n",
              "      <td>On the left is the amount of suicide deaths fo...</td>\n",
              "    </tr>\n",
              "    <tr>\n",
              "      <th>24624</th>\n",
              "      <td>NaN</td>\n",
              "    </tr>\n",
              "  </tbody>\n",
              "</table>\n",
              "<p>24625 rows × 1 columns</p>\n",
              "</div>\n",
              "      <button class=\"colab-df-convert\" onclick=\"convertToInteractive('df-7f3924a4-5f0e-4b7b-b9e5-07eaafdbc484')\"\n",
              "              title=\"Convert this dataframe to an interactive table.\"\n",
              "              style=\"display:none;\">\n",
              "        \n",
              "  <svg xmlns=\"http://www.w3.org/2000/svg\" height=\"24px\"viewBox=\"0 0 24 24\"\n",
              "       width=\"24px\">\n",
              "    <path d=\"M0 0h24v24H0V0z\" fill=\"none\"/>\n",
              "    <path d=\"M18.56 5.44l.94 2.06.94-2.06 2.06-.94-2.06-.94-.94-2.06-.94 2.06-2.06.94zm-11 1L8.5 8.5l.94-2.06 2.06-.94-2.06-.94L8.5 2.5l-.94 2.06-2.06.94zm10 10l.94 2.06.94-2.06 2.06-.94-2.06-.94-.94-2.06-.94 2.06-2.06.94z\"/><path d=\"M17.41 7.96l-1.37-1.37c-.4-.4-.92-.59-1.43-.59-.52 0-1.04.2-1.43.59L10.3 9.45l-7.72 7.72c-.78.78-.78 2.05 0 2.83L4 21.41c.39.39.9.59 1.41.59.51 0 1.02-.2 1.41-.59l7.78-7.78 2.81-2.81c.8-.78.8-2.07 0-2.86zM5.41 20L4 18.59l7.72-7.72 1.47 1.35L5.41 20z\"/>\n",
              "  </svg>\n",
              "      </button>\n",
              "      \n",
              "  <style>\n",
              "    .colab-df-container {\n",
              "      display:flex;\n",
              "      flex-wrap:wrap;\n",
              "      gap: 12px;\n",
              "    }\n",
              "\n",
              "    .colab-df-convert {\n",
              "      background-color: #E8F0FE;\n",
              "      border: none;\n",
              "      border-radius: 50%;\n",
              "      cursor: pointer;\n",
              "      display: none;\n",
              "      fill: #1967D2;\n",
              "      height: 32px;\n",
              "      padding: 0 0 0 0;\n",
              "      width: 32px;\n",
              "    }\n",
              "\n",
              "    .colab-df-convert:hover {\n",
              "      background-color: #E2EBFA;\n",
              "      box-shadow: 0px 1px 2px rgba(60, 64, 67, 0.3), 0px 1px 3px 1px rgba(60, 64, 67, 0.15);\n",
              "      fill: #174EA6;\n",
              "    }\n",
              "\n",
              "    [theme=dark] .colab-df-convert {\n",
              "      background-color: #3B4455;\n",
              "      fill: #D2E3FC;\n",
              "    }\n",
              "\n",
              "    [theme=dark] .colab-df-convert:hover {\n",
              "      background-color: #434B5C;\n",
              "      box-shadow: 0px 1px 3px 1px rgba(0, 0, 0, 0.15);\n",
              "      filter: drop-shadow(0px 1px 2px rgba(0, 0, 0, 0.3));\n",
              "      fill: #FFFFFF;\n",
              "    }\n",
              "  </style>\n",
              "\n",
              "      <script>\n",
              "        const buttonEl =\n",
              "          document.querySelector('#df-7f3924a4-5f0e-4b7b-b9e5-07eaafdbc484 button.colab-df-convert');\n",
              "        buttonEl.style.display =\n",
              "          google.colab.kernel.accessAllowed ? 'block' : 'none';\n",
              "\n",
              "        async function convertToInteractive(key) {\n",
              "          const element = document.querySelector('#df-7f3924a4-5f0e-4b7b-b9e5-07eaafdbc484');\n",
              "          const dataTable =\n",
              "            await google.colab.kernel.invokeFunction('convertToInteractive',\n",
              "                                                     [key], {});\n",
              "          if (!dataTable) return;\n",
              "\n",
              "          const docLinkHtml = 'Like what you see? Visit the ' +\n",
              "            '<a target=\"_blank\" href=https://colab.research.google.com/notebooks/data_table.ipynb>data table notebook</a>'\n",
              "            + ' to learn more about interactive tables.';\n",
              "          element.innerHTML = '';\n",
              "          dataTable['output_type'] = 'display_data';\n",
              "          await google.colab.output.renderOutput(dataTable, element);\n",
              "          const docLink = document.createElement('div');\n",
              "          docLink.innerHTML = docLinkHtml;\n",
              "          element.appendChild(docLink);\n",
              "        }\n",
              "      </script>\n",
              "    </div>\n",
              "  </div>\n",
              "  "
            ]
          },
          "metadata": {},
          "execution_count": 5
        }
      ]
    },
    {
      "cell_type": "code",
      "source": [
        "def remove_emoji(string):                                                       # Параметры для запуска функции: строка (в нашем случае это текст записи)                                                \n",
        "  \"\"\"Функция для очистки строки от эмодзи\"\"\"\n",
        "  emoji_pattern = re.compile(\"[\" u\"\\U0001F600-\\U0001F64F\"                       # Сбор всех возможных смайликов и эмодзи  \n",
        "                               u\"\\U0001F300-\\U0001F5FF\"  \n",
        "                               u\"\\U0001F680-\\U0001F6FF\"  \n",
        "                               u\"\\U0001F1E0-\\U0001F1FF\"  \n",
        "                               u\"\\U00002500-\\U00002BEF\"  \n",
        "                               u\"\\U00002702-\\U000027B0\"\n",
        "                               u\"\\U00002702-\\U000027B0\"\n",
        "                               u\"\\U000024C2-\\U0001F251\"\n",
        "                               u\"\\U0001f926-\\U0001f937\"\n",
        "                               u\"\\U00010000-\\U0010ffff\"\n",
        "                               u\"\\u2640-\\u2642\"\n",
        "                               u\"\\u2600-\\u2B55\"\n",
        "                               u\"\\u200d\"\n",
        "                               u\"\\u23cf\"\n",
        "                               u\"\\u23e9\"\n",
        "                               u\"\\u231a\"\n",
        "                               u\"\\ufe0f\" \n",
        "                               u\"\\u3030\"\n",
        "                               u\"\\u23F0\" \"]+\", flags=re.UNICODE)\n",
        "  return emoji_pattern.sub(r'', string)                                         # Возврат строки без смайликов"
      ],
      "metadata": {
        "id": "aNOwqT8ykP9E",
        "colab": {
          "base_uri": "https://localhost:8080/"
        },
        "outputId": "5f2c0d0c-c628-40e1-a1ac-b7398c72144d"
      },
      "execution_count": 6,
      "outputs": [
        {
          "output_type": "stream",
          "name": "stderr",
          "text": [
            "/usr/local/lib/python3.10/dist-packages/ipykernel/ipkernel.py:283: DeprecationWarning: `should_run_async` will not call `transform_cell` automatically in the future. Please pass the result to `transformed_cell` argument and any exception that happen during thetransform in `preprocessing_exc_tuple` in IPython 7.17 and above.\n",
            "  and should_run_async(code)\n"
          ]
        }
      ]
    },
    {
      "cell_type": "code",
      "source": [
        "cleaned_texts = []                                                 # Создаём пустой список, в который поместим очищенные тексты\n",
        "lemmatizer = WordNetLemmatizer()                                   # Создание экземпляра лемматизатора WordNetLemmatizer\n",
        "stop_word = stopwords.words('english')                             # Загрузка стоп-слов для английского языка\n",
        "prefix = ('@', '#', 'http', 'https', '//', \"n't\", \"'s\")            # Префиксы для удаления\n",
        "for i in range(covid.shape[0]):                                    # Создаём цикл, который проходит по каждому тексту из датасета\n",
        "  s = ''                                                           # Начальная строка пуста\n",
        "  a = 0                                                            # Текущее слово из текста (изначально равно нулю)\n",
        "  text = str(covid.text[i])                                             # Передаём текст в переменную text\n",
        "  text = text.replace('…', '')                                     # Удаляем многоточие\n",
        "  text = text.replace('\\n', ' ')                                   # Удаляем символы '\\n'\n",
        "  text = text.replace('&amp', ' ')                                 # Удаляем символы '&amp'\n",
        "  text = text.lower()                                              # Переводим текст в нижний регистр\n",
        "  text = remove_emoji(text)                                        # Убираем из текста смайлики и эмоджи с помощью написанной выше функции\n",
        "  text = word_tokenize(text)                                       # Проводим токенизацию\n",
        "  text = [word for word in text if not word in stop_word]          # Удаляем стоп-слова\n",
        "  text = [lemmatizer.lemmatize(word) for word in text]             # Проводим лемматизацию\n",
        "  while a < len(text) - 1:                                         # Создаём цикл while, который проходит по каждому слову в тексте\n",
        "    if not text[a].startswith(prefix):                             # Если слово начинается не с тех символов, которые лежат в переменной prefix, то\n",
        "      if a != len(text) - 1:                                       # если рассматриваемое слово не последнее, то\n",
        "        s += text[a] + ', '                                        # добавляем его в строку и ставим после него запятую\n",
        "      else:                                                        # Если же рассматриваемое слово последнее, то\n",
        "        s += text[a]                                               # просто добавляем его в строку\n",
        "      a += 1                                                       # Переходим к следующему слову                                                                           \n",
        "    else:                                                          # Если слово начинается с символов, которые лежат в переменной prefix, то\n",
        "      if text[a].startswith('#') or text[a].startswith('@'):       # если слово начинается с символа '@' или '#', то\n",
        "        a += 2                                                     # пропускаем это и следующее слово\n",
        "      else:                                                        # Если же слово начинается не с символов '@' или '#', то\n",
        "        a += 1                                                     # пропускаем это слово\n",
        "  s = re.sub(r'[^\\w\\s]', '', s)                                    # Удаление знаков препинания\n",
        "  s = ' '.join(s.split())                                          # Разделяем строку на слова и добавляем через пробел\n",
        "  cleaned_texts.append(s)                                          # Добавляем строку в список"
      ],
      "metadata": {
        "id": "xcU5nXAhf6Ob",
        "colab": {
          "base_uri": "https://localhost:8080/"
        },
        "outputId": "cd7fe0fd-6c69-47b4-8389-8d1606376830"
      },
      "execution_count": 7,
      "outputs": [
        {
          "output_type": "stream",
          "name": "stderr",
          "text": [
            "/usr/local/lib/python3.10/dist-packages/ipykernel/ipkernel.py:283: DeprecationWarning: `should_run_async` will not call `transform_cell` automatically in the future. Please pass the result to `transformed_cell` argument and any exception that happen during thetransform in `preprocessing_exc_tuple` in IPython 7.17 and above.\n",
            "  and should_run_async(code)\n"
          ]
        }
      ]
    },
    {
      "cell_type": "code",
      "source": [
        "covid[\"full_clear\"] = cleaned_texts  # Создаём новый столбец с очищенными текстами\n",
        "covid                                # Вывод изменённого датасета"
      ],
      "metadata": {
        "id": "lmncjQKWjwSb",
        "colab": {
          "base_uri": "https://localhost:8080/",
          "height": 576
        },
        "outputId": "54496498-fcc8-4017-debe-e91fe52b69a4"
      },
      "execution_count": 8,
      "outputs": [
        {
          "output_type": "stream",
          "name": "stderr",
          "text": [
            "/usr/local/lib/python3.10/dist-packages/ipykernel/ipkernel.py:283: DeprecationWarning: `should_run_async` will not call `transform_cell` automatically in the future. Please pass the result to `transformed_cell` argument and any exception that happen during thetransform in `preprocessing_exc_tuple` in IPython 7.17 and above.\n",
            "  and should_run_async(code)\n",
            "<ipython-input-8-0ad6979e2e0c>:1: SettingWithCopyWarning: \n",
            "A value is trying to be set on a copy of a slice from a DataFrame.\n",
            "Try using .loc[row_indexer,col_indexer] = value instead\n",
            "\n",
            "See the caveats in the documentation: https://pandas.pydata.org/pandas-docs/stable/user_guide/indexing.html#returning-a-view-versus-a-copy\n",
            "  covid[\"full_clear\"] = cleaned_texts  # Создаём новый столбец с очищенными текстами\n"
          ]
        },
        {
          "output_type": "execute_result",
          "data": {
            "text/plain": [
              "                                                    text  \\\n",
              "0      If I smelled the scent of hand sanitizers toda...   \n",
              "1      Hey @Yankees @YankeesPR and @MLB - wouldn't it...   \n",
              "2      @diane3443 @wdunlap @realDonaldTrump Trump nev...   \n",
              "3      @brookbanktv The one gift #COVID19 has give me...   \n",
              "4      25 July : Media Bulletin on Novel #CoronaVirus...   \n",
              "...                                                  ...   \n",
              "24620  Former COMELEC Chair tests positive for COVID-...   \n",
              "24621  @chipfranklin He wouldn't actually take office...   \n",
              "24622  @AutographsToYou @Dee_Wallace This is such a b...   \n",
              "24623  On the left is the amount of suicide deaths fo...   \n",
              "24624                                                NaN   \n",
              "\n",
              "                                              full_clear  \n",
              "0      smelled scent hand sanitizers today someone pa...  \n",
              "1                hey would made sense player pay respect  \n",
              "2                  trump never claimed hoax claim effort  \n",
              "3      one gift give appreciation simple thing always...  \n",
              "4                          25 july medium bulletin novel  \n",
              "...                                                  ...  \n",
              "24620         former comelec chair test positive covid19  \n",
              "24621  would actually take office till january 21st 1...  \n",
              "24622       better idea ms wallace endangering loved one  \n",
              "24623  left amount suicide death year right amount co...  \n",
              "24624                                                     \n",
              "\n",
              "[24625 rows x 2 columns]"
            ],
            "text/html": [
              "\n",
              "  <div id=\"df-bfb8d5c2-b022-470f-b0a9-9b8b9df4206c\">\n",
              "    <div class=\"colab-df-container\">\n",
              "      <div>\n",
              "<style scoped>\n",
              "    .dataframe tbody tr th:only-of-type {\n",
              "        vertical-align: middle;\n",
              "    }\n",
              "\n",
              "    .dataframe tbody tr th {\n",
              "        vertical-align: top;\n",
              "    }\n",
              "\n",
              "    .dataframe thead th {\n",
              "        text-align: right;\n",
              "    }\n",
              "</style>\n",
              "<table border=\"1\" class=\"dataframe\">\n",
              "  <thead>\n",
              "    <tr style=\"text-align: right;\">\n",
              "      <th></th>\n",
              "      <th>text</th>\n",
              "      <th>full_clear</th>\n",
              "    </tr>\n",
              "  </thead>\n",
              "  <tbody>\n",
              "    <tr>\n",
              "      <th>0</th>\n",
              "      <td>If I smelled the scent of hand sanitizers toda...</td>\n",
              "      <td>smelled scent hand sanitizers today someone pa...</td>\n",
              "    </tr>\n",
              "    <tr>\n",
              "      <th>1</th>\n",
              "      <td>Hey @Yankees @YankeesPR and @MLB - wouldn't it...</td>\n",
              "      <td>hey would made sense player pay respect</td>\n",
              "    </tr>\n",
              "    <tr>\n",
              "      <th>2</th>\n",
              "      <td>@diane3443 @wdunlap @realDonaldTrump Trump nev...</td>\n",
              "      <td>trump never claimed hoax claim effort</td>\n",
              "    </tr>\n",
              "    <tr>\n",
              "      <th>3</th>\n",
              "      <td>@brookbanktv The one gift #COVID19 has give me...</td>\n",
              "      <td>one gift give appreciation simple thing always...</td>\n",
              "    </tr>\n",
              "    <tr>\n",
              "      <th>4</th>\n",
              "      <td>25 July : Media Bulletin on Novel #CoronaVirus...</td>\n",
              "      <td>25 july medium bulletin novel</td>\n",
              "    </tr>\n",
              "    <tr>\n",
              "      <th>...</th>\n",
              "      <td>...</td>\n",
              "      <td>...</td>\n",
              "    </tr>\n",
              "    <tr>\n",
              "      <th>24620</th>\n",
              "      <td>Former COMELEC Chair tests positive for COVID-...</td>\n",
              "      <td>former comelec chair test positive covid19</td>\n",
              "    </tr>\n",
              "    <tr>\n",
              "      <th>24621</th>\n",
              "      <td>@chipfranklin He wouldn't actually take office...</td>\n",
              "      <td>would actually take office till january 21st 1...</td>\n",
              "    </tr>\n",
              "    <tr>\n",
              "      <th>24622</th>\n",
              "      <td>@AutographsToYou @Dee_Wallace This is such a b...</td>\n",
              "      <td>better idea ms wallace endangering loved one</td>\n",
              "    </tr>\n",
              "    <tr>\n",
              "      <th>24623</th>\n",
              "      <td>On the left is the amount of suicide deaths fo...</td>\n",
              "      <td>left amount suicide death year right amount co...</td>\n",
              "    </tr>\n",
              "    <tr>\n",
              "      <th>24624</th>\n",
              "      <td>NaN</td>\n",
              "      <td></td>\n",
              "    </tr>\n",
              "  </tbody>\n",
              "</table>\n",
              "<p>24625 rows × 2 columns</p>\n",
              "</div>\n",
              "      <button class=\"colab-df-convert\" onclick=\"convertToInteractive('df-bfb8d5c2-b022-470f-b0a9-9b8b9df4206c')\"\n",
              "              title=\"Convert this dataframe to an interactive table.\"\n",
              "              style=\"display:none;\">\n",
              "        \n",
              "  <svg xmlns=\"http://www.w3.org/2000/svg\" height=\"24px\"viewBox=\"0 0 24 24\"\n",
              "       width=\"24px\">\n",
              "    <path d=\"M0 0h24v24H0V0z\" fill=\"none\"/>\n",
              "    <path d=\"M18.56 5.44l.94 2.06.94-2.06 2.06-.94-2.06-.94-.94-2.06-.94 2.06-2.06.94zm-11 1L8.5 8.5l.94-2.06 2.06-.94-2.06-.94L8.5 2.5l-.94 2.06-2.06.94zm10 10l.94 2.06.94-2.06 2.06-.94-2.06-.94-.94-2.06-.94 2.06-2.06.94z\"/><path d=\"M17.41 7.96l-1.37-1.37c-.4-.4-.92-.59-1.43-.59-.52 0-1.04.2-1.43.59L10.3 9.45l-7.72 7.72c-.78.78-.78 2.05 0 2.83L4 21.41c.39.39.9.59 1.41.59.51 0 1.02-.2 1.41-.59l7.78-7.78 2.81-2.81c.8-.78.8-2.07 0-2.86zM5.41 20L4 18.59l7.72-7.72 1.47 1.35L5.41 20z\"/>\n",
              "  </svg>\n",
              "      </button>\n",
              "      \n",
              "  <style>\n",
              "    .colab-df-container {\n",
              "      display:flex;\n",
              "      flex-wrap:wrap;\n",
              "      gap: 12px;\n",
              "    }\n",
              "\n",
              "    .colab-df-convert {\n",
              "      background-color: #E8F0FE;\n",
              "      border: none;\n",
              "      border-radius: 50%;\n",
              "      cursor: pointer;\n",
              "      display: none;\n",
              "      fill: #1967D2;\n",
              "      height: 32px;\n",
              "      padding: 0 0 0 0;\n",
              "      width: 32px;\n",
              "    }\n",
              "\n",
              "    .colab-df-convert:hover {\n",
              "      background-color: #E2EBFA;\n",
              "      box-shadow: 0px 1px 2px rgba(60, 64, 67, 0.3), 0px 1px 3px 1px rgba(60, 64, 67, 0.15);\n",
              "      fill: #174EA6;\n",
              "    }\n",
              "\n",
              "    [theme=dark] .colab-df-convert {\n",
              "      background-color: #3B4455;\n",
              "      fill: #D2E3FC;\n",
              "    }\n",
              "\n",
              "    [theme=dark] .colab-df-convert:hover {\n",
              "      background-color: #434B5C;\n",
              "      box-shadow: 0px 1px 3px 1px rgba(0, 0, 0, 0.15);\n",
              "      filter: drop-shadow(0px 1px 2px rgba(0, 0, 0, 0.3));\n",
              "      fill: #FFFFFF;\n",
              "    }\n",
              "  </style>\n",
              "\n",
              "      <script>\n",
              "        const buttonEl =\n",
              "          document.querySelector('#df-bfb8d5c2-b022-470f-b0a9-9b8b9df4206c button.colab-df-convert');\n",
              "        buttonEl.style.display =\n",
              "          google.colab.kernel.accessAllowed ? 'block' : 'none';\n",
              "\n",
              "        async function convertToInteractive(key) {\n",
              "          const element = document.querySelector('#df-bfb8d5c2-b022-470f-b0a9-9b8b9df4206c');\n",
              "          const dataTable =\n",
              "            await google.colab.kernel.invokeFunction('convertToInteractive',\n",
              "                                                     [key], {});\n",
              "          if (!dataTable) return;\n",
              "\n",
              "          const docLinkHtml = 'Like what you see? Visit the ' +\n",
              "            '<a target=\"_blank\" href=https://colab.research.google.com/notebooks/data_table.ipynb>data table notebook</a>'\n",
              "            + ' to learn more about interactive tables.';\n",
              "          element.innerHTML = '';\n",
              "          dataTable['output_type'] = 'display_data';\n",
              "          await google.colab.output.renderOutput(dataTable, element);\n",
              "          const docLink = document.createElement('div');\n",
              "          docLink.innerHTML = docLinkHtml;\n",
              "          element.appendChild(docLink);\n",
              "        }\n",
              "      </script>\n",
              "    </div>\n",
              "  </div>\n",
              "  "
            ]
          },
          "metadata": {},
          "execution_count": 8
        }
      ]
    },
    {
      "cell_type": "markdown",
      "source": [
        "## ***Словарь и частоты слов***"
      ],
      "metadata": {
        "id": "GxVGfvOeUiIK"
      }
    },
    {
      "cell_type": "markdown",
      "source": [
        "https://www.geeksforgeeks.org/nlp-gensim-tutorial-complete-guide-for-beginners/"
      ],
      "metadata": {
        "id": "l5SmDEDoXkK_"
      }
    },
    {
      "cell_type": "code",
      "source": [
        "from gensim import corpora\n",
        "tokens = []                                       # Массив для токенов\n",
        "for i in range(len(covid)):                       # Создаём цикл, который каждый текст\n",
        "  token = word_tokenize(covid.full_clear[i])      # токенизирует и\n",
        "  tokens.append(token)                            # добавляет все токены в массив\n",
        "covid[\"tokens\"] = tokens                          # Создаём новый столбец с токенами\n",
        "my_dictionary = corpora.Dictionary(covid.tokens)  # Создаём словарь"
      ],
      "metadata": {
        "id": "L07Y30_jUkuo",
        "colab": {
          "base_uri": "https://localhost:8080/"
        },
        "outputId": "faf268af-3325-451a-db8b-c9d06bc3edd9"
      },
      "execution_count": 9,
      "outputs": [
        {
          "output_type": "stream",
          "name": "stderr",
          "text": [
            "/usr/local/lib/python3.10/dist-packages/ipykernel/ipkernel.py:283: DeprecationWarning: `should_run_async` will not call `transform_cell` automatically in the future. Please pass the result to `transformed_cell` argument and any exception that happen during thetransform in `preprocessing_exc_tuple` in IPython 7.17 and above.\n",
            "  and should_run_async(code)\n",
            "<ipython-input-9-d653d9f0c520>:6: SettingWithCopyWarning: \n",
            "A value is trying to be set on a copy of a slice from a DataFrame.\n",
            "Try using .loc[row_indexer,col_indexer] = value instead\n",
            "\n",
            "See the caveats in the documentation: https://pandas.pydata.org/pandas-docs/stable/user_guide/indexing.html#returning-a-view-versus-a-copy\n",
            "  covid[\"tokens\"] = tokens                          # Создаём новый столбец с токенами\n"
          ]
        }
      ]
    },
    {
      "cell_type": "code",
      "source": [
        "corpus = [my_dictionary.doc2bow(doc, allow_update = True) for doc in covid.tokens]  # Создаём корпус на основе словаря"
      ],
      "metadata": {
        "id": "0iVpPFMnWIX1",
        "colab": {
          "base_uri": "https://localhost:8080/"
        },
        "outputId": "33cee06e-3d33-484b-98e6-fb2b302563a6"
      },
      "execution_count": 10,
      "outputs": [
        {
          "output_type": "stream",
          "name": "stderr",
          "text": [
            "/usr/local/lib/python3.10/dist-packages/ipykernel/ipkernel.py:283: DeprecationWarning: `should_run_async` will not call `transform_cell` automatically in the future. Please pass the result to `transformed_cell` argument and any exception that happen during thetransform in `preprocessing_exc_tuple` in IPython 7.17 and above.\n",
            "  and should_run_async(code)\n"
          ]
        }
      ]
    },
    {
      "cell_type": "code",
      "source": [
        "word_freq = [[(my_dictionary[id], frequence) for id, frequence in couple] for couple in corpus]  # Поиск встречаемости всех слов в предложении\n",
        "print(word_freq[:2])                                                                                        # Вывод встречаемости"
      ],
      "metadata": {
        "colab": {
          "base_uri": "https://localhost:8080/"
        },
        "id": "19n5d9fVr_Pz",
        "outputId": "e2182e0d-3c18-4924-e1a7-913cafb94fff"
      },
      "execution_count": 11,
      "outputs": [
        {
          "output_type": "stream",
          "name": "stdout",
          "text": [
            "[[('hand', 1), ('intoxicated', 1), ('past', 1), ('sanitizers', 1), ('scent', 1), ('smelled', 1), ('someone', 1), ('think', 1), ('today', 1), ('would', 1)], [('would', 1), ('hey', 1), ('made', 1), ('pay', 1), ('player', 1), ('respect', 1), ('sense', 1)]]\n"
          ]
        },
        {
          "output_type": "stream",
          "name": "stderr",
          "text": [
            "/usr/local/lib/python3.10/dist-packages/ipykernel/ipkernel.py:283: DeprecationWarning: `should_run_async` will not call `transform_cell` automatically in the future. Please pass the result to `transformed_cell` argument and any exception that happen during thetransform in `preprocessing_exc_tuple` in IPython 7.17 and above.\n",
            "  and should_run_async(code)\n"
          ]
        }
      ]
    },
    {
      "cell_type": "markdown",
      "source": [
        "## ***Модель LDA***"
      ],
      "metadata": {
        "id": "gco8wYEkraW2"
      }
    },
    {
      "cell_type": "code",
      "source": [
        "coherence = 0                                                                                                                              # Начальный коэффиент согласованности равен 0\n",
        "for i in tqdm(range(1, 11)):                                                                                                               # Создаём цикл, который рассмотрит количество тем от 1 до 10\n",
        "  model=LdaMulticore(corpus=corpus, id2word=my_dictionary, num_topics=i, random_state=200)                                                 # Обучаем модель LDA\n",
        "  coherence_model = CoherenceModel(model=model, texts=covid[\"tokens\"].tolist(), dictionary=my_dictionary, corpus=corpus, coherence='c_v')  # Обучаем модель согласованности\n",
        "  new_coherence = coherence_model.get_coherence()                                                                                          # Находим для модели коэффициент согласованности \n",
        "  if new_coherence > coherence:                                                                                                            # Если он больше текущего, то\n",
        "    coherence = new_coherence                                                                                                              # задаём переменной coherence новое значение и\n",
        "    number = i\n",
        "print()                                                                                                                             # выводим количество тем\n",
        "print(coherence)\n",
        "print(number)"
      ],
      "metadata": {
        "colab": {
          "base_uri": "https://localhost:8080/"
        },
        "id": "hp8W9HiZrfKJ",
        "outputId": "352b4b7c-d0c6-43e9-adf6-a9e144c4c890"
      },
      "execution_count": 12,
      "outputs": [
        {
          "output_type": "stream",
          "name": "stderr",
          "text": [
            "/usr/local/lib/python3.10/dist-packages/ipykernel/ipkernel.py:283: DeprecationWarning: `should_run_async` will not call `transform_cell` automatically in the future. Please pass the result to `transformed_cell` argument and any exception that happen during thetransform in `preprocessing_exc_tuple` in IPython 7.17 and above.\n",
            "  and should_run_async(code)\n",
            "100%|██████████| 10/10 [03:40<00:00, 22.06s/it]"
          ]
        },
        {
          "output_type": "stream",
          "name": "stdout",
          "text": [
            "\n",
            "0.3393510583603389\n",
            "3\n"
          ]
        },
        {
          "output_type": "stream",
          "name": "stderr",
          "text": [
            "\n"
          ]
        }
      ]
    },
    {
      "cell_type": "markdown",
      "source": [
        "**Лучший результат показала модель с *3* скрытыми темами**"
      ],
      "metadata": {
        "id": "J54UsckszLHP"
      }
    },
    {
      "cell_type": "code",
      "source": [
        "model=LdaMulticore(corpus=corpus, id2word=my_dictionary, num_topics=number, random_state=100)                                            # Обучаем модель LDA на полученных данных\n",
        "print('\\nPerplexity:', model.log_perplexity(corpus))                                                                                     # Вывод перплексии\n",
        "coherence_model = CoherenceModel(model=model, texts=covid[\"tokens\"].tolist(), dictionary=my_dictionary, corpus=corpus, coherence='c_v')  # Обучаем модель согласованности на лучшей модели LDA\n",
        "coherence_lda = coherence_model.get_coherence()                                                                                          # Находим коэффициент согласованности\n",
        "print('\\nCoherence Score:', coherence_lda)                                                                                               # Выводим коэффициент согласованности"
      ],
      "metadata": {
        "id": "U1_b8kufyOOU",
        "colab": {
          "base_uri": "https://localhost:8080/"
        },
        "outputId": "d134c541-4872-4db7-91e4-3ffe53a099dd"
      },
      "execution_count": 13,
      "outputs": [
        {
          "output_type": "stream",
          "name": "stderr",
          "text": [
            "/usr/local/lib/python3.10/dist-packages/ipykernel/ipkernel.py:283: DeprecationWarning: `should_run_async` will not call `transform_cell` automatically in the future. Please pass the result to `transformed_cell` argument and any exception that happen during thetransform in `preprocessing_exc_tuple` in IPython 7.17 and above.\n",
            "  and should_run_async(code)\n"
          ]
        },
        {
          "output_type": "stream",
          "name": "stdout",
          "text": [
            "\n",
            "Perplexity: -8.707250339322494\n",
            "\n",
            "Coherence Score: 0.33459632477955986\n"
          ]
        }
      ]
    },
    {
      "cell_type": "code",
      "source": [
        "model.print_topics()  # Вывод тем"
      ],
      "metadata": {
        "id": "jbVRltkhC3LO",
        "colab": {
          "base_uri": "https://localhost:8080/"
        },
        "outputId": "03a4ba13-47d0-46e4-8e60-11c8efdcaf7d"
      },
      "execution_count": 14,
      "outputs": [
        {
          "output_type": "stream",
          "name": "stderr",
          "text": [
            "/usr/local/lib/python3.10/dist-packages/ipykernel/ipkernel.py:283: DeprecationWarning: `should_run_async` will not call `transform_cell` automatically in the future. Please pass the result to `transformed_cell` argument and any exception that happen during thetransform in `preprocessing_exc_tuple` in IPython 7.17 and above.\n",
            "  and should_run_async(code)\n"
          ]
        },
        {
          "output_type": "execute_result",
          "data": {
            "text/plain": [
              "[(0,\n",
              "  '0.046*\"case\" + 0.023*\"new\" + 0.022*\"death\" + 0.013*\"total\" + 0.012*\"positive\" + 0.010*\"day\" + 0.008*\"number\" + 0.008*\"last\" + 0.007*\"people\" + 0.007*\"india\"'),\n",
              " (1,\n",
              "  '0.008*\"covid19\" + 0.006*\"get\" + 0.006*\"u\" + 0.004*\"new\" + 0.004*\"one\" + 0.004*\"2020\" + 0.004*\"time\" + 0.004*\"people\" + 0.004*\"july\" + 0.003*\"hospital\"'),\n",
              " (2,\n",
              "  '0.013*\"mask\" + 0.007*\"people\" + 0.006*\"pandemic\" + 0.004*\"like\" + 0.004*\"u\" + 0.004*\"covid19\" + 0.004*\"american\" + 0.004*\"please\" + 0.004*\"home\" + 0.004*\"need\"')]"
            ]
          },
          "metadata": {},
          "execution_count": 14
        }
      ]
    },
    {
      "cell_type": "code",
      "source": [
        "pyLDAvis.enable_notebook()                                          # Включение библиотеки pyLDAvis\n",
        "vis = pyLDAvis.gensim_models.prepare(model, corpus, my_dictionary)  # Подготовка к построению визуализации\n",
        "vis"
      ],
      "metadata": {
        "id": "PKDvXSJVCrNE",
        "colab": {
          "base_uri": "https://localhost:8080/",
          "height": 915
        },
        "outputId": "6e7ea3d9-9080-4f48-859b-3d36c1fa5fe7"
      },
      "execution_count": 15,
      "outputs": [
        {
          "output_type": "stream",
          "name": "stderr",
          "text": [
            "/usr/local/lib/python3.10/dist-packages/ipykernel/ipkernel.py:283: DeprecationWarning: `should_run_async` will not call `transform_cell` automatically in the future. Please pass the result to `transformed_cell` argument and any exception that happen during thetransform in `preprocessing_exc_tuple` in IPython 7.17 and above.\n",
            "  and should_run_async(code)\n"
          ]
        },
        {
          "output_type": "execute_result",
          "data": {
            "text/plain": [
              "PreparedData(topic_coordinates=              x         y  topics  cluster       Freq\n",
              "topic                                                \n",
              "2     -0.095491  0.089461       1        1  39.043111\n",
              "0      0.161583  0.011552       2        1  31.169154\n",
              "1     -0.066092 -0.101013       3        1  29.787734, topic_info=            Term         Freq        Total Category  logprob  loglift\n",
              "72          case  3193.000000  3193.000000  Default  30.0000  30.0000\n",
              "39         death  1532.000000  1532.000000  Default  29.0000  29.0000\n",
              "269          new  1883.000000  1883.000000  Default  28.0000  28.0000\n",
              "232        total   879.000000   879.000000  Default  27.0000  27.0000\n",
              "205     positive   833.000000   833.000000  Default  26.0000  26.0000\n",
              "..           ...          ...          ...      ...      ...      ...\n",
              "150  coronavirus   171.782489   842.042439   Topic3  -5.9060  -0.3785\n",
              "302         like   160.819351   588.515111   Topic3  -5.9720  -0.0862\n",
              "21         trump   154.032653   420.253756   Topic3  -6.0151   0.2074\n",
              "512     pandemic   154.225719   752.195898   Topic3  -6.0139  -0.3735\n",
              "226          day   151.372762   950.954943   Topic3  -6.0325  -0.6266\n",
              "\n",
              "[275 rows x 6 columns], token_table=       Topic      Freq    Term\n",
              "term                          \n",
              "330        1  0.101952      10\n",
              "330        2  0.787808      10\n",
              "330        3  0.111220      10\n",
              "233        1  0.058135      13\n",
              "233        2  0.920474      13\n",
              "...      ...       ...     ...\n",
              "3976       1  0.947408     yep\n",
              "12170      2  0.972774  yester\n",
              "3212       1  0.121330     yet\n",
              "3212       2  0.109775     yet\n",
              "3212       3  0.762649     yet\n",
              "\n",
              "[545 rows x 3 columns], R=30, lambda_step=0.01, plot_opts={'xlab': 'PC1', 'ylab': 'PC2'}, topic_order=[3, 1, 2])"
            ],
            "text/html": [
              "\n",
              "<link rel=\"stylesheet\" type=\"text/css\" href=\"https://cdn.jsdelivr.net/gh/bmabey/pyLDAvis@3.4.0/pyLDAvis/js/ldavis.v1.0.0.css\">\n",
              "\n",
              "\n",
              "<div id=\"ldavis_el2501396815815601285021447159\" style=\"background-color:white;\"></div>\n",
              "<script type=\"text/javascript\">\n",
              "\n",
              "var ldavis_el2501396815815601285021447159_data = {\"mdsDat\": {\"x\": [-0.09549109187330321, 0.161582805955383, -0.06609171408207987], \"y\": [0.08946138017531362, 0.011552056475470014, -0.10101343665078356], \"topics\": [1, 2, 3], \"cluster\": [1, 1, 1], \"Freq\": [39.04311115094207, 31.169154392304605, 29.787734456753324]}, \"tinfo\": {\"Term\": [\"case\", \"death\", \"new\", \"total\", \"positive\", \"mask\", \"number\", \"last\", \"24\", \"hour\", \"reported\", \"india\", \"active\", \"confirmed\", \"report\", \"day\", \"update\", \"tested\", \"recovered\", \"july\", \"get\", \"record\", \"wear\", \"test\", \"please\", \"sample\", \"gt\", \"sunday\", \"american\", \"daily\", \"2000month\", \"petition\", \"mom\", \"ordered\", \"aka\", \"dog\", \"tear\", \"modi\", \"commercial\", \"researcher\", \"hole\", \"karen\", \"pray\", \"removed\", \"wore\", \"observed\", \"concerning\", \"dinosaur\", \"phase\", \"okay\", \"peop\", \"yep\", \"conspiracy\", \"upon\", \"locked\", \"shah\", \"leaving\", \"reflects\", \"guest\", \"gas\", \"mask\", \"store\", \"tip\", \"address\", \"step\", \"wearing\", \"wear\", \"fighting\", \"mandate\", \"theory\", \"please\", \"visit\", \"sick\", \"protest\", \"tweet\", \"american\", \"plan\", \"spreading\", \"share\", \"maybe\", \"follow\", \"interesting\", \"everyone\", \"face\", \"every\", \"stay\", \"pandemic\", \"distancing\", \"keep\", \"see\", \"stop\", \"safe\", \"social\", \"home\", \"away\", \"study\", \"vaccine\", \"like\", \"help\", \"sign\", \"people\", \"back\", \"news\", \"trump\", \"via\", \"give\", \"lockdown\", \"take\", \"global\", \"go\", \"u\", \"need\", \"time\", \"covid19\", \"coronavirus\", \"say\", \"one\", \"health\", \"singleday\", \"toll\", \"venrap\", \"sample\", \"total\", \"detected\", \"selfreporting\", \"amount\", \"afp\", \"sooner\", \"recorded\", \"reported\", \"35\", \"thankful\", \"48916\", \"hour\", \"705\", \"442263\", \"yester\", \"cureddischarged\", \"drinking\", \"24\", \"37\", \"georgia\", \"dallas\", \"yashoda\", \"757\", \"connect\", \"lakh\", \"gave\", \"case\", \"positive\", \"48661\", \"death\", \"tally\", \"spike\", \"312\", \"number\", \"active\", \"record\", \"confirmed\", \"last\", \"india\", \"slow\", \"new\", \"symptom\", \"report\", \"recovered\", \"highest\", \"tested\", \"daily\", \"13\", \"gmt\", \"update\", \"day\", \"test\", \"10\", \"today\", \"july\", \"state\", \"coronavirus\", \"people\", \"first\", \"covid19\", \"one\", \"need\", \"spread\", \"edt\", \"911\", \"disgusting\", \"credit\", \"dream\", \"smell\", \"helpful\", \"plane\", \"falling\", \"racist\", \"curfew\", \"holding\", \"arizona\", \"teach\", \"temple\", \"scared\", \"doubt\", \"donald\", \"turning\", \"giving\", \"hearing\", \"express\", \"basic\", \"trending\", \"spend\", \"regret\", \"always\", \"fewer\", \"ruined\", \"steve\", \"voter\", \"trained\", \"as\", \"putting\", \"canadian\", \"saint\", \"thanks\", \"prayer\", \"sunday\", \"texas\", \"725\", \"gt\", \"management\", \"least\", \"cool\", \"reason\", \"hurricane\", \"declared\", \"san\", \"die\", \"much\", \"happened\", \"money\", \"care\", \"26\", \"yet\", \"right\", \"get\", \"best\", \"question\", \"year\", \"anyone\", \"change\", \"hospital\", \"still\", \"data\", \"2020\", \"covid19\", \"impact\", \"u\", \"come\", \"would\", \"thing\", \"many\", \"time\", \"july\", \"say\", \"one\", \"way\", \"country\", \"good\", \"need\", \"new\", \"people\", \"read\", \"coronavirus\", \"like\", \"trump\", \"pandemic\", \"day\"], \"Freq\": [3193.0, 1532.0, 1883.0, 879.0, 833.0, 1085.0, 557.0, 566.0, 432.0, 415.0, 408.0, 481.0, 382.0, 389.0, 475.0, 950.0, 578.0, 371.0, 293.0, 600.0, 646.0, 209.0, 316.0, 549.0, 364.0, 153.0, 202.0, 183.0, 373.0, 220.0, 71.31402820977159, 94.25130045416797, 77.20699003248747, 47.24402388888486, 39.313294180800085, 51.49557514356418, 28.32520391400815, 60.76113225620819, 34.176082297187726, 66.83983204789601, 27.13619693901508, 27.35817282372658, 23.33515291148718, 23.544595454109984, 28.031243135180446, 44.952920291470015, 21.43828645583244, 21.139190087139664, 51.95145861615073, 30.717868975099517, 19.06388835578644, 22.467731568208947, 52.09923557550148, 18.04571434703367, 22.276030154210936, 22.217757814476723, 27.719233188598277, 18.120567855544984, 26.035476866454044, 20.249917218100023, 1036.430072913926, 56.829253421461736, 46.11547440620214, 51.12638062042447, 89.79852745113908, 209.57365177736895, 293.9064484262074, 96.1852663725031, 36.370083778639255, 40.262952345479064, 323.545241890717, 96.23188616953502, 125.63542437497726, 132.82822468892144, 66.26789964631536, 324.8458986108835, 155.17587634733778, 55.94896903796382, 114.87934292361261, 85.934484608481, 194.42588533287932, 94.48777824353125, 210.25041374526754, 207.01188286030816, 259.3079939445639, 218.42717767540265, 536.1456091465018, 139.07186018210524, 234.66476730824104, 259.08447305109263, 213.51659114211535, 230.05399911035667, 233.63978635668911, 302.25020806951824, 131.5249592623755, 144.97995442706647, 166.9685094700628, 353.0425298800317, 270.51878928244463, 175.05775178247868, 610.1890902614402, 242.56015674586257, 299.44260467453023, 259.79213519418687, 239.26167374528995, 175.80511246840993, 204.14396155324044, 227.0015623646129, 237.26542616542343, 231.43120355424767, 340.5719122591122, 300.1082772337605, 279.7183008804415, 337.2365800776521, 289.8944312866311, 248.0417515633415, 238.95977614576168, 223.86751450195058, 106.63192542664565, 102.47053770488766, 40.35285156672834, 151.04897416710818, 862.8595758331538, 39.74011000265349, 41.95002494877167, 49.220891575274116, 32.73958172503859, 47.68987723710972, 93.87231347408485, 398.13432113648173, 29.256735343572476, 32.87387866676308, 27.122535576896407, 403.4745064025162, 103.6041635846363, 30.528360351058936, 29.94305185085756, 22.89149219551261, 24.56451524221908, 418.1759389342815, 28.253625449619836, 22.13979473741315, 28.05848547268214, 19.515323333805508, 21.139347650836985, 19.3285118344847, 51.49303859681703, 25.888422339991205, 3015.96784162868, 792.4069029934086, 128.6549408829827, 1436.1742844094927, 127.77459294122472, 143.30202601571068, 43.27245655154731, 523.4511543965274, 359.40635843463434, 197.43850611717093, 360.8409699239267, 517.220446421155, 438.7130463955889, 80.56683753665192, 1523.2967308457955, 166.11116522551444, 409.7940514724687, 260.0008465052871, 80.25556188648164, 312.8082283794433, 191.33258505717848, 95.16343307496889, 112.56493691673731, 437.6391012145002, 647.6082178498554, 379.9074699659233, 169.86723754568544, 320.46014543122334, 333.3911684040791, 314.1520354474936, 380.36551894389515, 479.02873393209325, 247.50455661551075, 357.08820209775826, 277.6524698035693, 234.38150411675807, 191.51628418424107, 55.09219477236655, 38.51562493400122, 35.05712109376767, 24.888369291957254, 32.39698040500634, 29.046073874482452, 20.446358620527366, 21.358091682332553, 26.984807451149262, 21.168243994085234, 27.40415273555114, 21.291161462701034, 27.888621547786403, 26.574385461604024, 17.21401440318719, 32.04391904398299, 36.88342210776048, 54.41071576710294, 22.48630093964964, 43.89448792586463, 19.026658736697758, 18.27988728526192, 36.85253208457774, 19.37925006408257, 27.11559614714169, 14.57251899411088, 118.2482425818578, 15.661654869155498, 19.20043714992752, 14.817473536304666, 44.04010287822895, 26.832459634126646, 22.949757779387085, 22.949425450916085, 35.09052653134416, 29.174552795797997, 106.8733183650754, 40.19563165013651, 164.95948052942452, 138.4739075566087, 48.1152614751235, 177.15880702682665, 39.00171683114456, 81.27221650302948, 32.940100602200566, 75.23164529582353, 46.939336459219085, 63.273409333614005, 46.32319580185023, 162.74873606476027, 156.82350670588647, 55.81812500571231, 95.0036543666281, 186.07697557909873, 139.46987945957085, 132.43503287706685, 211.5245527039568, 391.35597099951724, 95.3224399934161, 96.66319625879794, 193.25480051902588, 110.37887330695428, 80.08613802610506, 220.00968807817344, 196.4272484966925, 175.3901585763109, 252.24869311497702, 521.0959191245076, 99.24806546691258, 375.97905553152697, 134.42503779423214, 162.41258857044875, 141.41471708178275, 176.50597436854935, 245.11662301205143, 232.2142143227019, 204.56388330503478, 255.93537258175672, 149.50644898909331, 183.52945201242116, 172.73013539595922, 209.11946401830778, 275.4514042707231, 239.19181962116255, 147.84849346045354, 171.7824888264594, 160.81935079841534, 154.03265259995763, 154.2257189169876, 151.37276161656678], \"Total\": [3193.0, 1532.0, 1883.0, 879.0, 833.0, 1085.0, 557.0, 566.0, 432.0, 415.0, 408.0, 481.0, 382.0, 389.0, 475.0, 950.0, 578.0, 371.0, 293.0, 600.0, 646.0, 209.0, 316.0, 549.0, 364.0, 153.0, 202.0, 183.0, 373.0, 220.0, 71.92120683739921, 95.26701226006392, 78.07252214413126, 47.93404104539705, 39.99458655653821, 52.59815215548498, 28.95448627757964, 62.13328139292155, 34.973217609026044, 68.48538553818692, 27.83653964727874, 28.12051865074982, 24.003395808306884, 24.230735179750877, 28.860059373308673, 46.30113253641057, 22.082287638889344, 21.788500565183544, 53.606800313403205, 31.69879737752923, 19.682372310834577, 23.221254323436195, 53.85014303575387, 18.67213849915211, 23.059356598188657, 23.01413861669991, 28.721305836413087, 18.790593331146148, 27.007311596379996, 21.018049515125092, 1085.7647738451687, 59.00722657391272, 47.93802270826483, 53.22506851992793, 94.09990468516871, 222.72527385865564, 316.36688643822004, 102.00484241518672, 38.02433835019048, 42.22834901823629, 364.5179434597907, 104.16315019640574, 137.54701540713853, 145.9883715435965, 70.75622390716627, 373.2429560282054, 173.49879407971622, 59.603375826014904, 127.20082078127487, 94.25227192790534, 224.7569556848317, 104.27844905613357, 247.33762111562137, 243.60631953287395, 318.5891853436881, 263.34500768072104, 752.1958978987528, 163.2492808992721, 296.02800473746686, 334.36349731302056, 268.3684395257044, 294.07131458948476, 308.45526108786936, 419.93545474743706, 158.44107746781995, 179.2731302800613, 215.1749748936884, 588.515111021185, 424.7783426004397, 234.15152959813446, 1328.409643814696, 376.3819720059138, 509.38670185067895, 420.25375580358264, 376.6054572634237, 239.49362698457497, 306.6924575740343, 366.3819107805704, 397.58962877218175, 394.1100061793319, 878.0551611751962, 743.6092453688264, 637.0300341362567, 1215.420701299918, 842.0424390569857, 504.93648565275566, 772.5476185310878, 487.119492453838, 107.44692781632104, 103.74953398382469, 40.98500131470465, 153.7292386622857, 879.1134289810363, 40.50440464448161, 42.82089100704445, 50.25342218203508, 33.48735375234436, 48.85512296526257, 96.22036388860204, 408.25632734819624, 30.0341221196524, 33.79163487169051, 27.886122185361504, 415.33030448199503, 106.69267595417382, 31.438605495127934, 30.83963931677691, 23.57861219226526, 25.37565029792337, 432.01000008976405, 29.188632475538732, 22.888227941633275, 29.013984731519855, 20.195498297758654, 21.87914623838789, 20.01281799416996, 53.330581340622196, 26.8132211319359, 3193.815426194596, 833.1019129566974, 133.46642554796708, 1532.0063764042072, 133.41567489826414, 150.42428607333923, 44.89850348146091, 557.5926884299807, 382.1708317013044, 209.8595660706041, 389.975135964689, 566.9634065287656, 481.2806577988736, 84.85308401703543, 1883.792309630453, 182.89748982298818, 475.40926058547245, 293.2812367815534, 85.68346097413315, 371.2644420900103, 220.49506028654287, 103.20768385537858, 125.26421612029094, 578.6335284674011, 950.9549430803409, 549.9564929381281, 215.78853006970394, 549.3753258247365, 600.2740123726538, 565.1631756617547, 842.0424390569857, 1328.409643814696, 443.058577328524, 1215.420701299918, 772.5476185310878, 743.6092453688264, 326.28477375906385, 55.753273444108174, 39.35760075454588, 36.100754100525506, 25.662569916763932, 33.405646038449376, 29.98495371276007, 21.121352072860933, 22.070949204180877, 27.905743190780633, 21.896703498138628, 28.370616130515597, 22.04320055709254, 28.905669095910092, 27.560288111605097, 17.883085503862464, 33.29232565015335, 38.33148221567078, 56.56555832013851, 23.404113745355087, 45.69980649399447, 19.814854110819546, 19.04954852240822, 38.429069303074414, 20.21775694027172, 28.3190674389607, 15.232146011253409, 123.68431670294427, 16.38293614056834, 20.088060591115465, 15.503372335884528, 46.275872372251186, 28.07549260998259, 24.019687579685893, 24.031091544211044, 36.927563254069575, 30.6784469705162, 116.19497410732706, 42.61287014567257, 183.07214926990534, 155.2404296089505, 51.68423729566438, 202.11273166852774, 41.66621333861751, 90.859260934234, 34.90118536272681, 84.29068990627019, 51.608321701758356, 71.71168519886666, 50.919076235170934, 209.218507073935, 200.70779611574346, 62.89838181503872, 114.4506268253968, 244.13080998423678, 177.4905497082886, 173.08099312761976, 310.33360248814324, 646.9697165665455, 120.98604018856935, 124.76562261467356, 292.78681357014335, 147.4330519443626, 100.52245214975231, 369.3933349905961, 322.2660279067254, 281.17864913041944, 459.0359030294069, 1215.420701299918, 137.4158990554116, 878.0551611751962, 212.89824228194567, 295.0350496968575, 239.69444384815296, 357.4675459628606, 637.0300341362567, 600.2740123726538, 504.93648565275566, 772.5476185310878, 287.1710995299219, 430.1628542774706, 405.80598442207804, 743.6092453688264, 1883.792309630453, 1328.409643814696, 304.3123456203, 842.0424390569857, 588.515111021185, 420.25375580358264, 752.1958978987528, 950.9549430803409], \"Category\": [\"Default\", \"Default\", \"Default\", \"Default\", \"Default\", \"Default\", \"Default\", \"Default\", \"Default\", \"Default\", \"Default\", \"Default\", \"Default\", \"Default\", \"Default\", \"Default\", \"Default\", \"Default\", \"Default\", \"Default\", \"Default\", \"Default\", \"Default\", \"Default\", \"Default\", \"Default\", \"Default\", \"Default\", \"Default\", \"Default\", \"Topic1\", \"Topic1\", \"Topic1\", \"Topic1\", \"Topic1\", \"Topic1\", \"Topic1\", \"Topic1\", \"Topic1\", \"Topic1\", \"Topic1\", \"Topic1\", \"Topic1\", \"Topic1\", \"Topic1\", \"Topic1\", \"Topic1\", \"Topic1\", \"Topic1\", \"Topic1\", \"Topic1\", \"Topic1\", \"Topic1\", \"Topic1\", \"Topic1\", \"Topic1\", \"Topic1\", \"Topic1\", \"Topic1\", \"Topic1\", \"Topic1\", \"Topic1\", \"Topic1\", \"Topic1\", \"Topic1\", \"Topic1\", \"Topic1\", \"Topic1\", \"Topic1\", \"Topic1\", \"Topic1\", \"Topic1\", \"Topic1\", \"Topic1\", \"Topic1\", \"Topic1\", \"Topic1\", \"Topic1\", \"Topic1\", \"Topic1\", \"Topic1\", \"Topic1\", \"Topic1\", \"Topic1\", \"Topic1\", \"Topic1\", \"Topic1\", \"Topic1\", \"Topic1\", \"Topic1\", \"Topic1\", \"Topic1\", \"Topic1\", \"Topic1\", \"Topic1\", \"Topic1\", \"Topic1\", \"Topic1\", \"Topic1\", \"Topic1\", \"Topic1\", \"Topic1\", \"Topic1\", \"Topic1\", \"Topic1\", \"Topic1\", \"Topic1\", \"Topic1\", \"Topic1\", \"Topic1\", \"Topic1\", \"Topic1\", \"Topic1\", \"Topic1\", \"Topic1\", \"Topic1\", \"Topic1\", \"Topic1\", \"Topic2\", \"Topic2\", \"Topic2\", \"Topic2\", \"Topic2\", \"Topic2\", \"Topic2\", \"Topic2\", \"Topic2\", \"Topic2\", \"Topic2\", \"Topic2\", \"Topic2\", \"Topic2\", \"Topic2\", \"Topic2\", \"Topic2\", \"Topic2\", \"Topic2\", \"Topic2\", \"Topic2\", \"Topic2\", \"Topic2\", \"Topic2\", \"Topic2\", \"Topic2\", \"Topic2\", \"Topic2\", \"Topic2\", \"Topic2\", \"Topic2\", \"Topic2\", \"Topic2\", \"Topic2\", \"Topic2\", \"Topic2\", \"Topic2\", \"Topic2\", \"Topic2\", \"Topic2\", \"Topic2\", \"Topic2\", \"Topic2\", \"Topic2\", \"Topic2\", \"Topic2\", \"Topic2\", \"Topic2\", \"Topic2\", \"Topic2\", \"Topic2\", \"Topic2\", \"Topic2\", \"Topic2\", \"Topic2\", \"Topic2\", \"Topic2\", \"Topic2\", \"Topic2\", \"Topic2\", \"Topic2\", \"Topic2\", \"Topic2\", \"Topic2\", \"Topic2\", \"Topic2\", \"Topic2\", \"Topic3\", \"Topic3\", \"Topic3\", \"Topic3\", \"Topic3\", \"Topic3\", \"Topic3\", \"Topic3\", \"Topic3\", \"Topic3\", \"Topic3\", \"Topic3\", \"Topic3\", \"Topic3\", \"Topic3\", \"Topic3\", \"Topic3\", \"Topic3\", \"Topic3\", \"Topic3\", \"Topic3\", \"Topic3\", \"Topic3\", \"Topic3\", \"Topic3\", \"Topic3\", \"Topic3\", \"Topic3\", \"Topic3\", \"Topic3\", \"Topic3\", \"Topic3\", \"Topic3\", \"Topic3\", \"Topic3\", \"Topic3\", \"Topic3\", \"Topic3\", \"Topic3\", \"Topic3\", \"Topic3\", \"Topic3\", \"Topic3\", \"Topic3\", \"Topic3\", \"Topic3\", \"Topic3\", \"Topic3\", \"Topic3\", \"Topic3\", \"Topic3\", \"Topic3\", \"Topic3\", \"Topic3\", \"Topic3\", \"Topic3\", \"Topic3\", \"Topic3\", \"Topic3\", \"Topic3\", \"Topic3\", \"Topic3\", \"Topic3\", \"Topic3\", \"Topic3\", \"Topic3\", \"Topic3\", \"Topic3\", \"Topic3\", \"Topic3\", \"Topic3\", \"Topic3\", \"Topic3\", \"Topic3\", \"Topic3\", \"Topic3\", \"Topic3\", \"Topic3\", \"Topic3\", \"Topic3\", \"Topic3\", \"Topic3\", \"Topic3\", \"Topic3\", \"Topic3\", \"Topic3\", \"Topic3\", \"Topic3\", \"Topic3\", \"Topic3\"], \"logprob\": [30.0, 29.0, 28.0, 27.0, 26.0, 25.0, 24.0, 23.0, 22.0, 21.0, 20.0, 19.0, 18.0, 17.0, 16.0, 15.0, 14.0, 13.0, 12.0, 11.0, 10.0, 9.0, 8.0, 7.0, 6.0, 5.0, 4.0, 3.0, 2.0, 1.0, -7.0557, -6.7769, -6.9763, -7.4675, -7.6513, -7.3813, -7.9791, -7.2159, -7.7913, -7.1205, -8.022, -8.0138, -8.1729, -8.1639, -7.9895, -7.5172, -8.2577, -8.2717, -7.3725, -7.898, -8.375, -8.2108, -7.3697, -8.4299, -8.2193, -8.2219, -8.0007, -8.4258, -8.0634, -8.3147, -4.3793, -7.2828, -7.4917, -7.3885, -6.8253, -5.9778, -5.6396, -6.7566, -7.7291, -7.6274, -5.5435, -6.7561, -6.4895, -6.4338, -7.1291, -5.5395, -6.2783, -7.2984, -6.579, -6.8693, -6.0528, -6.7744, -5.9745, -5.9901, -5.7648, -5.9364, -5.0384, -6.3878, -5.8647, -5.7657, -5.9591, -5.8845, -5.8691, -5.6116, -6.4436, -6.3462, -6.205, -5.4562, -5.7225, -6.1577, -4.9091, -5.8316, -5.6209, -5.763, -5.8453, -6.1535, -6.004, -5.8979, -5.8537, -5.8786, -5.4922, -5.6187, -5.6891, -5.5021, -5.6533, -5.8092, -5.8465, -5.9118, -6.4282, -6.468, -7.3999, -6.08, -4.3373, -7.4152, -7.3611, -7.2013, -7.609, -7.2329, -6.5557, -5.1108, -7.7215, -7.6049, -7.7972, -5.0975, -6.457, -7.6789, -7.6983, -7.9668, -7.8963, -5.0617, -7.7564, -8.0002, -7.7633, -8.1264, -8.0465, -8.136, -7.1562, -7.8438, -3.0859, -4.4225, -6.2405, -3.8279, -6.2473, -6.1326, -7.3301, -4.8372, -5.2131, -5.8122, -5.2092, -4.8491, -5.0138, -6.7085, -3.769, -5.9849, -5.0819, -5.5369, -6.7124, -5.352, -5.8436, -6.542, -6.3741, -5.0162, -4.6243, -5.1577, -5.9626, -5.3278, -5.2883, -5.3477, -5.1565, -4.9258, -5.5862, -5.2196, -5.4712, -5.6406, -5.8426, -7.0433, -7.4012, -7.4953, -7.8379, -7.5742, -7.6834, -8.0345, -7.9908, -7.757, -7.9998, -7.7416, -7.994, -7.724, -7.7723, -8.2065, -7.5852, -7.4445, -7.0557, -7.9394, -7.2705, -8.1064, -8.1465, -7.4453, -8.0881, -7.7522, -8.3731, -6.2795, -8.3011, -8.0973, -8.3565, -7.2672, -7.7627, -7.919, -7.919, -7.4943, -7.679, -6.3806, -7.3585, -5.9466, -6.1216, -7.1787, -5.8752, -7.3887, -6.6545, -7.5576, -6.7317, -7.2034, -6.9048, -7.2166, -5.9601, -5.9971, -7.0302, -6.4984, -5.8261, -6.1144, -6.1662, -5.6979, -5.0827, -6.495, -6.481, -5.7883, -6.3483, -6.6692, -5.6586, -5.772, -5.8853, -5.5219, -4.7963, -6.4546, -5.1227, -6.1513, -5.9621, -6.1006, -5.8789, -5.5505, -5.6046, -5.7314, -5.5073, -6.0449, -5.8399, -5.9005, -5.7094, -5.4339, -5.575, -6.0561, -5.906, -5.972, -6.0151, -6.0139, -6.0325], \"loglift\": [30.0, 29.0, 28.0, 27.0, 26.0, 25.0, 24.0, 23.0, 22.0, 21.0, 20.0, 19.0, 18.0, 17.0, 16.0, 15.0, 14.0, 13.0, 12.0, 11.0, 10.0, 9.0, 8.0, 7.0, 6.0, 5.0, 4.0, 3.0, 2.0, 1.0, 0.932, 0.9298, 0.9294, 0.926, 0.9233, 0.9193, 0.9185, 0.9182, 0.9174, 0.9162, 0.915, 0.913, 0.9123, 0.9118, 0.9114, 0.911, 0.9109, 0.9103, 0.9091, 0.9091, 0.9086, 0.9075, 0.9074, 0.9064, 0.9059, 0.9053, 0.905, 0.9042, 0.9039, 0.9033, 0.894, 0.9029, 0.9017, 0.9003, 0.8937, 0.8796, 0.8669, 0.8818, 0.896, 0.8928, 0.8213, 0.8613, 0.8499, 0.846, 0.875, 0.8016, 0.8289, 0.8772, 0.8386, 0.8481, 0.7955, 0.8419, 0.778, 0.7777, 0.7346, 0.7535, 0.6019, 0.7802, 0.7082, 0.6854, 0.7119, 0.695, 0.6627, 0.6117, 0.7543, 0.7282, 0.6869, 0.4295, 0.4893, 0.6497, 0.1625, 0.5011, 0.4092, 0.4595, 0.4869, 0.6314, 0.5335, 0.4618, 0.4243, 0.4082, -0.0066, 0.0331, 0.1175, -0.3416, -0.1258, 0.2297, -0.2329, 0.163, 1.1581, 1.1533, 1.1502, 1.1482, 1.1471, 1.1467, 1.1452, 1.145, 1.1432, 1.1416, 1.141, 1.1406, 1.1395, 1.1382, 1.138, 1.1368, 1.1364, 1.1364, 1.1362, 1.1362, 1.1333, 1.1332, 1.1332, 1.1325, 1.1323, 1.1315, 1.1313, 1.1309, 1.1307, 1.1306, 1.1084, 1.1157, 1.129, 1.1011, 1.1225, 1.1172, 1.1289, 1.1026, 1.1043, 1.1047, 1.0881, 1.0739, 1.0731, 1.1139, 0.9533, 1.0695, 1.0172, 1.0453, 1.1003, 0.9944, 1.0239, 1.0846, 1.0588, 0.8865, 0.7816, 0.7958, 0.9265, 0.6267, 0.5777, 0.5785, 0.371, 0.1458, 0.5835, -0.0591, 0.1424, 0.0112, 0.6329, 1.1991, 1.1894, 1.1817, 1.1804, 1.1804, 1.1793, 1.1786, 1.1782, 1.1775, 1.1772, 1.1764, 1.1764, 1.1753, 1.1746, 1.1729, 1.1729, 1.1726, 1.1722, 1.1711, 1.1708, 1.1705, 1.1698, 1.1692, 1.1687, 1.1676, 1.1668, 1.1661, 1.166, 1.1659, 1.1658, 1.1616, 1.1658, 1.1655, 1.165, 1.16, 1.1608, 1.1274, 1.1527, 1.1069, 1.0968, 1.1395, 1.0793, 1.145, 1.0996, 1.1532, 1.0974, 1.1162, 1.0859, 1.1165, 0.9599, 0.9643, 1.0917, 1.0248, 0.9395, 0.97, 0.9434, 0.8278, 0.7084, 0.9727, 0.9559, 0.7956, 0.9216, 0.9838, 0.6929, 0.716, 0.7391, 0.6124, 0.3642, 0.8857, 0.3629, 0.7513, 0.6141, 0.6834, 0.5054, 0.256, 0.2613, 0.3075, 0.1063, 0.5583, 0.3593, 0.3569, -0.0575, -0.7116, -0.5034, 0.4892, -0.3785, -0.0862, 0.2074, -0.3735, -0.6266]}, \"token.table\": {\"Topic\": [1, 2, 3, 1, 2, 3, 1, 1, 2, 3, 1, 2, 3, 1, 2, 3, 2, 3, 2, 2, 3, 2, 1, 2, 3, 2, 1, 2, 3, 2, 3, 2, 3, 1, 2, 3, 1, 3, 2, 1, 1, 2, 3, 1, 2, 3, 2, 3, 1, 2, 3, 1, 3, 2, 3, 1, 2, 3, 1, 2, 3, 1, 3, 1, 2, 3, 1, 2, 3, 1, 2, 3, 1, 2, 3, 1, 2, 3, 1, 2, 3, 1, 1, 1, 2, 3, 2, 1, 2, 3, 1, 2, 3, 1, 2, 3, 1, 2, 3, 1, 2, 3, 3, 2, 2, 3, 1, 2, 3, 2, 3, 1, 2, 3, 1, 2, 3, 1, 2, 3, 1, 2, 3, 2, 1, 2, 3, 1, 1, 2, 3, 1, 2, 3, 1, 2, 1, 2, 3, 1, 2, 3, 1, 3, 2, 3, 1, 2, 3, 1, 2, 3, 3, 1, 2, 3, 1, 3, 3, 1, 2, 3, 1, 2, 3, 1, 2, 3, 1, 1, 2, 2, 1, 2, 3, 1, 2, 3, 1, 2, 3, 1, 2, 3, 2, 3, 1, 2, 3, 1, 2, 3, 1, 2, 3, 1, 2, 1, 2, 3, 1, 2, 3, 3, 1, 2, 3, 3, 1, 2, 3, 3, 1, 1, 2, 3, 1, 2, 3, 1, 2, 3, 1, 3, 1, 2, 3, 1, 2, 3, 1, 2, 3, 1, 2, 3, 1, 1, 2, 3, 1, 2, 3, 1, 2, 3, 1, 2, 3, 1, 3, 1, 2, 3, 1, 2, 3, 1, 2, 3, 1, 2, 3, 1, 2, 3, 1, 2, 3, 1, 2, 3, 1, 2, 3, 1, 3, 1, 2, 3, 1, 2, 3, 1, 2, 3, 1, 2, 3, 1, 2, 3, 1, 2, 3, 1, 3, 1, 2, 1, 2, 3, 1, 1, 2, 3, 1, 1, 2, 3, 1, 2, 1, 2, 3, 1, 2, 3, 3, 1, 2, 3, 1, 2, 3, 1, 1, 3, 1, 2, 3, 2, 3, 1, 2, 3, 3, 1, 2, 3, 1, 2, 3, 1, 2, 3, 1, 2, 3, 1, 2, 3, 1, 3, 1, 1, 2, 3, 1, 2, 3, 1, 2, 3, 1, 2, 3, 3, 1, 2, 3, 1, 2, 3, 1, 2, 3, 1, 2, 3, 1, 2, 3, 1, 2, 3, 1, 2, 3, 1, 2, 1, 1, 2, 3, 1, 2, 3, 1, 2, 3, 2, 1, 2, 3, 1, 3, 1, 2, 3, 1, 2, 1, 3, 1, 2, 3, 1, 2, 3, 1, 2, 3, 1, 2, 3, 1, 2, 3, 1, 2, 3, 3, 1, 2, 3, 1, 2, 3, 1, 2, 3, 1, 2, 3, 1, 2, 3, 1, 2, 3, 1, 2, 3, 1, 2, 3, 1, 3, 1, 3, 1, 2, 3, 1, 2, 3, 1, 2, 3, 2, 1, 2, 3, 1, 3, 1, 2, 3, 1, 2, 3, 1, 3, 1, 2, 3, 1, 2, 3, 1, 2, 3, 1, 3, 3, 1, 2, 3, 2, 3, 1, 2, 3, 1, 2, 3, 1, 2, 3, 1, 1, 2, 3, 2, 1, 2, 3, 1, 2, 3, 1, 3, 1, 2, 3, 1, 2, 3, 1, 2, 3, 1, 1, 2, 3, 2, 1, 2, 3, 1, 2, 1, 2, 3], \"Freq\": [0.10195166533130175, 0.7878083230146045, 0.11121999854323827, 0.05813520637094808, 0.9204741008733446, 0.01937840212364936, 0.9871914435545848, 0.22438332017223844, 0.22438332017223844, 0.5489766668291659, 0.009259044927591654, 0.9675701949333279, 0.023147612318979136, 0.05634102782618748, 0.15775487791332493, 0.7831402867840059, 0.9577156623439617, 0.02227245726381306, 0.9655684252886573, 0.9592775551737528, 0.034259912684776885, 0.9860488247420547, 0.007492521028373579, 0.9665352126601917, 0.029970084113494316, 0.9682235421808966, 0.009372714584734154, 0.974762316812352, 0.01874542916946831, 0.05804477645356798, 0.9287164232570877, 0.9598180738494544, 0.9909140611294865, 0.02354967792789112, 0.939370486234768, 0.03401620145139828, 0.9581951027626231, 0.03757627853971071, 0.9854466329006292, 0.9751319705447582, 0.032340397769321884, 0.016170198884660942, 0.9540417341949955, 0.8707465064000839, 0.050905180374158754, 0.07769738057108441, 0.9750579736143191, 0.019899142318659573, 0.223830406851059, 0.02713095840618897, 0.7461013561701968, 0.03459528982643379, 0.9686681151401461, 0.04163251485609361, 0.957547841690153, 0.8331172831541098, 0.0757379348321918, 0.09467241854023975, 0.6456207206337236, 0.15941252361326505, 0.1966087791230269, 0.026021967696209538, 0.962812804759753, 0.1074504131198785, 0.1074504131198785, 0.7852145574144967, 0.027080042978189084, 0.027080042978189084, 0.9478015042366179, 0.15565425765987345, 0.08192329350519656, 0.761886629598328, 0.011897995008833893, 0.9443250775432375, 0.043834718453598556, 0.19896052645239096, 0.009948026322619548, 0.7958421058095638, 0.23485398218452144, 0.13151823002333202, 0.6294086722545175, 0.972172488676739, 0.9509884276218141, 0.010257064184630958, 0.925700042662944, 0.0641066511539435, 0.949391535241813, 0.9656427461199971, 0.018570052809999942, 0.018570052809999942, 0.028652321965773792, 0.028652321965773792, 0.9455266248705351, 0.34440069353840974, 0.45128366739515763, 0.20426523892622922, 0.14413145947745584, 0.43006967747305375, 0.42774497651373994, 0.2772702485975197, 0.29372545622942, 0.4286581588110023, 0.9741814666686553, 0.975460294798221, 0.03524773643968889, 0.9516888838716, 0.01814099596971391, 0.8662325575538392, 0.11338122481071194, 0.9650518623724822, 0.034466137941874364, 0.20271809462162121, 0.17070997441820734, 0.6223801150663809, 0.15983932898822775, 0.6814202972656025, 0.15878775445541046, 0.024151335510001724, 0.937332913307094, 0.038511589056489236, 0.027889457547312084, 0.09761310141559229, 0.8785179127403306, 0.987546918689241, 0.06691568635968036, 0.15295014025069795, 0.7790897769019927, 0.9638111597985081, 0.0277002523885074, 0.0277002523885074, 0.9695088335977591, 0.8514585744838021, 0.06125601255279152, 0.08575841757390812, 0.9696158117729935, 0.019012074740646933, 0.01767860213348198, 0.01767860213348198, 0.954644515208027, 0.0260882163223831, 0.0260882163223831, 0.9652640039281747, 0.029935059446209052, 0.9579219022786897, 0.9851964267511161, 0.9864891620244806, 0.8129591709793778, 0.05963793146180764, 0.12555353991959503, 0.8490418847435773, 0.12533475441452807, 0.02425833956410221, 0.9449042836278444, 0.8497316506276675, 0.09441462784751861, 0.05746977347240264, 0.03583491732018717, 0.9675427676450535, 0.9766259150812355, 0.9411317906776875, 0.009803456152892577, 0.04901728076446289, 0.3227564193932008, 0.5597453986679287, 0.11962300858629123, 0.86315459919309, 0.09788351124870093, 0.035594004090436705, 0.9515630832255638, 0.037295034232532005, 0.9696708900458322, 0.9611928042704606, 0.3122248148986164, 0.08192037222587462, 0.6043559535908862, 0.7348838556415349, 0.025052858715052327, 0.2421776342455058, 0.021881930728337166, 0.021881930728337166, 0.9628049520468352, 0.5960920075603899, 0.29678842570517305, 0.10563655830184125, 0.9020932194353602, 0.09579751002853383, 0.5861307664817017, 0.15224175752771474, 0.261348350422577, 0.5076317449910739, 0.0665342578386359, 0.42631209652163, 0.014843201490740868, 0.10885014426543303, 0.8757488879537112, 0.9627022633191297, 0.037027010127658834, 0.07949330103122816, 0.03179732041249127, 0.8903249715497554, 0.4598461023836516, 0.238134588734391, 0.30177400468927135, 0.9588766030644349, 0.6379797951585102, 0.2895627852564456, 0.0729792385605676, 0.9469090771749518, 0.011670863765667547, 0.9336691012534037, 0.058354318828337734, 0.9526747236912979, 0.9699481452120605, 0.7191581386754607, 0.10477800695933864, 0.17383623881890276, 0.23552130414647254, 0.1678427684721988, 0.5955711139336087, 0.02648494434741364, 0.9703120520006997, 0.00240772221340124, 0.07750688005542554, 0.9107058406512502, 0.2474240625263445, 0.02910871323839347, 0.7204406526502384, 0.06025590168661848, 0.9121496841526039, 0.029089055986643405, 0.9014326627489384, 0.04794854589090098, 0.04794854589090098, 0.0583067054021852, 0.5547466542550763, 0.38649016152305615, 0.9601529877643299, 0.7938438128798332, 0.027024470225696446, 0.17903711524523896, 0.018750967547362822, 0.9562993449155038, 0.018750967547362822, 0.022929169414288166, 0.9118754297836139, 0.06525994371758939, 0.06603619640206997, 0.044024130934713315, 0.8914886514279446, 0.9748860361530425, 0.03481735843403723, 0.5998146749154465, 0.12743937852311185, 0.27356986589628013, 0.6651614507042621, 0.10759964643745416, 0.2249810789146769, 0.9540595769150007, 0.04800052223959453, 0.9360101836720933, 0.9467620361583401, 0.02629894544884278, 0.02629894544884278, 0.3748592047400075, 0.13148046733418173, 0.49514984506702486, 0.9541661554657646, 0.028551303879767086, 0.016578176446316373, 0.9124448487117891, 0.05304911911115053, 0.042439295288920424, 0.9817604773558497, 0.01609443405501393, 0.01609443405501393, 0.9862624888414486, 0.012808603751187643, 0.14853566530426088, 0.017474784153442457, 0.8300522472885167, 0.19431233242932736, 0.024911837490939403, 0.7822316972154972, 0.4034376950910576, 0.3146814021710249, 0.28106159424677013, 0.045121747002287424, 0.8084755374645147, 0.1459821226544593, 0.5869803803548224, 0.23557741017584843, 0.17668305763188633, 0.019727661836766205, 0.9379606491480659, 0.04124874747687479, 0.9718984727773694, 0.021597743839497096, 0.9779550823582791, 0.03154693814058965, 0.3093660432924919, 0.35984836834858885, 0.33137115934258543, 0.9805140350150648, 0.7125803284720209, 0.08242533650236063, 0.20473390034457317, 0.9653307893958011, 0.4591957028016659, 0.3605815436754065, 0.17991438191737402, 0.986700409407139, 0.010496812866033394, 0.970026185036053, 0.018654349712231788, 0.018654349712231788, 0.8933779673925761, 0.04034610175321312, 0.06340101704076347, 0.9514769757171111, 0.888845133177209, 0.016460095058837203, 0.09601722117655036, 0.03601000013735333, 0.950664003626128, 0.013203666717029555, 0.9581977560041884, 0.046934177237134646, 0.938683544742693, 0.91103146499776, 0.027399442556323608, 0.06849860639080901, 0.04161275812878731, 0.957093436962108, 0.11221039663495795, 0.11221039663495795, 0.7774577481136372, 0.9590484705510648, 0.34175412695797774, 0.1741631608535848, 0.4863424114401991, 0.03559111929604502, 0.07118223859209004, 0.8897779824011255, 0.004765091335715261, 0.9387229931359065, 0.05241600469286787, 0.010392810415451535, 0.9769241790524443, 0.02078562083090307, 0.09206180489517844, 0.8865210841757925, 0.02386787534319441, 0.9579261113678774, 0.9847594678332323, 0.9904775823746488, 0.0210345082207378, 0.8624148370502499, 0.11779324603613169, 0.012247207612132287, 0.9748777259257301, 0.012247207612132287, 0.9783109122258109, 0.014601655406355387, 0.014601655406355387, 0.2803434732895996, 0.038668065281324084, 0.6831358199700588, 0.9458354585212327, 0.782123208178511, 0.14282249888477158, 0.07481178513011845, 0.03259617414665935, 0.03259617414665935, 0.945289050253121, 0.0065049434232664904, 0.9822464569132401, 0.0065049434232664904, 0.0785560205673392, 0.0196390051418348, 0.9033942365244007, 0.49115088144085783, 0.10298324933437342, 0.40599165602974135, 0.03003695237480034, 0.03003695237480034, 0.9611824759936108, 0.7746060861348522, 0.0837411985010651, 0.1405655831982164, 0.02335308716101891, 0.9808296607627943, 0.9559341049608516, 0.9040822165585354, 0.04716950695088011, 0.04716950695088011, 0.9160504110324792, 0.07997265493140691, 0.007270241357400628, 0.7473792731584797, 0.2178076738918998, 0.03416590963010193, 0.9958404784073022, 0.04714030192699825, 0.9545911140217147, 0.011785075481749563, 0.03335005981931701, 0.9671517347601932, 0.7586189296130716, 0.07780706970390479, 0.16534002312079765, 0.02046868249028929, 0.9824967595338858, 0.03531189726340436, 0.9534212261119178, 0.03988717617762005, 0.9506443655666111, 0.013295725392540016, 0.33406401023324517, 0.5884430271998448, 0.07968499326664565, 0.9395440983656139, 0.033555146370200496, 0.016777573185100248, 0.20525045685111126, 0.555591753890077, 0.2388690661629312, 0.8278114019321101, 0.14429740033678984, 0.026581100062040234, 0.9564302992772861, 0.04250801330121271, 0.010627003325303178, 0.9675314296155161, 0.2978905366586937, 0.0930907927058418, 0.6081931790114997, 0.7974112022196375, 0.044714646853437616, 0.15650126398703165, 0.965983377114014, 0.01694707679147393, 0.01694707679147393, 0.8088217111704377, 0.05578080766692674, 0.13387393840062417, 0.08739723690254501, 0.010924654612818127, 0.9012840055574954, 0.060142979603744255, 0.9076122376565042, 0.03280526160204232, 0.619572073076371, 0.1200932652659045, 0.25929227727865745, 0.014990742291152041, 0.9594075066337306, 0.022486113436728062, 0.036284090933683656, 0.9796704552094587, 0.9670349434478231, 0.9506189519883618, 0.20183414765590896, 0.6909637487319406, 0.10728121361890657, 0.13467489565800614, 0.8430648468191185, 0.024241481218441108, 0.05153296741159465, 0.05797458833804398, 0.8889436878500078, 0.9765730520379848, 0.05163734529909973, 0.025818672649549866, 0.9208659911672786, 0.9472309699516319, 0.0473615484975816, 0.30455441030683916, 0.10429945558453396, 0.5882489294967715, 0.4395397155483406, 0.17581588621933625, 0.38459725110479803, 0.9595723269593532, 0.020860267977377243, 0.2566551378847005, 0.5824797455539302, 0.1601819300273308, 0.009638597510769613, 0.9831369460985004, 0.009638597510769613, 0.006825057839185196, 0.981670819202804, 0.011375096398641992, 0.03561825303982156, 0.961692832075182, 0.9397679503285514, 0.618673828394096, 0.01427708834755606, 0.36644526758727225, 0.042727531188762304, 0.9400056861527707, 0.9327801337532293, 0.028266064659188767, 0.04239909698878315, 0.3883582889526016, 0.18449865926780487, 0.42821911039934957, 0.1538106515115535, 0.7569557905849487, 0.08986689751236833, 0.9640031323041744, 0.7761125571526605, 0.14871617861607864, 0.07435808930803932, 0.9759667858214452, 0.6346164013041027, 0.05841657250498016, 0.30535935627603267, 0.9216311125286281, 0.01920064817767975, 0.057601944533039254, 0.04321906638326883, 0.9508194604319142, 0.3412599671778213, 0.1392897825215597, 0.5223366844558489, 0.9293007979120854, 0.03793064481273818, 0.03160887067728182, 0.9428656046159751, 0.04489836212457025, 0.013469508637371074, 0.9701989742230364, 0.31182735778182324, 0.1355771120790536, 0.549087303920167, 0.9903197091313983, 0.2766518034480904, 0.0614781785440201, 0.6591826921664378, 0.9474079088740853, 0.9727740228038224, 0.1213304801441475, 0.10977519632089536, 0.7626487323346415], \"Term\": [\"10\", \"10\", \"10\", \"13\", \"13\", \"13\", \"2000month\", \"2020\", \"2020\", \"2020\", \"24\", \"24\", \"24\", \"26\", \"26\", \"26\", \"312\", \"312\", \"35\", \"37\", \"37\", \"442263\", \"48661\", \"48661\", \"48661\", \"48916\", \"705\", \"705\", \"705\", \"725\", \"725\", \"757\", \"911\", \"active\", \"active\", \"active\", \"address\", \"address\", \"afp\", \"aka\", \"always\", \"always\", \"always\", \"american\", \"american\", \"american\", \"amount\", \"amount\", \"anyone\", \"anyone\", \"anyone\", \"arizona\", \"arizona\", \"as\", \"as\", \"away\", \"away\", \"away\", \"back\", \"back\", \"back\", \"basic\", \"basic\", \"best\", \"best\", \"best\", \"canadian\", \"canadian\", \"canadian\", \"care\", \"care\", \"care\", \"case\", \"case\", \"case\", \"change\", \"change\", \"change\", \"come\", \"come\", \"come\", \"commercial\", \"concerning\", \"confirmed\", \"confirmed\", \"confirmed\", \"connect\", \"conspiracy\", \"conspiracy\", \"conspiracy\", \"cool\", \"cool\", \"cool\", \"coronavirus\", \"coronavirus\", \"coronavirus\", \"country\", \"country\", \"country\", \"covid19\", \"covid19\", \"covid19\", \"credit\", \"cureddischarged\", \"curfew\", \"curfew\", \"daily\", \"daily\", \"daily\", \"dallas\", \"dallas\", \"data\", \"data\", \"data\", \"day\", \"day\", \"day\", \"death\", \"death\", \"death\", \"declared\", \"declared\", \"declared\", \"detected\", \"die\", \"die\", \"die\", \"dinosaur\", \"disgusting\", \"disgusting\", \"disgusting\", \"distancing\", \"distancing\", \"distancing\", \"dog\", \"dog\", \"donald\", \"donald\", \"donald\", \"doubt\", \"doubt\", \"doubt\", \"dream\", \"dream\", \"drinking\", \"edt\", \"every\", \"every\", \"every\", \"everyone\", \"everyone\", \"everyone\", \"express\", \"face\", \"face\", \"face\", \"falling\", \"falling\", \"fewer\", \"fighting\", \"fighting\", \"fighting\", \"first\", \"first\", \"first\", \"follow\", \"follow\", \"follow\", \"gas\", \"gave\", \"gave\", \"georgia\", \"get\", \"get\", \"get\", \"give\", \"give\", \"give\", \"giving\", \"giving\", \"giving\", \"global\", \"global\", \"global\", \"gmt\", \"gmt\", \"go\", \"go\", \"go\", \"good\", \"good\", \"good\", \"gt\", \"gt\", \"gt\", \"guest\", \"guest\", \"happened\", \"happened\", \"happened\", \"health\", \"health\", \"health\", \"hearing\", \"help\", \"help\", \"help\", \"helpful\", \"highest\", \"highest\", \"highest\", \"holding\", \"hole\", \"home\", \"home\", \"home\", \"hospital\", \"hospital\", \"hospital\", \"hour\", \"hour\", \"hour\", \"hurricane\", \"hurricane\", \"impact\", \"impact\", \"impact\", \"india\", \"india\", \"india\", \"interesting\", \"interesting\", \"interesting\", \"july\", \"july\", \"july\", \"karen\", \"keep\", \"keep\", \"keep\", \"lakh\", \"lakh\", \"lakh\", \"last\", \"last\", \"last\", \"least\", \"least\", \"least\", \"leaving\", \"leaving\", \"like\", \"like\", \"like\", \"lockdown\", \"lockdown\", \"lockdown\", \"locked\", \"management\", \"management\", \"mandate\", \"mandate\", \"mandate\", \"many\", \"many\", \"many\", \"mask\", \"mask\", \"mask\", \"maybe\", \"maybe\", \"maybe\", \"modi\", \"modi\", \"modi\", \"mom\", \"mom\", \"money\", \"money\", \"money\", \"much\", \"much\", \"much\", \"need\", \"need\", \"need\", \"new\", \"new\", \"new\", \"news\", \"news\", \"news\", \"number\", \"number\", \"number\", \"observed\", \"observed\", \"okay\", \"okay\", \"one\", \"one\", \"one\", \"ordered\", \"pandemic\", \"pandemic\", \"pandemic\", \"peop\", \"people\", \"people\", \"people\", \"petition\", \"petition\", \"phase\", \"phase\", \"phase\", \"plan\", \"plan\", \"plan\", \"plane\", \"please\", \"please\", \"please\", \"positive\", \"positive\", \"positive\", \"pray\", \"prayer\", \"prayer\", \"protest\", \"protest\", \"protest\", \"putting\", \"putting\", \"question\", \"question\", \"question\", \"racist\", \"read\", \"read\", \"read\", \"reason\", \"reason\", \"reason\", \"record\", \"record\", \"record\", \"recorded\", \"recorded\", \"recorded\", \"recovered\", \"recovered\", \"recovered\", \"reflects\", \"regret\", \"removed\", \"report\", \"report\", \"report\", \"reported\", \"reported\", \"reported\", \"researcher\", \"researcher\", \"researcher\", \"right\", \"right\", \"right\", \"ruined\", \"safe\", \"safe\", \"safe\", \"saint\", \"saint\", \"saint\", \"sample\", \"sample\", \"sample\", \"san\", \"san\", \"san\", \"say\", \"say\", \"say\", \"scared\", \"scared\", \"scared\", \"see\", \"see\", \"see\", \"selfreporting\", \"selfreporting\", \"shah\", \"share\", \"share\", \"share\", \"sick\", \"sick\", \"sick\", \"sign\", \"sign\", \"sign\", \"singleday\", \"slow\", \"slow\", \"slow\", \"smell\", \"smell\", \"social\", \"social\", \"social\", \"sooner\", \"sooner\", \"spend\", \"spend\", \"spike\", \"spike\", \"spike\", \"spread\", \"spread\", \"spread\", \"spreading\", \"spreading\", \"spreading\", \"state\", \"state\", \"state\", \"stay\", \"stay\", \"stay\", \"step\", \"step\", \"step\", \"steve\", \"still\", \"still\", \"still\", \"stop\", \"stop\", \"stop\", \"store\", \"store\", \"store\", \"study\", \"study\", \"study\", \"sunday\", \"sunday\", \"sunday\", \"symptom\", \"symptom\", \"symptom\", \"take\", \"take\", \"take\", \"tally\", \"tally\", \"tally\", \"teach\", \"teach\", \"tear\", \"temple\", \"test\", \"test\", \"test\", \"tested\", \"tested\", \"tested\", \"texas\", \"texas\", \"texas\", \"thankful\", \"thanks\", \"thanks\", \"thanks\", \"theory\", \"theory\", \"thing\", \"thing\", \"thing\", \"time\", \"time\", \"time\", \"tip\", \"tip\", \"today\", \"today\", \"today\", \"toll\", \"toll\", \"toll\", \"total\", \"total\", \"total\", \"trained\", \"trained\", \"trending\", \"trump\", \"trump\", \"trump\", \"turning\", \"turning\", \"tweet\", \"tweet\", \"tweet\", \"u\", \"u\", \"u\", \"update\", \"update\", \"update\", \"upon\", \"vaccine\", \"vaccine\", \"vaccine\", \"venrap\", \"via\", \"via\", \"via\", \"visit\", \"visit\", \"visit\", \"voter\", \"voter\", \"way\", \"way\", \"way\", \"wear\", \"wear\", \"wear\", \"wearing\", \"wearing\", \"wearing\", \"wore\", \"would\", \"would\", \"would\", \"yashoda\", \"year\", \"year\", \"year\", \"yep\", \"yester\", \"yet\", \"yet\", \"yet\"]}, \"R\": 30, \"lambda.step\": 0.01, \"plot.opts\": {\"xlab\": \"PC1\", \"ylab\": \"PC2\"}, \"topic.order\": [3, 1, 2]};\n",
              "\n",
              "function LDAvis_load_lib(url, callback){\n",
              "  var s = document.createElement('script');\n",
              "  s.src = url;\n",
              "  s.async = true;\n",
              "  s.onreadystatechange = s.onload = callback;\n",
              "  s.onerror = function(){console.warn(\"failed to load library \" + url);};\n",
              "  document.getElementsByTagName(\"head\")[0].appendChild(s);\n",
              "}\n",
              "\n",
              "if(typeof(LDAvis) !== \"undefined\"){\n",
              "   // already loaded: just create the visualization\n",
              "   !function(LDAvis){\n",
              "       new LDAvis(\"#\" + \"ldavis_el2501396815815601285021447159\", ldavis_el2501396815815601285021447159_data);\n",
              "   }(LDAvis);\n",
              "}else if(typeof define === \"function\" && define.amd){\n",
              "   // require.js is available: use it to load d3/LDAvis\n",
              "   require.config({paths: {d3: \"https://d3js.org/d3.v5\"}});\n",
              "   require([\"d3\"], function(d3){\n",
              "      window.d3 = d3;\n",
              "      LDAvis_load_lib(\"https://cdn.jsdelivr.net/gh/bmabey/pyLDAvis@3.4.0/pyLDAvis/js/ldavis.v3.0.0.js\", function(){\n",
              "        new LDAvis(\"#\" + \"ldavis_el2501396815815601285021447159\", ldavis_el2501396815815601285021447159_data);\n",
              "      });\n",
              "    });\n",
              "}else{\n",
              "    // require.js not available: dynamically load d3 & LDAvis\n",
              "    LDAvis_load_lib(\"https://d3js.org/d3.v5.js\", function(){\n",
              "         LDAvis_load_lib(\"https://cdn.jsdelivr.net/gh/bmabey/pyLDAvis@3.4.0/pyLDAvis/js/ldavis.v3.0.0.js\", function(){\n",
              "                 new LDAvis(\"#\" + \"ldavis_el2501396815815601285021447159\", ldavis_el2501396815815601285021447159_data);\n",
              "            })\n",
              "         });\n",
              "}\n",
              "</script>"
            ]
          },
          "metadata": {},
          "execution_count": 15
        }
      ]
    },
    {
      "cell_type": "markdown",
      "source": [
        "# ***Часть №2***"
      ],
      "metadata": {
        "id": "zWu74BNoIBCr"
      }
    },
    {
      "cell_type": "markdown",
      "source": [
        "## ***Предобработка датасета***"
      ],
      "metadata": {
        "id": "Rew6T_GZIgx8"
      }
    },
    {
      "cell_type": "code",
      "source": [
        "covid = pd.read_csv(\"/content/covid19_tweets.csv\")\n",
        "covid"
      ],
      "metadata": {
        "id": "TSy9pbZnImDO",
        "colab": {
          "base_uri": "https://localhost:8080/",
          "height": 847
        },
        "outputId": "c5dd08c7-2062-4fcc-e92a-f7afe5310610"
      },
      "execution_count": 4,
      "outputs": [
        {
          "output_type": "stream",
          "name": "stderr",
          "text": [
            "/usr/local/lib/python3.10/dist-packages/ipykernel/ipkernel.py:283: DeprecationWarning: `should_run_async` will not call `transform_cell` automatically in the future. Please pass the result to `transformed_cell` argument and any exception that happen during thetransform in `preprocessing_exc_tuple` in IPython 7.17 and above.\n",
            "  and should_run_async(code)\n"
          ]
        },
        {
          "output_type": "execute_result",
          "data": {
            "text/plain": [
              "                     user_name               user_location  \\\n",
              "0                       ᏉᎥ☻լꂅϮ                  astroworld   \n",
              "1                Tom Basile 🇺🇸                New York, NY   \n",
              "2              Time4fisticuffs            Pewee Valley, KY   \n",
              "3                  ethel mertz        Stuck in the Middle    \n",
              "4                     DIPR-J&K           Jammu and Kashmir   \n",
              "...                        ...                         ...   \n",
              "179103  AJIMATI AbdulRahman O.             Ilorin, Nigeria   \n",
              "179104                   Jason                     Ontario   \n",
              "179105             BEEHEMOTH ⏳                   🇨🇦 Canada   \n",
              "179106           Gary DelPonte               New York City   \n",
              "179107                 TUKY II  Aliwal North, South Africa   \n",
              "\n",
              "                                         user_description  \\\n",
              "0       wednesday addams as a disney princess keepin i...   \n",
              "1       Husband, Father, Columnist & Commentator. Auth...   \n",
              "2       #Christian #Catholic #Conservative #Reagan #Re...   \n",
              "3       #Browns #Indians #ClevelandProud #[]_[] #Cavs ...   \n",
              "4       🖊️Official Twitter handle of Department of Inf...   \n",
              "...                                                   ...   \n",
              "179103    Animal Scientist|| Muslim|| Real Madrid/Chelsea   \n",
              "179104  When your cat has more baking soda than Ninja ...   \n",
              "179105  ⚒️ The Architects of Free Trade ⚒️ Really Did ...   \n",
              "179106  Global UX UI Visual Designer. StoryTeller, Mus...   \n",
              "179107  TOKELO SEKHOPA | TUKY II | LAST BORN | EISH TU...   \n",
              "\n",
              "               user_created  user_followers  user_friends  user_favourites  \\\n",
              "0       2017-05-26 05:46:42             624           950            18775   \n",
              "1       2009-04-16 20:06:23            2253          1677               24   \n",
              "2       2009-02-28 18:57:41            9275          9525             7254   \n",
              "3       2019-03-07 01:45:06             197           987             1488   \n",
              "4       2017-02-12 06:45:15          101009           168              101   \n",
              "...                     ...             ...           ...              ...   \n",
              "179103  2013-12-30 18:59:19             412          1609             1062   \n",
              "179104  2011-12-21 04:41:30             150           182             7295   \n",
              "179105  2016-07-13 17:21:59            1623          2160            98000   \n",
              "179106  2009-10-27 17:43:13            1338          1111                0   \n",
              "179107  2018-04-14 17:30:07              97          1697              566   \n",
              "\n",
              "        user_verified                 date  \\\n",
              "0               False  2020-07-25 12:27:21   \n",
              "1                True  2020-07-25 12:27:17   \n",
              "2               False  2020-07-25 12:27:14   \n",
              "3               False  2020-07-25 12:27:10   \n",
              "4               False  2020-07-25 12:27:08   \n",
              "...               ...                  ...   \n",
              "179103          False  2020-08-29 19:44:21   \n",
              "179104          False  2020-08-29 19:44:16   \n",
              "179105          False  2020-08-29 19:44:15   \n",
              "179106          False  2020-08-29 19:44:14   \n",
              "179107          False  2020-08-29 19:44:08   \n",
              "\n",
              "                                                     text  \\\n",
              "0       If I smelled the scent of hand sanitizers toda...   \n",
              "1       Hey @Yankees @YankeesPR and @MLB - wouldn't it...   \n",
              "2       @diane3443 @wdunlap @realDonaldTrump Trump nev...   \n",
              "3       @brookbanktv The one gift #COVID19 has give me...   \n",
              "4       25 July : Media Bulletin on Novel #CoronaVirus...   \n",
              "...                                                   ...   \n",
              "179103  Thanks @IamOhmai for nominating me for the @WH...   \n",
              "179104  2020! The year of insanity! Lol! #COVID19 http...   \n",
              "179105  @CTVNews A powerful painting by Juan Lucena. I...   \n",
              "179106  More than 1,200 students test positive for #CO...   \n",
              "179107  I stop when I see a Stop\\n\\n@SABCNews\\n@Izinda...   \n",
              "\n",
              "                                 hashtags               source  is_retweet  \n",
              "0                                     NaN   Twitter for iPhone       False  \n",
              "1                                     NaN  Twitter for Android       False  \n",
              "2                             ['COVID19']  Twitter for Android       False  \n",
              "3                             ['COVID19']   Twitter for iPhone       False  \n",
              "4       ['CoronaVirusUpdates', 'COVID19']  Twitter for Android       False  \n",
              "...                                   ...                  ...         ...  \n",
              "179103                      ['WearAMask']  Twitter for Android       False  \n",
              "179104                        ['COVID19']  Twitter for Android       False  \n",
              "179105                                NaN      Twitter Web App       False  \n",
              "179106                        ['COVID19']   Twitter for iPhone       False  \n",
              "179107                                NaN  Twitter for Android       False  \n",
              "\n",
              "[179108 rows x 13 columns]"
            ],
            "text/html": [
              "\n",
              "  <div id=\"df-b345223d-65a7-4bc4-8d72-6a9508faeab3\">\n",
              "    <div class=\"colab-df-container\">\n",
              "      <div>\n",
              "<style scoped>\n",
              "    .dataframe tbody tr th:only-of-type {\n",
              "        vertical-align: middle;\n",
              "    }\n",
              "\n",
              "    .dataframe tbody tr th {\n",
              "        vertical-align: top;\n",
              "    }\n",
              "\n",
              "    .dataframe thead th {\n",
              "        text-align: right;\n",
              "    }\n",
              "</style>\n",
              "<table border=\"1\" class=\"dataframe\">\n",
              "  <thead>\n",
              "    <tr style=\"text-align: right;\">\n",
              "      <th></th>\n",
              "      <th>user_name</th>\n",
              "      <th>user_location</th>\n",
              "      <th>user_description</th>\n",
              "      <th>user_created</th>\n",
              "      <th>user_followers</th>\n",
              "      <th>user_friends</th>\n",
              "      <th>user_favourites</th>\n",
              "      <th>user_verified</th>\n",
              "      <th>date</th>\n",
              "      <th>text</th>\n",
              "      <th>hashtags</th>\n",
              "      <th>source</th>\n",
              "      <th>is_retweet</th>\n",
              "    </tr>\n",
              "  </thead>\n",
              "  <tbody>\n",
              "    <tr>\n",
              "      <th>0</th>\n",
              "      <td>ᏉᎥ☻լꂅϮ</td>\n",
              "      <td>astroworld</td>\n",
              "      <td>wednesday addams as a disney princess keepin i...</td>\n",
              "      <td>2017-05-26 05:46:42</td>\n",
              "      <td>624</td>\n",
              "      <td>950</td>\n",
              "      <td>18775</td>\n",
              "      <td>False</td>\n",
              "      <td>2020-07-25 12:27:21</td>\n",
              "      <td>If I smelled the scent of hand sanitizers toda...</td>\n",
              "      <td>NaN</td>\n",
              "      <td>Twitter for iPhone</td>\n",
              "      <td>False</td>\n",
              "    </tr>\n",
              "    <tr>\n",
              "      <th>1</th>\n",
              "      <td>Tom Basile 🇺🇸</td>\n",
              "      <td>New York, NY</td>\n",
              "      <td>Husband, Father, Columnist &amp; Commentator. Auth...</td>\n",
              "      <td>2009-04-16 20:06:23</td>\n",
              "      <td>2253</td>\n",
              "      <td>1677</td>\n",
              "      <td>24</td>\n",
              "      <td>True</td>\n",
              "      <td>2020-07-25 12:27:17</td>\n",
              "      <td>Hey @Yankees @YankeesPR and @MLB - wouldn't it...</td>\n",
              "      <td>NaN</td>\n",
              "      <td>Twitter for Android</td>\n",
              "      <td>False</td>\n",
              "    </tr>\n",
              "    <tr>\n",
              "      <th>2</th>\n",
              "      <td>Time4fisticuffs</td>\n",
              "      <td>Pewee Valley, KY</td>\n",
              "      <td>#Christian #Catholic #Conservative #Reagan #Re...</td>\n",
              "      <td>2009-02-28 18:57:41</td>\n",
              "      <td>9275</td>\n",
              "      <td>9525</td>\n",
              "      <td>7254</td>\n",
              "      <td>False</td>\n",
              "      <td>2020-07-25 12:27:14</td>\n",
              "      <td>@diane3443 @wdunlap @realDonaldTrump Trump nev...</td>\n",
              "      <td>['COVID19']</td>\n",
              "      <td>Twitter for Android</td>\n",
              "      <td>False</td>\n",
              "    </tr>\n",
              "    <tr>\n",
              "      <th>3</th>\n",
              "      <td>ethel mertz</td>\n",
              "      <td>Stuck in the Middle</td>\n",
              "      <td>#Browns #Indians #ClevelandProud #[]_[] #Cavs ...</td>\n",
              "      <td>2019-03-07 01:45:06</td>\n",
              "      <td>197</td>\n",
              "      <td>987</td>\n",
              "      <td>1488</td>\n",
              "      <td>False</td>\n",
              "      <td>2020-07-25 12:27:10</td>\n",
              "      <td>@brookbanktv The one gift #COVID19 has give me...</td>\n",
              "      <td>['COVID19']</td>\n",
              "      <td>Twitter for iPhone</td>\n",
              "      <td>False</td>\n",
              "    </tr>\n",
              "    <tr>\n",
              "      <th>4</th>\n",
              "      <td>DIPR-J&amp;K</td>\n",
              "      <td>Jammu and Kashmir</td>\n",
              "      <td>🖊️Official Twitter handle of Department of Inf...</td>\n",
              "      <td>2017-02-12 06:45:15</td>\n",
              "      <td>101009</td>\n",
              "      <td>168</td>\n",
              "      <td>101</td>\n",
              "      <td>False</td>\n",
              "      <td>2020-07-25 12:27:08</td>\n",
              "      <td>25 July : Media Bulletin on Novel #CoronaVirus...</td>\n",
              "      <td>['CoronaVirusUpdates', 'COVID19']</td>\n",
              "      <td>Twitter for Android</td>\n",
              "      <td>False</td>\n",
              "    </tr>\n",
              "    <tr>\n",
              "      <th>...</th>\n",
              "      <td>...</td>\n",
              "      <td>...</td>\n",
              "      <td>...</td>\n",
              "      <td>...</td>\n",
              "      <td>...</td>\n",
              "      <td>...</td>\n",
              "      <td>...</td>\n",
              "      <td>...</td>\n",
              "      <td>...</td>\n",
              "      <td>...</td>\n",
              "      <td>...</td>\n",
              "      <td>...</td>\n",
              "      <td>...</td>\n",
              "    </tr>\n",
              "    <tr>\n",
              "      <th>179103</th>\n",
              "      <td>AJIMATI AbdulRahman O.</td>\n",
              "      <td>Ilorin, Nigeria</td>\n",
              "      <td>Animal Scientist|| Muslim|| Real Madrid/Chelsea</td>\n",
              "      <td>2013-12-30 18:59:19</td>\n",
              "      <td>412</td>\n",
              "      <td>1609</td>\n",
              "      <td>1062</td>\n",
              "      <td>False</td>\n",
              "      <td>2020-08-29 19:44:21</td>\n",
              "      <td>Thanks @IamOhmai for nominating me for the @WH...</td>\n",
              "      <td>['WearAMask']</td>\n",
              "      <td>Twitter for Android</td>\n",
              "      <td>False</td>\n",
              "    </tr>\n",
              "    <tr>\n",
              "      <th>179104</th>\n",
              "      <td>Jason</td>\n",
              "      <td>Ontario</td>\n",
              "      <td>When your cat has more baking soda than Ninja ...</td>\n",
              "      <td>2011-12-21 04:41:30</td>\n",
              "      <td>150</td>\n",
              "      <td>182</td>\n",
              "      <td>7295</td>\n",
              "      <td>False</td>\n",
              "      <td>2020-08-29 19:44:16</td>\n",
              "      <td>2020! The year of insanity! Lol! #COVID19 http...</td>\n",
              "      <td>['COVID19']</td>\n",
              "      <td>Twitter for Android</td>\n",
              "      <td>False</td>\n",
              "    </tr>\n",
              "    <tr>\n",
              "      <th>179105</th>\n",
              "      <td>BEEHEMOTH ⏳</td>\n",
              "      <td>🇨🇦 Canada</td>\n",
              "      <td>⚒️ The Architects of Free Trade ⚒️ Really Did ...</td>\n",
              "      <td>2016-07-13 17:21:59</td>\n",
              "      <td>1623</td>\n",
              "      <td>2160</td>\n",
              "      <td>98000</td>\n",
              "      <td>False</td>\n",
              "      <td>2020-08-29 19:44:15</td>\n",
              "      <td>@CTVNews A powerful painting by Juan Lucena. I...</td>\n",
              "      <td>NaN</td>\n",
              "      <td>Twitter Web App</td>\n",
              "      <td>False</td>\n",
              "    </tr>\n",
              "    <tr>\n",
              "      <th>179106</th>\n",
              "      <td>Gary DelPonte</td>\n",
              "      <td>New York City</td>\n",
              "      <td>Global UX UI Visual Designer. StoryTeller, Mus...</td>\n",
              "      <td>2009-10-27 17:43:13</td>\n",
              "      <td>1338</td>\n",
              "      <td>1111</td>\n",
              "      <td>0</td>\n",
              "      <td>False</td>\n",
              "      <td>2020-08-29 19:44:14</td>\n",
              "      <td>More than 1,200 students test positive for #CO...</td>\n",
              "      <td>['COVID19']</td>\n",
              "      <td>Twitter for iPhone</td>\n",
              "      <td>False</td>\n",
              "    </tr>\n",
              "    <tr>\n",
              "      <th>179107</th>\n",
              "      <td>TUKY II</td>\n",
              "      <td>Aliwal North, South Africa</td>\n",
              "      <td>TOKELO SEKHOPA | TUKY II | LAST BORN | EISH TU...</td>\n",
              "      <td>2018-04-14 17:30:07</td>\n",
              "      <td>97</td>\n",
              "      <td>1697</td>\n",
              "      <td>566</td>\n",
              "      <td>False</td>\n",
              "      <td>2020-08-29 19:44:08</td>\n",
              "      <td>I stop when I see a Stop\\n\\n@SABCNews\\n@Izinda...</td>\n",
              "      <td>NaN</td>\n",
              "      <td>Twitter for Android</td>\n",
              "      <td>False</td>\n",
              "    </tr>\n",
              "  </tbody>\n",
              "</table>\n",
              "<p>179108 rows × 13 columns</p>\n",
              "</div>\n",
              "      <button class=\"colab-df-convert\" onclick=\"convertToInteractive('df-b345223d-65a7-4bc4-8d72-6a9508faeab3')\"\n",
              "              title=\"Convert this dataframe to an interactive table.\"\n",
              "              style=\"display:none;\">\n",
              "        \n",
              "  <svg xmlns=\"http://www.w3.org/2000/svg\" height=\"24px\"viewBox=\"0 0 24 24\"\n",
              "       width=\"24px\">\n",
              "    <path d=\"M0 0h24v24H0V0z\" fill=\"none\"/>\n",
              "    <path d=\"M18.56 5.44l.94 2.06.94-2.06 2.06-.94-2.06-.94-.94-2.06-.94 2.06-2.06.94zm-11 1L8.5 8.5l.94-2.06 2.06-.94-2.06-.94L8.5 2.5l-.94 2.06-2.06.94zm10 10l.94 2.06.94-2.06 2.06-.94-2.06-.94-.94-2.06-.94 2.06-2.06.94z\"/><path d=\"M17.41 7.96l-1.37-1.37c-.4-.4-.92-.59-1.43-.59-.52 0-1.04.2-1.43.59L10.3 9.45l-7.72 7.72c-.78.78-.78 2.05 0 2.83L4 21.41c.39.39.9.59 1.41.59.51 0 1.02-.2 1.41-.59l7.78-7.78 2.81-2.81c.8-.78.8-2.07 0-2.86zM5.41 20L4 18.59l7.72-7.72 1.47 1.35L5.41 20z\"/>\n",
              "  </svg>\n",
              "      </button>\n",
              "      \n",
              "  <style>\n",
              "    .colab-df-container {\n",
              "      display:flex;\n",
              "      flex-wrap:wrap;\n",
              "      gap: 12px;\n",
              "    }\n",
              "\n",
              "    .colab-df-convert {\n",
              "      background-color: #E8F0FE;\n",
              "      border: none;\n",
              "      border-radius: 50%;\n",
              "      cursor: pointer;\n",
              "      display: none;\n",
              "      fill: #1967D2;\n",
              "      height: 32px;\n",
              "      padding: 0 0 0 0;\n",
              "      width: 32px;\n",
              "    }\n",
              "\n",
              "    .colab-df-convert:hover {\n",
              "      background-color: #E2EBFA;\n",
              "      box-shadow: 0px 1px 2px rgba(60, 64, 67, 0.3), 0px 1px 3px 1px rgba(60, 64, 67, 0.15);\n",
              "      fill: #174EA6;\n",
              "    }\n",
              "\n",
              "    [theme=dark] .colab-df-convert {\n",
              "      background-color: #3B4455;\n",
              "      fill: #D2E3FC;\n",
              "    }\n",
              "\n",
              "    [theme=dark] .colab-df-convert:hover {\n",
              "      background-color: #434B5C;\n",
              "      box-shadow: 0px 1px 3px 1px rgba(0, 0, 0, 0.15);\n",
              "      filter: drop-shadow(0px 1px 2px rgba(0, 0, 0, 0.3));\n",
              "      fill: #FFFFFF;\n",
              "    }\n",
              "  </style>\n",
              "\n",
              "      <script>\n",
              "        const buttonEl =\n",
              "          document.querySelector('#df-b345223d-65a7-4bc4-8d72-6a9508faeab3 button.colab-df-convert');\n",
              "        buttonEl.style.display =\n",
              "          google.colab.kernel.accessAllowed ? 'block' : 'none';\n",
              "\n",
              "        async function convertToInteractive(key) {\n",
              "          const element = document.querySelector('#df-b345223d-65a7-4bc4-8d72-6a9508faeab3');\n",
              "          const dataTable =\n",
              "            await google.colab.kernel.invokeFunction('convertToInteractive',\n",
              "                                                     [key], {});\n",
              "          if (!dataTable) return;\n",
              "\n",
              "          const docLinkHtml = 'Like what you see? Visit the ' +\n",
              "            '<a target=\"_blank\" href=https://colab.research.google.com/notebooks/data_table.ipynb>data table notebook</a>'\n",
              "            + ' to learn more about interactive tables.';\n",
              "          element.innerHTML = '';\n",
              "          dataTable['output_type'] = 'display_data';\n",
              "          await google.colab.output.renderOutput(dataTable, element);\n",
              "          const docLink = document.createElement('div');\n",
              "          docLink.innerHTML = docLinkHtml;\n",
              "          element.appendChild(docLink);\n",
              "        }\n",
              "      </script>\n",
              "    </div>\n",
              "  </div>\n",
              "  "
            ]
          },
          "metadata": {},
          "execution_count": 4
        }
      ]
    },
    {
      "cell_type": "code",
      "source": [
        "covid = covid[[\"text\"]]\n",
        "covid"
      ],
      "metadata": {
        "id": "SkPVUSIJImDO",
        "colab": {
          "base_uri": "https://localhost:8080/",
          "height": 470
        },
        "outputId": "85a77002-e145-4721-9985-f478fb19d1f3"
      },
      "execution_count": 5,
      "outputs": [
        {
          "output_type": "stream",
          "name": "stderr",
          "text": [
            "/usr/local/lib/python3.10/dist-packages/ipykernel/ipkernel.py:283: DeprecationWarning: `should_run_async` will not call `transform_cell` automatically in the future. Please pass the result to `transformed_cell` argument and any exception that happen during thetransform in `preprocessing_exc_tuple` in IPython 7.17 and above.\n",
            "  and should_run_async(code)\n"
          ]
        },
        {
          "output_type": "execute_result",
          "data": {
            "text/plain": [
              "                                                     text\n",
              "0       If I smelled the scent of hand sanitizers toda...\n",
              "1       Hey @Yankees @YankeesPR and @MLB - wouldn't it...\n",
              "2       @diane3443 @wdunlap @realDonaldTrump Trump nev...\n",
              "3       @brookbanktv The one gift #COVID19 has give me...\n",
              "4       25 July : Media Bulletin on Novel #CoronaVirus...\n",
              "...                                                   ...\n",
              "179103  Thanks @IamOhmai for nominating me for the @WH...\n",
              "179104  2020! The year of insanity! Lol! #COVID19 http...\n",
              "179105  @CTVNews A powerful painting by Juan Lucena. I...\n",
              "179106  More than 1,200 students test positive for #CO...\n",
              "179107  I stop when I see a Stop\\n\\n@SABCNews\\n@Izinda...\n",
              "\n",
              "[179108 rows x 1 columns]"
            ],
            "text/html": [
              "\n",
              "  <div id=\"df-7da3dbdd-2221-4c41-baff-0eeb1922ca79\">\n",
              "    <div class=\"colab-df-container\">\n",
              "      <div>\n",
              "<style scoped>\n",
              "    .dataframe tbody tr th:only-of-type {\n",
              "        vertical-align: middle;\n",
              "    }\n",
              "\n",
              "    .dataframe tbody tr th {\n",
              "        vertical-align: top;\n",
              "    }\n",
              "\n",
              "    .dataframe thead th {\n",
              "        text-align: right;\n",
              "    }\n",
              "</style>\n",
              "<table border=\"1\" class=\"dataframe\">\n",
              "  <thead>\n",
              "    <tr style=\"text-align: right;\">\n",
              "      <th></th>\n",
              "      <th>text</th>\n",
              "    </tr>\n",
              "  </thead>\n",
              "  <tbody>\n",
              "    <tr>\n",
              "      <th>0</th>\n",
              "      <td>If I smelled the scent of hand sanitizers toda...</td>\n",
              "    </tr>\n",
              "    <tr>\n",
              "      <th>1</th>\n",
              "      <td>Hey @Yankees @YankeesPR and @MLB - wouldn't it...</td>\n",
              "    </tr>\n",
              "    <tr>\n",
              "      <th>2</th>\n",
              "      <td>@diane3443 @wdunlap @realDonaldTrump Trump nev...</td>\n",
              "    </tr>\n",
              "    <tr>\n",
              "      <th>3</th>\n",
              "      <td>@brookbanktv The one gift #COVID19 has give me...</td>\n",
              "    </tr>\n",
              "    <tr>\n",
              "      <th>4</th>\n",
              "      <td>25 July : Media Bulletin on Novel #CoronaVirus...</td>\n",
              "    </tr>\n",
              "    <tr>\n",
              "      <th>...</th>\n",
              "      <td>...</td>\n",
              "    </tr>\n",
              "    <tr>\n",
              "      <th>179103</th>\n",
              "      <td>Thanks @IamOhmai for nominating me for the @WH...</td>\n",
              "    </tr>\n",
              "    <tr>\n",
              "      <th>179104</th>\n",
              "      <td>2020! The year of insanity! Lol! #COVID19 http...</td>\n",
              "    </tr>\n",
              "    <tr>\n",
              "      <th>179105</th>\n",
              "      <td>@CTVNews A powerful painting by Juan Lucena. I...</td>\n",
              "    </tr>\n",
              "    <tr>\n",
              "      <th>179106</th>\n",
              "      <td>More than 1,200 students test positive for #CO...</td>\n",
              "    </tr>\n",
              "    <tr>\n",
              "      <th>179107</th>\n",
              "      <td>I stop when I see a Stop\\n\\n@SABCNews\\n@Izinda...</td>\n",
              "    </tr>\n",
              "  </tbody>\n",
              "</table>\n",
              "<p>179108 rows × 1 columns</p>\n",
              "</div>\n",
              "      <button class=\"colab-df-convert\" onclick=\"convertToInteractive('df-7da3dbdd-2221-4c41-baff-0eeb1922ca79')\"\n",
              "              title=\"Convert this dataframe to an interactive table.\"\n",
              "              style=\"display:none;\">\n",
              "        \n",
              "  <svg xmlns=\"http://www.w3.org/2000/svg\" height=\"24px\"viewBox=\"0 0 24 24\"\n",
              "       width=\"24px\">\n",
              "    <path d=\"M0 0h24v24H0V0z\" fill=\"none\"/>\n",
              "    <path d=\"M18.56 5.44l.94 2.06.94-2.06 2.06-.94-2.06-.94-.94-2.06-.94 2.06-2.06.94zm-11 1L8.5 8.5l.94-2.06 2.06-.94-2.06-.94L8.5 2.5l-.94 2.06-2.06.94zm10 10l.94 2.06.94-2.06 2.06-.94-2.06-.94-.94-2.06-.94 2.06-2.06.94z\"/><path d=\"M17.41 7.96l-1.37-1.37c-.4-.4-.92-.59-1.43-.59-.52 0-1.04.2-1.43.59L10.3 9.45l-7.72 7.72c-.78.78-.78 2.05 0 2.83L4 21.41c.39.39.9.59 1.41.59.51 0 1.02-.2 1.41-.59l7.78-7.78 2.81-2.81c.8-.78.8-2.07 0-2.86zM5.41 20L4 18.59l7.72-7.72 1.47 1.35L5.41 20z\"/>\n",
              "  </svg>\n",
              "      </button>\n",
              "      \n",
              "  <style>\n",
              "    .colab-df-container {\n",
              "      display:flex;\n",
              "      flex-wrap:wrap;\n",
              "      gap: 12px;\n",
              "    }\n",
              "\n",
              "    .colab-df-convert {\n",
              "      background-color: #E8F0FE;\n",
              "      border: none;\n",
              "      border-radius: 50%;\n",
              "      cursor: pointer;\n",
              "      display: none;\n",
              "      fill: #1967D2;\n",
              "      height: 32px;\n",
              "      padding: 0 0 0 0;\n",
              "      width: 32px;\n",
              "    }\n",
              "\n",
              "    .colab-df-convert:hover {\n",
              "      background-color: #E2EBFA;\n",
              "      box-shadow: 0px 1px 2px rgba(60, 64, 67, 0.3), 0px 1px 3px 1px rgba(60, 64, 67, 0.15);\n",
              "      fill: #174EA6;\n",
              "    }\n",
              "\n",
              "    [theme=dark] .colab-df-convert {\n",
              "      background-color: #3B4455;\n",
              "      fill: #D2E3FC;\n",
              "    }\n",
              "\n",
              "    [theme=dark] .colab-df-convert:hover {\n",
              "      background-color: #434B5C;\n",
              "      box-shadow: 0px 1px 3px 1px rgba(0, 0, 0, 0.15);\n",
              "      filter: drop-shadow(0px 1px 2px rgba(0, 0, 0, 0.3));\n",
              "      fill: #FFFFFF;\n",
              "    }\n",
              "  </style>\n",
              "\n",
              "      <script>\n",
              "        const buttonEl =\n",
              "          document.querySelector('#df-7da3dbdd-2221-4c41-baff-0eeb1922ca79 button.colab-df-convert');\n",
              "        buttonEl.style.display =\n",
              "          google.colab.kernel.accessAllowed ? 'block' : 'none';\n",
              "\n",
              "        async function convertToInteractive(key) {\n",
              "          const element = document.querySelector('#df-7da3dbdd-2221-4c41-baff-0eeb1922ca79');\n",
              "          const dataTable =\n",
              "            await google.colab.kernel.invokeFunction('convertToInteractive',\n",
              "                                                     [key], {});\n",
              "          if (!dataTable) return;\n",
              "\n",
              "          const docLinkHtml = 'Like what you see? Visit the ' +\n",
              "            '<a target=\"_blank\" href=https://colab.research.google.com/notebooks/data_table.ipynb>data table notebook</a>'\n",
              "            + ' to learn more about interactive tables.';\n",
              "          element.innerHTML = '';\n",
              "          dataTable['output_type'] = 'display_data';\n",
              "          await google.colab.output.renderOutput(dataTable, element);\n",
              "          const docLink = document.createElement('div');\n",
              "          docLink.innerHTML = docLinkHtml;\n",
              "          element.appendChild(docLink);\n",
              "        }\n",
              "      </script>\n",
              "    </div>\n",
              "  </div>\n",
              "  "
            ]
          },
          "metadata": {},
          "execution_count": 5
        }
      ]
    },
    {
      "cell_type": "code",
      "source": [
        "def remove_emoji(string):                                                       # Параметры для запуска функции: строка (в нашем случае это текст записи)                                                \n",
        "  \"\"\"Функция для очистки строки от эмодзи\"\"\"\n",
        "  emoji_pattern = re.compile(\"[\" u\"\\U0001F600-\\U0001F64F\"                       # Сбор всех возможных смайликов и эмодзи  \n",
        "                               u\"\\U0001F300-\\U0001F5FF\"  \n",
        "                               u\"\\U0001F680-\\U0001F6FF\"  \n",
        "                               u\"\\U0001F1E0-\\U0001F1FF\"  \n",
        "                               u\"\\U00002500-\\U00002BEF\"  \n",
        "                               u\"\\U00002702-\\U000027B0\"\n",
        "                               u\"\\U00002702-\\U000027B0\"\n",
        "                               u\"\\U000024C2-\\U0001F251\"\n",
        "                               u\"\\U0001f926-\\U0001f937\"\n",
        "                               u\"\\U00010000-\\U0010ffff\"\n",
        "                               u\"\\u2640-\\u2642\"\n",
        "                               u\"\\u2600-\\u2B55\"\n",
        "                               u\"\\u200d\"\n",
        "                               u\"\\u23cf\"\n",
        "                               u\"\\u23e9\"\n",
        "                               u\"\\u231a\"\n",
        "                               u\"\\ufe0f\" \n",
        "                               u\"\\u3030\"\n",
        "                               u\"\\u23F0\" \"]+\", flags=re.UNICODE)\n",
        "  return emoji_pattern.sub(r'', string)                                         # Возврат строки без смайликов"
      ],
      "metadata": {
        "id": "x6mCI8vDImDP",
        "colab": {
          "base_uri": "https://localhost:8080/"
        },
        "outputId": "5c4dc6d8-6cae-4a03-bd48-9bd6b5692775"
      },
      "execution_count": 6,
      "outputs": [
        {
          "output_type": "stream",
          "name": "stderr",
          "text": [
            "/usr/local/lib/python3.10/dist-packages/ipykernel/ipkernel.py:283: DeprecationWarning: `should_run_async` will not call `transform_cell` automatically in the future. Please pass the result to `transformed_cell` argument and any exception that happen during thetransform in `preprocessing_exc_tuple` in IPython 7.17 and above.\n",
            "  and should_run_async(code)\n"
          ]
        }
      ]
    },
    {
      "cell_type": "code",
      "source": [
        "cleaned_texts = []                                                 # Создаём пустой список, в который поместим очищенные тексты\n",
        "lemmatizer = WordNetLemmatizer()                                   # Создание экземпляра лемматизатора WordNetLemmatizer\n",
        "stop_word = stopwords.words('english')                             # Загрузка стоп-слов для английского языка\n",
        "prefix = ('@', '#', 'http', 'https', '//', \"n't\", \"'s\")            # Префиксы для удаления\n",
        "for i in range(covid.shape[0]):                                    # Создаём цикл, который проходит по каждому тексту из датасета\n",
        "  s = ''                                                           # Начальная строка пуста\n",
        "  a = 0                                                            # Текущее слово из текста (изначально равно нулю)\n",
        "  text = covid.text[i]                                             # Передаём текст в переменную text\n",
        "  text = text.replace('…', '')                                     # Удаляем многоточие\n",
        "  text = text.replace('\\n', ' ')                                   # Удаляем символы '\\n'\n",
        "  text = text.replace('&amp', ' ')                                 # Удаляем символы '&amp'\n",
        "  text = text.lower()                                              # Переводим текст в нижний регистр\n",
        "  text = remove_emoji(text)                                        # Убираем из текста смайлики и эмоджи с помощью написанной выше функции\n",
        "  text = word_tokenize(text)                                       # Проводим токенизацию\n",
        "  while a < len(text) - 1:                                         # Создаём цикл while, который проходит по каждому слову в тексте\n",
        "    if not text[a].startswith(prefix):                             # Если слово начинается не с тех символов, которые лежат в переменной prefix, то\n",
        "      if a != len(text) - 1:                                       # если рассматриваемое слово не последнее, то\n",
        "        s += text[a] + ', '                                        # добавляем его в строку и ставим после него запятую\n",
        "      else:                                                        # Если же рассматриваемое слово последнее, то\n",
        "        s += text[a]                                               # просто добавляем его в строку\n",
        "      a += 1                                                       # Переходим к следующему слову                                                                           \n",
        "    else:                                                          # Если слово начинается с символов, которые лежат в переменной prefix, то\n",
        "      if text[a].startswith('#') or text[a].startswith('@'):       # если слово начинается с символа '@' или '#', то\n",
        "        a += 2                                                     # пропускаем это и следующее слово\n",
        "      else:                                                        # Если же слово начинается не с символов '@' или '#', то\n",
        "        a += 1                                                     # пропускаем это слово\n",
        "  s = re.sub(r'[^\\w\\s]', '', s)                                    # Удаление знаков препинания\n",
        "  s = ' '.join(s.split())                                          # Разделяем строку на слова и добавляем через пробел\n",
        "  cleaned_texts.append(s)                                          # Добавляем строку в список"
      ],
      "metadata": {
        "id": "PppKxmTtImDQ",
        "colab": {
          "base_uri": "https://localhost:8080/"
        },
        "outputId": "0b2595a6-20a8-4d97-868e-3572f23c20e1"
      },
      "execution_count": 7,
      "outputs": [
        {
          "output_type": "stream",
          "name": "stderr",
          "text": [
            "/usr/local/lib/python3.10/dist-packages/ipykernel/ipkernel.py:283: DeprecationWarning: `should_run_async` will not call `transform_cell` automatically in the future. Please pass the result to `transformed_cell` argument and any exception that happen during thetransform in `preprocessing_exc_tuple` in IPython 7.17 and above.\n",
            "  and should_run_async(code)\n"
          ]
        }
      ]
    },
    {
      "cell_type": "code",
      "source": [
        "covid[\"full_clear\"] = cleaned_texts\n",
        "covid"
      ],
      "metadata": {
        "id": "y6y83dL8ImDR",
        "colab": {
          "base_uri": "https://localhost:8080/",
          "height": 576
        },
        "outputId": "7ff99e6c-f518-4b41-d1f3-312387380139"
      },
      "execution_count": 8,
      "outputs": [
        {
          "output_type": "stream",
          "name": "stderr",
          "text": [
            "/usr/local/lib/python3.10/dist-packages/ipykernel/ipkernel.py:283: DeprecationWarning: `should_run_async` will not call `transform_cell` automatically in the future. Please pass the result to `transformed_cell` argument and any exception that happen during thetransform in `preprocessing_exc_tuple` in IPython 7.17 and above.\n",
            "  and should_run_async(code)\n",
            "<ipython-input-8-ac7362c2ebe0>:1: SettingWithCopyWarning: \n",
            "A value is trying to be set on a copy of a slice from a DataFrame.\n",
            "Try using .loc[row_indexer,col_indexer] = value instead\n",
            "\n",
            "See the caveats in the documentation: https://pandas.pydata.org/pandas-docs/stable/user_guide/indexing.html#returning-a-view-versus-a-copy\n",
            "  covid[\"full_clear\"] = cleaned_texts\n"
          ]
        },
        {
          "output_type": "execute_result",
          "data": {
            "text/plain": [
              "                                                     text  \\\n",
              "0       If I smelled the scent of hand sanitizers toda...   \n",
              "1       Hey @Yankees @YankeesPR and @MLB - wouldn't it...   \n",
              "2       @diane3443 @wdunlap @realDonaldTrump Trump nev...   \n",
              "3       @brookbanktv The one gift #COVID19 has give me...   \n",
              "4       25 July : Media Bulletin on Novel #CoronaVirus...   \n",
              "...                                                   ...   \n",
              "179103  Thanks @IamOhmai for nominating me for the @WH...   \n",
              "179104  2020! The year of insanity! Lol! #COVID19 http...   \n",
              "179105  @CTVNews A powerful painting by Juan Lucena. I...   \n",
              "179106  More than 1,200 students test positive for #CO...   \n",
              "179107  I stop when I see a Stop\\n\\n@SABCNews\\n@Izinda...   \n",
              "\n",
              "                                               full_clear  \n",
              "0       if i smelled the scent of hand sanitizers toda...  \n",
              "1       hey and would it have made more sense to have ...  \n",
              "2       trump never once claimed was a hoax we all cla...  \n",
              "3       the one gift has give me is an appreciation fo...  \n",
              "4                         25 july media bulletin on novel  \n",
              "...                                                   ...  \n",
              "179103  thanks for nominating me for the challenge i n...  \n",
              "179104                      2020 the year of insanity lol  \n",
              "179105  a powerful painting by juan lucena it a tribut...  \n",
              "179106  more than 1200 students test positive for at m...  \n",
              "179107                           i stop when i see a stop  \n",
              "\n",
              "[179108 rows x 2 columns]"
            ],
            "text/html": [
              "\n",
              "  <div id=\"df-181b8daf-cec8-4679-ab3d-985765d0081f\">\n",
              "    <div class=\"colab-df-container\">\n",
              "      <div>\n",
              "<style scoped>\n",
              "    .dataframe tbody tr th:only-of-type {\n",
              "        vertical-align: middle;\n",
              "    }\n",
              "\n",
              "    .dataframe tbody tr th {\n",
              "        vertical-align: top;\n",
              "    }\n",
              "\n",
              "    .dataframe thead th {\n",
              "        text-align: right;\n",
              "    }\n",
              "</style>\n",
              "<table border=\"1\" class=\"dataframe\">\n",
              "  <thead>\n",
              "    <tr style=\"text-align: right;\">\n",
              "      <th></th>\n",
              "      <th>text</th>\n",
              "      <th>full_clear</th>\n",
              "    </tr>\n",
              "  </thead>\n",
              "  <tbody>\n",
              "    <tr>\n",
              "      <th>0</th>\n",
              "      <td>If I smelled the scent of hand sanitizers toda...</td>\n",
              "      <td>if i smelled the scent of hand sanitizers toda...</td>\n",
              "    </tr>\n",
              "    <tr>\n",
              "      <th>1</th>\n",
              "      <td>Hey @Yankees @YankeesPR and @MLB - wouldn't it...</td>\n",
              "      <td>hey and would it have made more sense to have ...</td>\n",
              "    </tr>\n",
              "    <tr>\n",
              "      <th>2</th>\n",
              "      <td>@diane3443 @wdunlap @realDonaldTrump Trump nev...</td>\n",
              "      <td>trump never once claimed was a hoax we all cla...</td>\n",
              "    </tr>\n",
              "    <tr>\n",
              "      <th>3</th>\n",
              "      <td>@brookbanktv The one gift #COVID19 has give me...</td>\n",
              "      <td>the one gift has give me is an appreciation fo...</td>\n",
              "    </tr>\n",
              "    <tr>\n",
              "      <th>4</th>\n",
              "      <td>25 July : Media Bulletin on Novel #CoronaVirus...</td>\n",
              "      <td>25 july media bulletin on novel</td>\n",
              "    </tr>\n",
              "    <tr>\n",
              "      <th>...</th>\n",
              "      <td>...</td>\n",
              "      <td>...</td>\n",
              "    </tr>\n",
              "    <tr>\n",
              "      <th>179103</th>\n",
              "      <td>Thanks @IamOhmai for nominating me for the @WH...</td>\n",
              "      <td>thanks for nominating me for the challenge i n...</td>\n",
              "    </tr>\n",
              "    <tr>\n",
              "      <th>179104</th>\n",
              "      <td>2020! The year of insanity! Lol! #COVID19 http...</td>\n",
              "      <td>2020 the year of insanity lol</td>\n",
              "    </tr>\n",
              "    <tr>\n",
              "      <th>179105</th>\n",
              "      <td>@CTVNews A powerful painting by Juan Lucena. I...</td>\n",
              "      <td>a powerful painting by juan lucena it a tribut...</td>\n",
              "    </tr>\n",
              "    <tr>\n",
              "      <th>179106</th>\n",
              "      <td>More than 1,200 students test positive for #CO...</td>\n",
              "      <td>more than 1200 students test positive for at m...</td>\n",
              "    </tr>\n",
              "    <tr>\n",
              "      <th>179107</th>\n",
              "      <td>I stop when I see a Stop\\n\\n@SABCNews\\n@Izinda...</td>\n",
              "      <td>i stop when i see a stop</td>\n",
              "    </tr>\n",
              "  </tbody>\n",
              "</table>\n",
              "<p>179108 rows × 2 columns</p>\n",
              "</div>\n",
              "      <button class=\"colab-df-convert\" onclick=\"convertToInteractive('df-181b8daf-cec8-4679-ab3d-985765d0081f')\"\n",
              "              title=\"Convert this dataframe to an interactive table.\"\n",
              "              style=\"display:none;\">\n",
              "        \n",
              "  <svg xmlns=\"http://www.w3.org/2000/svg\" height=\"24px\"viewBox=\"0 0 24 24\"\n",
              "       width=\"24px\">\n",
              "    <path d=\"M0 0h24v24H0V0z\" fill=\"none\"/>\n",
              "    <path d=\"M18.56 5.44l.94 2.06.94-2.06 2.06-.94-2.06-.94-.94-2.06-.94 2.06-2.06.94zm-11 1L8.5 8.5l.94-2.06 2.06-.94-2.06-.94L8.5 2.5l-.94 2.06-2.06.94zm10 10l.94 2.06.94-2.06 2.06-.94-2.06-.94-.94-2.06-.94 2.06-2.06.94z\"/><path d=\"M17.41 7.96l-1.37-1.37c-.4-.4-.92-.59-1.43-.59-.52 0-1.04.2-1.43.59L10.3 9.45l-7.72 7.72c-.78.78-.78 2.05 0 2.83L4 21.41c.39.39.9.59 1.41.59.51 0 1.02-.2 1.41-.59l7.78-7.78 2.81-2.81c.8-.78.8-2.07 0-2.86zM5.41 20L4 18.59l7.72-7.72 1.47 1.35L5.41 20z\"/>\n",
              "  </svg>\n",
              "      </button>\n",
              "      \n",
              "  <style>\n",
              "    .colab-df-container {\n",
              "      display:flex;\n",
              "      flex-wrap:wrap;\n",
              "      gap: 12px;\n",
              "    }\n",
              "\n",
              "    .colab-df-convert {\n",
              "      background-color: #E8F0FE;\n",
              "      border: none;\n",
              "      border-radius: 50%;\n",
              "      cursor: pointer;\n",
              "      display: none;\n",
              "      fill: #1967D2;\n",
              "      height: 32px;\n",
              "      padding: 0 0 0 0;\n",
              "      width: 32px;\n",
              "    }\n",
              "\n",
              "    .colab-df-convert:hover {\n",
              "      background-color: #E2EBFA;\n",
              "      box-shadow: 0px 1px 2px rgba(60, 64, 67, 0.3), 0px 1px 3px 1px rgba(60, 64, 67, 0.15);\n",
              "      fill: #174EA6;\n",
              "    }\n",
              "\n",
              "    [theme=dark] .colab-df-convert {\n",
              "      background-color: #3B4455;\n",
              "      fill: #D2E3FC;\n",
              "    }\n",
              "\n",
              "    [theme=dark] .colab-df-convert:hover {\n",
              "      background-color: #434B5C;\n",
              "      box-shadow: 0px 1px 3px 1px rgba(0, 0, 0, 0.15);\n",
              "      filter: drop-shadow(0px 1px 2px rgba(0, 0, 0, 0.3));\n",
              "      fill: #FFFFFF;\n",
              "    }\n",
              "  </style>\n",
              "\n",
              "      <script>\n",
              "        const buttonEl =\n",
              "          document.querySelector('#df-181b8daf-cec8-4679-ab3d-985765d0081f button.colab-df-convert');\n",
              "        buttonEl.style.display =\n",
              "          google.colab.kernel.accessAllowed ? 'block' : 'none';\n",
              "\n",
              "        async function convertToInteractive(key) {\n",
              "          const element = document.querySelector('#df-181b8daf-cec8-4679-ab3d-985765d0081f');\n",
              "          const dataTable =\n",
              "            await google.colab.kernel.invokeFunction('convertToInteractive',\n",
              "                                                     [key], {});\n",
              "          if (!dataTable) return;\n",
              "\n",
              "          const docLinkHtml = 'Like what you see? Visit the ' +\n",
              "            '<a target=\"_blank\" href=https://colab.research.google.com/notebooks/data_table.ipynb>data table notebook</a>'\n",
              "            + ' to learn more about interactive tables.';\n",
              "          element.innerHTML = '';\n",
              "          dataTable['output_type'] = 'display_data';\n",
              "          await google.colab.output.renderOutput(dataTable, element);\n",
              "          const docLink = document.createElement('div');\n",
              "          docLink.innerHTML = docLinkHtml;\n",
              "          element.appendChild(docLink);\n",
              "        }\n",
              "      </script>\n",
              "    </div>\n",
              "  </div>\n",
              "  "
            ]
          },
          "metadata": {},
          "execution_count": 8
        }
      ]
    },
    {
      "cell_type": "code",
      "source": [
        "tokens = []\n",
        "for i in range(len(covid)):\n",
        "  token = word_tokenize(covid.full_clear[i])\n",
        "  tokens.append(token)\n",
        "covid[\"tokens\"] = tokens"
      ],
      "metadata": {
        "id": "KAwxZH4Eqsea",
        "colab": {
          "base_uri": "https://localhost:8080/"
        },
        "outputId": "84e88fed-c2cf-4703-b66b-6992901f676a"
      },
      "execution_count": 9,
      "outputs": [
        {
          "output_type": "stream",
          "name": "stderr",
          "text": [
            "/usr/local/lib/python3.10/dist-packages/ipykernel/ipkernel.py:283: DeprecationWarning: `should_run_async` will not call `transform_cell` automatically in the future. Please pass the result to `transformed_cell` argument and any exception that happen during thetransform in `preprocessing_exc_tuple` in IPython 7.17 and above.\n",
            "  and should_run_async(code)\n",
            "<ipython-input-9-064294822c4e>:5: SettingWithCopyWarning: \n",
            "A value is trying to be set on a copy of a slice from a DataFrame.\n",
            "Try using .loc[row_indexer,col_indexer] = value instead\n",
            "\n",
            "See the caveats in the documentation: https://pandas.pydata.org/pandas-docs/stable/user_guide/indexing.html#returning-a-view-versus-a-copy\n",
            "  covid[\"tokens\"] = tokens\n"
          ]
        }
      ]
    },
    {
      "cell_type": "code",
      "source": [
        "final = covid[(covid['full_clear']) != '']             # Оставляем только те тексты, в которых имеется как минимум два слова (то есть строка содержит запятую)\n",
        "final                                                  # Выводим датафрейм"
      ],
      "metadata": {
        "id": "-G8bDCknXII4",
        "colab": {
          "base_uri": "https://localhost:8080/",
          "height": 470
        },
        "outputId": "b744ec86-c689-46ec-b5c2-a2f879f38019"
      },
      "execution_count": 10,
      "outputs": [
        {
          "output_type": "stream",
          "name": "stderr",
          "text": [
            "/usr/local/lib/python3.10/dist-packages/ipykernel/ipkernel.py:283: DeprecationWarning: `should_run_async` will not call `transform_cell` automatically in the future. Please pass the result to `transformed_cell` argument and any exception that happen during thetransform in `preprocessing_exc_tuple` in IPython 7.17 and above.\n",
            "  and should_run_async(code)\n"
          ]
        },
        {
          "output_type": "execute_result",
          "data": {
            "text/plain": [
              "                                                     text  \\\n",
              "0       If I smelled the scent of hand sanitizers toda...   \n",
              "1       Hey @Yankees @YankeesPR and @MLB - wouldn't it...   \n",
              "2       @diane3443 @wdunlap @realDonaldTrump Trump nev...   \n",
              "3       @brookbanktv The one gift #COVID19 has give me...   \n",
              "4       25 July : Media Bulletin on Novel #CoronaVirus...   \n",
              "...                                                   ...   \n",
              "179103  Thanks @IamOhmai for nominating me for the @WH...   \n",
              "179104  2020! The year of insanity! Lol! #COVID19 http...   \n",
              "179105  @CTVNews A powerful painting by Juan Lucena. I...   \n",
              "179106  More than 1,200 students test positive for #CO...   \n",
              "179107  I stop when I see a Stop\\n\\n@SABCNews\\n@Izinda...   \n",
              "\n",
              "                                               full_clear  \\\n",
              "0       if i smelled the scent of hand sanitizers toda...   \n",
              "1       hey and would it have made more sense to have ...   \n",
              "2       trump never once claimed was a hoax we all cla...   \n",
              "3       the one gift has give me is an appreciation fo...   \n",
              "4                         25 july media bulletin on novel   \n",
              "...                                                   ...   \n",
              "179103  thanks for nominating me for the challenge i n...   \n",
              "179104                      2020 the year of insanity lol   \n",
              "179105  a powerful painting by juan lucena it a tribut...   \n",
              "179106  more than 1200 students test positive for at m...   \n",
              "179107                           i stop when i see a stop   \n",
              "\n",
              "                                                   tokens  \n",
              "0       [if, i, smelled, the, scent, of, hand, sanitiz...  \n",
              "1       [hey, and, would, it, have, made, more, sense,...  \n",
              "2       [trump, never, once, claimed, was, a, hoax, we...  \n",
              "3       [the, one, gift, has, give, me, is, an, apprec...  \n",
              "4                  [25, july, media, bulletin, on, novel]  \n",
              "...                                                   ...  \n",
              "179103  [thanks, for, nominating, me, for, the, challe...  \n",
              "179104               [2020, the, year, of, insanity, lol]  \n",
              "179105  [a, powerful, painting, by, juan, lucena, it, ...  \n",
              "179106  [more, than, 1200, students, test, positive, f...  \n",
              "179107                   [i, stop, when, i, see, a, stop]  \n",
              "\n",
              "[178148 rows x 3 columns]"
            ],
            "text/html": [
              "\n",
              "  <div id=\"df-191ae2ed-6449-4834-a391-b44136e86c34\">\n",
              "    <div class=\"colab-df-container\">\n",
              "      <div>\n",
              "<style scoped>\n",
              "    .dataframe tbody tr th:only-of-type {\n",
              "        vertical-align: middle;\n",
              "    }\n",
              "\n",
              "    .dataframe tbody tr th {\n",
              "        vertical-align: top;\n",
              "    }\n",
              "\n",
              "    .dataframe thead th {\n",
              "        text-align: right;\n",
              "    }\n",
              "</style>\n",
              "<table border=\"1\" class=\"dataframe\">\n",
              "  <thead>\n",
              "    <tr style=\"text-align: right;\">\n",
              "      <th></th>\n",
              "      <th>text</th>\n",
              "      <th>full_clear</th>\n",
              "      <th>tokens</th>\n",
              "    </tr>\n",
              "  </thead>\n",
              "  <tbody>\n",
              "    <tr>\n",
              "      <th>0</th>\n",
              "      <td>If I smelled the scent of hand sanitizers toda...</td>\n",
              "      <td>if i smelled the scent of hand sanitizers toda...</td>\n",
              "      <td>[if, i, smelled, the, scent, of, hand, sanitiz...</td>\n",
              "    </tr>\n",
              "    <tr>\n",
              "      <th>1</th>\n",
              "      <td>Hey @Yankees @YankeesPR and @MLB - wouldn't it...</td>\n",
              "      <td>hey and would it have made more sense to have ...</td>\n",
              "      <td>[hey, and, would, it, have, made, more, sense,...</td>\n",
              "    </tr>\n",
              "    <tr>\n",
              "      <th>2</th>\n",
              "      <td>@diane3443 @wdunlap @realDonaldTrump Trump nev...</td>\n",
              "      <td>trump never once claimed was a hoax we all cla...</td>\n",
              "      <td>[trump, never, once, claimed, was, a, hoax, we...</td>\n",
              "    </tr>\n",
              "    <tr>\n",
              "      <th>3</th>\n",
              "      <td>@brookbanktv The one gift #COVID19 has give me...</td>\n",
              "      <td>the one gift has give me is an appreciation fo...</td>\n",
              "      <td>[the, one, gift, has, give, me, is, an, apprec...</td>\n",
              "    </tr>\n",
              "    <tr>\n",
              "      <th>4</th>\n",
              "      <td>25 July : Media Bulletin on Novel #CoronaVirus...</td>\n",
              "      <td>25 july media bulletin on novel</td>\n",
              "      <td>[25, july, media, bulletin, on, novel]</td>\n",
              "    </tr>\n",
              "    <tr>\n",
              "      <th>...</th>\n",
              "      <td>...</td>\n",
              "      <td>...</td>\n",
              "      <td>...</td>\n",
              "    </tr>\n",
              "    <tr>\n",
              "      <th>179103</th>\n",
              "      <td>Thanks @IamOhmai for nominating me for the @WH...</td>\n",
              "      <td>thanks for nominating me for the challenge i n...</td>\n",
              "      <td>[thanks, for, nominating, me, for, the, challe...</td>\n",
              "    </tr>\n",
              "    <tr>\n",
              "      <th>179104</th>\n",
              "      <td>2020! The year of insanity! Lol! #COVID19 http...</td>\n",
              "      <td>2020 the year of insanity lol</td>\n",
              "      <td>[2020, the, year, of, insanity, lol]</td>\n",
              "    </tr>\n",
              "    <tr>\n",
              "      <th>179105</th>\n",
              "      <td>@CTVNews A powerful painting by Juan Lucena. I...</td>\n",
              "      <td>a powerful painting by juan lucena it a tribut...</td>\n",
              "      <td>[a, powerful, painting, by, juan, lucena, it, ...</td>\n",
              "    </tr>\n",
              "    <tr>\n",
              "      <th>179106</th>\n",
              "      <td>More than 1,200 students test positive for #CO...</td>\n",
              "      <td>more than 1200 students test positive for at m...</td>\n",
              "      <td>[more, than, 1200, students, test, positive, f...</td>\n",
              "    </tr>\n",
              "    <tr>\n",
              "      <th>179107</th>\n",
              "      <td>I stop when I see a Stop\\n\\n@SABCNews\\n@Izinda...</td>\n",
              "      <td>i stop when i see a stop</td>\n",
              "      <td>[i, stop, when, i, see, a, stop]</td>\n",
              "    </tr>\n",
              "  </tbody>\n",
              "</table>\n",
              "<p>178148 rows × 3 columns</p>\n",
              "</div>\n",
              "      <button class=\"colab-df-convert\" onclick=\"convertToInteractive('df-191ae2ed-6449-4834-a391-b44136e86c34')\"\n",
              "              title=\"Convert this dataframe to an interactive table.\"\n",
              "              style=\"display:none;\">\n",
              "        \n",
              "  <svg xmlns=\"http://www.w3.org/2000/svg\" height=\"24px\"viewBox=\"0 0 24 24\"\n",
              "       width=\"24px\">\n",
              "    <path d=\"M0 0h24v24H0V0z\" fill=\"none\"/>\n",
              "    <path d=\"M18.56 5.44l.94 2.06.94-2.06 2.06-.94-2.06-.94-.94-2.06-.94 2.06-2.06.94zm-11 1L8.5 8.5l.94-2.06 2.06-.94-2.06-.94L8.5 2.5l-.94 2.06-2.06.94zm10 10l.94 2.06.94-2.06 2.06-.94-2.06-.94-.94-2.06-.94 2.06-2.06.94z\"/><path d=\"M17.41 7.96l-1.37-1.37c-.4-.4-.92-.59-1.43-.59-.52 0-1.04.2-1.43.59L10.3 9.45l-7.72 7.72c-.78.78-.78 2.05 0 2.83L4 21.41c.39.39.9.59 1.41.59.51 0 1.02-.2 1.41-.59l7.78-7.78 2.81-2.81c.8-.78.8-2.07 0-2.86zM5.41 20L4 18.59l7.72-7.72 1.47 1.35L5.41 20z\"/>\n",
              "  </svg>\n",
              "      </button>\n",
              "      \n",
              "  <style>\n",
              "    .colab-df-container {\n",
              "      display:flex;\n",
              "      flex-wrap:wrap;\n",
              "      gap: 12px;\n",
              "    }\n",
              "\n",
              "    .colab-df-convert {\n",
              "      background-color: #E8F0FE;\n",
              "      border: none;\n",
              "      border-radius: 50%;\n",
              "      cursor: pointer;\n",
              "      display: none;\n",
              "      fill: #1967D2;\n",
              "      height: 32px;\n",
              "      padding: 0 0 0 0;\n",
              "      width: 32px;\n",
              "    }\n",
              "\n",
              "    .colab-df-convert:hover {\n",
              "      background-color: #E2EBFA;\n",
              "      box-shadow: 0px 1px 2px rgba(60, 64, 67, 0.3), 0px 1px 3px 1px rgba(60, 64, 67, 0.15);\n",
              "      fill: #174EA6;\n",
              "    }\n",
              "\n",
              "    [theme=dark] .colab-df-convert {\n",
              "      background-color: #3B4455;\n",
              "      fill: #D2E3FC;\n",
              "    }\n",
              "\n",
              "    [theme=dark] .colab-df-convert:hover {\n",
              "      background-color: #434B5C;\n",
              "      box-shadow: 0px 1px 3px 1px rgba(0, 0, 0, 0.15);\n",
              "      filter: drop-shadow(0px 1px 2px rgba(0, 0, 0, 0.3));\n",
              "      fill: #FFFFFF;\n",
              "    }\n",
              "  </style>\n",
              "\n",
              "      <script>\n",
              "        const buttonEl =\n",
              "          document.querySelector('#df-191ae2ed-6449-4834-a391-b44136e86c34 button.colab-df-convert');\n",
              "        buttonEl.style.display =\n",
              "          google.colab.kernel.accessAllowed ? 'block' : 'none';\n",
              "\n",
              "        async function convertToInteractive(key) {\n",
              "          const element = document.querySelector('#df-191ae2ed-6449-4834-a391-b44136e86c34');\n",
              "          const dataTable =\n",
              "            await google.colab.kernel.invokeFunction('convertToInteractive',\n",
              "                                                     [key], {});\n",
              "          if (!dataTable) return;\n",
              "\n",
              "          const docLinkHtml = 'Like what you see? Visit the ' +\n",
              "            '<a target=\"_blank\" href=https://colab.research.google.com/notebooks/data_table.ipynb>data table notebook</a>'\n",
              "            + ' to learn more about interactive tables.';\n",
              "          element.innerHTML = '';\n",
              "          dataTable['output_type'] = 'display_data';\n",
              "          await google.colab.output.renderOutput(dataTable, element);\n",
              "          const docLink = document.createElement('div');\n",
              "          docLink.innerHTML = docLinkHtml;\n",
              "          element.appendChild(docLink);\n",
              "        }\n",
              "      </script>\n",
              "    </div>\n",
              "  </div>\n",
              "  "
            ]
          },
          "metadata": {},
          "execution_count": 10
        }
      ]
    },
    {
      "cell_type": "code",
      "source": [
        "covid_sample = final.sample(n=10000)\n",
        "covid_sample"
      ],
      "metadata": {
        "id": "g6UXYQHmPIWH",
        "colab": {
          "base_uri": "https://localhost:8080/",
          "height": 470
        },
        "outputId": "006e6d90-9c7c-44f8-bf20-4ccbb6873755"
      },
      "execution_count": 11,
      "outputs": [
        {
          "output_type": "stream",
          "name": "stderr",
          "text": [
            "/usr/local/lib/python3.10/dist-packages/ipykernel/ipkernel.py:283: DeprecationWarning: `should_run_async` will not call `transform_cell` automatically in the future. Please pass the result to `transformed_cell` argument and any exception that happen during thetransform in `preprocessing_exc_tuple` in IPython 7.17 and above.\n",
            "  and should_run_async(code)\n"
          ]
        },
        {
          "output_type": "execute_result",
          "data": {
            "text/plain": [
              "                                                     text  \\\n",
              "125190  Yassin Juma, a Kenyan journalist who was arres...   \n",
              "155713  Was only trying to help...\\n\\n#UTI #LayCruiser...   \n",
              "31293   #VandeBharatMission | The repatriation flight ...   \n",
              "173480  Very little is unchanged by the events of 2020...   \n",
              "73834   📝\\nStructure of SARS-CoV-2 2'-O-methyltransfer...   \n",
              "...                                                   ...   \n",
              "146579  Spike of 57,982 cases and 941 deaths reported ...   \n",
              "85536   ⁦@GOPconvention⁩ Gets Reality Check Over ‘Expe...   \n",
              "119552  The Government and the media spread a great de...   \n",
              "36065   @Juls4Change Guarantee: they're all plants. An...   \n",
              "5565    @realDonaldTrump 148,492 #COVID19 Deaths on YO...   \n",
              "\n",
              "                                               full_clear  \\\n",
              "125190  yassin juma a kenyan journalist who was arrest...   \n",
              "155713                            was only trying to help   \n",
              "31293   the repatriation flight schedule and other upd...   \n",
              "173480  very little is unchanged by the events of 2020...   \n",
              "73834   structure of sarscov2 2omethyltransferase hete...   \n",
              "...                                                   ...   \n",
              "146579  spike of 57982 cases and 941 deaths reported i...   \n",
              "85536   gets reality check over expectations exceeded ...   \n",
              "119552  the government and the media spread a great de...   \n",
              "36065   guarantee they re all plants anyone can wear a...   \n",
              "5565    148492 deaths on your watch for 312 years you ...   \n",
              "\n",
              "                                                   tokens  \n",
              "125190  [yassin, juma, a, kenyan, journalist, who, was...  \n",
              "155713                      [was, only, trying, to, help]  \n",
              "31293   [the, repatriation, flight, schedule, and, oth...  \n",
              "173480  [very, little, is, unchanged, by, the, events,...  \n",
              "73834   [structure, of, sarscov2, 2omethyltransferase,...  \n",
              "...                                                   ...  \n",
              "146579  [spike, of, 57982, cases, and, 941, deaths, re...  \n",
              "85536   [gets, reality, check, over, expectations, exc...  \n",
              "119552  [the, government, and, the, media, spread, a, ...  \n",
              "36065   [guarantee, they, re, all, plants, anyone, can...  \n",
              "5565    [148492, deaths, on, your, watch, for, 312, ye...  \n",
              "\n",
              "[10000 rows x 3 columns]"
            ],
            "text/html": [
              "\n",
              "  <div id=\"df-28cf6c37-67cb-429c-9bae-e08f8eff3158\">\n",
              "    <div class=\"colab-df-container\">\n",
              "      <div>\n",
              "<style scoped>\n",
              "    .dataframe tbody tr th:only-of-type {\n",
              "        vertical-align: middle;\n",
              "    }\n",
              "\n",
              "    .dataframe tbody tr th {\n",
              "        vertical-align: top;\n",
              "    }\n",
              "\n",
              "    .dataframe thead th {\n",
              "        text-align: right;\n",
              "    }\n",
              "</style>\n",
              "<table border=\"1\" class=\"dataframe\">\n",
              "  <thead>\n",
              "    <tr style=\"text-align: right;\">\n",
              "      <th></th>\n",
              "      <th>text</th>\n",
              "      <th>full_clear</th>\n",
              "      <th>tokens</th>\n",
              "    </tr>\n",
              "  </thead>\n",
              "  <tbody>\n",
              "    <tr>\n",
              "      <th>125190</th>\n",
              "      <td>Yassin Juma, a Kenyan journalist who was arres...</td>\n",
              "      <td>yassin juma a kenyan journalist who was arrest...</td>\n",
              "      <td>[yassin, juma, a, kenyan, journalist, who, was...</td>\n",
              "    </tr>\n",
              "    <tr>\n",
              "      <th>155713</th>\n",
              "      <td>Was only trying to help...\\n\\n#UTI #LayCruiser...</td>\n",
              "      <td>was only trying to help</td>\n",
              "      <td>[was, only, trying, to, help]</td>\n",
              "    </tr>\n",
              "    <tr>\n",
              "      <th>31293</th>\n",
              "      <td>#VandeBharatMission | The repatriation flight ...</td>\n",
              "      <td>the repatriation flight schedule and other upd...</td>\n",
              "      <td>[the, repatriation, flight, schedule, and, oth...</td>\n",
              "    </tr>\n",
              "    <tr>\n",
              "      <th>173480</th>\n",
              "      <td>Very little is unchanged by the events of 2020...</td>\n",
              "      <td>very little is unchanged by the events of 2020...</td>\n",
              "      <td>[very, little, is, unchanged, by, the, events,...</td>\n",
              "    </tr>\n",
              "    <tr>\n",
              "      <th>73834</th>\n",
              "      <td>📝\\nStructure of SARS-CoV-2 2'-O-methyltransfer...</td>\n",
              "      <td>structure of sarscov2 2omethyltransferase hete...</td>\n",
              "      <td>[structure, of, sarscov2, 2omethyltransferase,...</td>\n",
              "    </tr>\n",
              "    <tr>\n",
              "      <th>...</th>\n",
              "      <td>...</td>\n",
              "      <td>...</td>\n",
              "      <td>...</td>\n",
              "    </tr>\n",
              "    <tr>\n",
              "      <th>146579</th>\n",
              "      <td>Spike of 57,982 cases and 941 deaths reported ...</td>\n",
              "      <td>spike of 57982 cases and 941 deaths reported i...</td>\n",
              "      <td>[spike, of, 57982, cases, and, 941, deaths, re...</td>\n",
              "    </tr>\n",
              "    <tr>\n",
              "      <th>85536</th>\n",
              "      <td>⁦@GOPconvention⁩ Gets Reality Check Over ‘Expe...</td>\n",
              "      <td>gets reality check over expectations exceeded ...</td>\n",
              "      <td>[gets, reality, check, over, expectations, exc...</td>\n",
              "    </tr>\n",
              "    <tr>\n",
              "      <th>119552</th>\n",
              "      <td>The Government and the media spread a great de...</td>\n",
              "      <td>the government and the media spread a great de...</td>\n",
              "      <td>[the, government, and, the, media, spread, a, ...</td>\n",
              "    </tr>\n",
              "    <tr>\n",
              "      <th>36065</th>\n",
              "      <td>@Juls4Change Guarantee: they're all plants. An...</td>\n",
              "      <td>guarantee they re all plants anyone can wear a...</td>\n",
              "      <td>[guarantee, they, re, all, plants, anyone, can...</td>\n",
              "    </tr>\n",
              "    <tr>\n",
              "      <th>5565</th>\n",
              "      <td>@realDonaldTrump 148,492 #COVID19 Deaths on YO...</td>\n",
              "      <td>148492 deaths on your watch for 312 years you ...</td>\n",
              "      <td>[148492, deaths, on, your, watch, for, 312, ye...</td>\n",
              "    </tr>\n",
              "  </tbody>\n",
              "</table>\n",
              "<p>10000 rows × 3 columns</p>\n",
              "</div>\n",
              "      <button class=\"colab-df-convert\" onclick=\"convertToInteractive('df-28cf6c37-67cb-429c-9bae-e08f8eff3158')\"\n",
              "              title=\"Convert this dataframe to an interactive table.\"\n",
              "              style=\"display:none;\">\n",
              "        \n",
              "  <svg xmlns=\"http://www.w3.org/2000/svg\" height=\"24px\"viewBox=\"0 0 24 24\"\n",
              "       width=\"24px\">\n",
              "    <path d=\"M0 0h24v24H0V0z\" fill=\"none\"/>\n",
              "    <path d=\"M18.56 5.44l.94 2.06.94-2.06 2.06-.94-2.06-.94-.94-2.06-.94 2.06-2.06.94zm-11 1L8.5 8.5l.94-2.06 2.06-.94-2.06-.94L8.5 2.5l-.94 2.06-2.06.94zm10 10l.94 2.06.94-2.06 2.06-.94-2.06-.94-.94-2.06-.94 2.06-2.06.94z\"/><path d=\"M17.41 7.96l-1.37-1.37c-.4-.4-.92-.59-1.43-.59-.52 0-1.04.2-1.43.59L10.3 9.45l-7.72 7.72c-.78.78-.78 2.05 0 2.83L4 21.41c.39.39.9.59 1.41.59.51 0 1.02-.2 1.41-.59l7.78-7.78 2.81-2.81c.8-.78.8-2.07 0-2.86zM5.41 20L4 18.59l7.72-7.72 1.47 1.35L5.41 20z\"/>\n",
              "  </svg>\n",
              "      </button>\n",
              "      \n",
              "  <style>\n",
              "    .colab-df-container {\n",
              "      display:flex;\n",
              "      flex-wrap:wrap;\n",
              "      gap: 12px;\n",
              "    }\n",
              "\n",
              "    .colab-df-convert {\n",
              "      background-color: #E8F0FE;\n",
              "      border: none;\n",
              "      border-radius: 50%;\n",
              "      cursor: pointer;\n",
              "      display: none;\n",
              "      fill: #1967D2;\n",
              "      height: 32px;\n",
              "      padding: 0 0 0 0;\n",
              "      width: 32px;\n",
              "    }\n",
              "\n",
              "    .colab-df-convert:hover {\n",
              "      background-color: #E2EBFA;\n",
              "      box-shadow: 0px 1px 2px rgba(60, 64, 67, 0.3), 0px 1px 3px 1px rgba(60, 64, 67, 0.15);\n",
              "      fill: #174EA6;\n",
              "    }\n",
              "\n",
              "    [theme=dark] .colab-df-convert {\n",
              "      background-color: #3B4455;\n",
              "      fill: #D2E3FC;\n",
              "    }\n",
              "\n",
              "    [theme=dark] .colab-df-convert:hover {\n",
              "      background-color: #434B5C;\n",
              "      box-shadow: 0px 1px 3px 1px rgba(0, 0, 0, 0.15);\n",
              "      filter: drop-shadow(0px 1px 2px rgba(0, 0, 0, 0.3));\n",
              "      fill: #FFFFFF;\n",
              "    }\n",
              "  </style>\n",
              "\n",
              "      <script>\n",
              "        const buttonEl =\n",
              "          document.querySelector('#df-28cf6c37-67cb-429c-9bae-e08f8eff3158 button.colab-df-convert');\n",
              "        buttonEl.style.display =\n",
              "          google.colab.kernel.accessAllowed ? 'block' : 'none';\n",
              "\n",
              "        async function convertToInteractive(key) {\n",
              "          const element = document.querySelector('#df-28cf6c37-67cb-429c-9bae-e08f8eff3158');\n",
              "          const dataTable =\n",
              "            await google.colab.kernel.invokeFunction('convertToInteractive',\n",
              "                                                     [key], {});\n",
              "          if (!dataTable) return;\n",
              "\n",
              "          const docLinkHtml = 'Like what you see? Visit the ' +\n",
              "            '<a target=\"_blank\" href=https://colab.research.google.com/notebooks/data_table.ipynb>data table notebook</a>'\n",
              "            + ' to learn more about interactive tables.';\n",
              "          element.innerHTML = '';\n",
              "          dataTable['output_type'] = 'display_data';\n",
              "          await google.colab.output.renderOutput(dataTable, element);\n",
              "          const docLink = document.createElement('div');\n",
              "          docLink.innerHTML = docLinkHtml;\n",
              "          element.appendChild(docLink);\n",
              "        }\n",
              "      </script>\n",
              "    </div>\n",
              "  </div>\n",
              "  "
            ]
          },
          "metadata": {},
          "execution_count": 11
        }
      ]
    },
    {
      "cell_type": "markdown",
      "source": [
        "## ***Дообучение базовой модели, файнтюнинг***"
      ],
      "metadata": {
        "id": "xrUG3bPSPpQQ"
      }
    },
    {
      "cell_type": "code",
      "source": [
        "base_tokenizer = GPT2Tokenizer.from_pretrained('gpt2')\n",
        "base_model = GPT2LMHeadModel.from_pretrained('gpt2')"
      ],
      "metadata": {
        "id": "5cz6ndUkPsBb",
        "colab": {
          "base_uri": "https://localhost:8080/",
          "height": 232,
          "referenced_widgets": [
            "87054b6bcbff41819e08f512d125099e",
            "ad01ca40792749cc8e2d1566b03b89a5",
            "b855198e9c4d40fc9bfaf792c356390f",
            "c948b05c6d974193a863accab8fa7860",
            "a92b6014963843e5a796e0a90e520bba",
            "4987e17c60af47a09c06d8f2dc341d6b",
            "9cfe2da21eac4e8da142cd4d18f0ac7d",
            "b91622d56a5c4bd09e9b3fac8aa4887d",
            "e0f01685ed9d4d999775755ec21aa9b2",
            "31293cae5f6f4cd6b229955081c928e4",
            "4bc2993af8bc4c14a3e52a087b705521",
            "a01339fe70654a029b9f19c2eb50d316",
            "51669fcc4b6e4546b7af66238c853a5f",
            "81bb8c89dd3e43c1b1cc19b649a92ad9",
            "8d607e833b9d441a9eda018db15b541a",
            "48f7888691934d0e976b7f5ed3c3eeb3",
            "0355197e28ab49a6be554926da816100",
            "2e43f96afa59455cb03e68bd310fda02",
            "2d6608a6085846f9a084f69ec12bff8f",
            "35d4cfb04d484858a1ae9cb598c5f697",
            "c0f2126f4dc648feaee04a40f42fa7c7",
            "8522d5d7c8f8491d9ebdb92325756cd4",
            "fdbcb0e9fd744380a50cd4cc09b84350",
            "b5cf4aec9d41462b8baa6d8c8403afa8",
            "ee9dcf2d1e4a40f3a5b4f43899a818b5",
            "e732a879ab464b72a94468e3eb112f09",
            "c41b6c371bd340719c40525be4630d5a",
            "8e3579849dd340e99cbf6f4b855349e4",
            "4be0b40de2484428b0138d72ed082b30",
            "f29d2728a8f844ff97e2bc626490d64b",
            "414bbefeb75c43c596ce623f35f95643",
            "6414bd845a8c4f82bd0c5921a9ed835f",
            "f7f0f442a2804d03becea0c185120b85",
            "06a697c418244f0db6c8dc5920302192",
            "5d6dcfeab14345128f4d5a5ff5289842",
            "7de28add8aee4fb4969a703aa92cff92",
            "1acf8ac2fc384932804c12f9e202d567",
            "eb954c42051947098b08710bd0fc8dd0",
            "7318bc1dc0804f1987a1f9672c804c88",
            "b3fdc7b8ad984ec890f114003974872b",
            "fd0b1cfa308d4d08a81eedbaa63822f2",
            "e3d7f884ad444b719d8cfcbe0e2a37a6",
            "ba55e12cc779483e89338edfc3939e13",
            "b981f305ba16480080398031f625461b",
            "c693e6e2fc3d4b7da16c51102af5196a",
            "36ba8d376fe7422fb0751cc114942b17",
            "4479d2e65b864813a9033467cb4facf3",
            "7c3373936718499682ea67f3c4982508",
            "c0980242988a44dd9d6a686043d1dc74",
            "36a04977eb6942d59c4ee73a79063d23",
            "5e4ec4d033d541e49cbdb37dd4195d84",
            "373cc9b474254c5695867816ea75f9cb",
            "8fc4a1ed4d7c43a1ba6337ac63cac3a8",
            "1c5774b4e9f34c8ca1d7be79fc37b0fe",
            "7dfa11d685a748c68cf991b43f0dc3a2"
          ]
        },
        "outputId": "2419cb70-40e3-4416-ed42-0c53110c7389"
      },
      "execution_count": 12,
      "outputs": [
        {
          "output_type": "stream",
          "name": "stderr",
          "text": [
            "/usr/local/lib/python3.10/dist-packages/ipykernel/ipkernel.py:283: DeprecationWarning: `should_run_async` will not call `transform_cell` automatically in the future. Please pass the result to `transformed_cell` argument and any exception that happen during thetransform in `preprocessing_exc_tuple` in IPython 7.17 and above.\n",
            "  and should_run_async(code)\n"
          ]
        },
        {
          "output_type": "display_data",
          "data": {
            "text/plain": [
              "Downloading (…)olve/main/vocab.json:   0%|          | 0.00/1.04M [00:00<?, ?B/s]"
            ],
            "application/vnd.jupyter.widget-view+json": {
              "version_major": 2,
              "version_minor": 0,
              "model_id": "87054b6bcbff41819e08f512d125099e"
            }
          },
          "metadata": {}
        },
        {
          "output_type": "display_data",
          "data": {
            "text/plain": [
              "Downloading (…)olve/main/merges.txt:   0%|          | 0.00/456k [00:00<?, ?B/s]"
            ],
            "application/vnd.jupyter.widget-view+json": {
              "version_major": 2,
              "version_minor": 0,
              "model_id": "a01339fe70654a029b9f19c2eb50d316"
            }
          },
          "metadata": {}
        },
        {
          "output_type": "display_data",
          "data": {
            "text/plain": [
              "Downloading (…)lve/main/config.json:   0%|          | 0.00/665 [00:00<?, ?B/s]"
            ],
            "application/vnd.jupyter.widget-view+json": {
              "version_major": 2,
              "version_minor": 0,
              "model_id": "fdbcb0e9fd744380a50cd4cc09b84350"
            }
          },
          "metadata": {}
        },
        {
          "output_type": "display_data",
          "data": {
            "text/plain": [
              "Downloading pytorch_model.bin:   0%|          | 0.00/548M [00:00<?, ?B/s]"
            ],
            "application/vnd.jupyter.widget-view+json": {
              "version_major": 2,
              "version_minor": 0,
              "model_id": "06a697c418244f0db6c8dc5920302192"
            }
          },
          "metadata": {}
        },
        {
          "output_type": "display_data",
          "data": {
            "text/plain": [
              "Downloading (…)neration_config.json:   0%|          | 0.00/124 [00:00<?, ?B/s]"
            ],
            "application/vnd.jupyter.widget-view+json": {
              "version_major": 2,
              "version_minor": 0,
              "model_id": "c693e6e2fc3d4b7da16c51102af5196a"
            }
          },
          "metadata": {}
        }
      ]
    },
    {
      "cell_type": "code",
      "source": [
        "print('Words in vocabulary:', base_tokenizer.vocab_size)"
      ],
      "metadata": {
        "id": "qNTbAhvdRgEu",
        "colab": {
          "base_uri": "https://localhost:8080/"
        },
        "outputId": "0d521882-bc3e-48b0-fcb5-27820c9a49c6"
      },
      "execution_count": 13,
      "outputs": [
        {
          "output_type": "stream",
          "name": "stdout",
          "text": [
            "Words in vocabulary: 50257\n"
          ]
        },
        {
          "output_type": "stream",
          "name": "stderr",
          "text": [
            "/usr/local/lib/python3.10/dist-packages/ipykernel/ipkernel.py:283: DeprecationWarning: `should_run_async` will not call `transform_cell` automatically in the future. Please pass the result to `transformed_cell` argument and any exception that happen during thetransform in `preprocessing_exc_tuple` in IPython 7.17 and above.\n",
            "  and should_run_async(code)\n"
          ]
        }
      ]
    },
    {
      "cell_type": "code",
      "source": [
        "def pretty_print(text, max_len_line=100):\n",
        "    words = text.split(' ')\n",
        "    len_line = 0\n",
        "    line = ''\n",
        "    for w in words:\n",
        "        if w == '\\n':\n",
        "            print(line)\n",
        "            line = ''\n",
        "            continue\n",
        "        if (len(line) + len(w)) > max_len_line:\n",
        "            print(line)\n",
        "            line = ''\n",
        "        line += ' ' + w\n",
        "    print(line)"
      ],
      "metadata": {
        "id": "i_gAF8EKNNkF",
        "colab": {
          "base_uri": "https://localhost:8080/"
        },
        "outputId": "ffc70567-74cd-4078-d376-434bb329acc6"
      },
      "execution_count": 14,
      "outputs": [
        {
          "output_type": "stream",
          "name": "stderr",
          "text": [
            "/usr/local/lib/python3.10/dist-packages/ipykernel/ipkernel.py:283: DeprecationWarning: `should_run_async` will not call `transform_cell` automatically in the future. Please pass the result to `transformed_cell` argument and any exception that happen during thetransform in `preprocessing_exc_tuple` in IPython 7.17 and above.\n",
            "  and should_run_async(code)\n"
          ]
        }
      ]
    },
    {
      "cell_type": "code",
      "source": [
        "covid_sample[\"text\"].tolist()[8]"
      ],
      "metadata": {
        "id": "lvNJq1JrPpC0",
        "colab": {
          "base_uri": "https://localhost:8080/",
          "height": 91
        },
        "outputId": "260762a3-0b13-4d82-cd84-d252b6b136a5"
      },
      "execution_count": 15,
      "outputs": [
        {
          "output_type": "stream",
          "name": "stderr",
          "text": [
            "/usr/local/lib/python3.10/dist-packages/ipykernel/ipkernel.py:283: DeprecationWarning: `should_run_async` will not call `transform_cell` automatically in the future. Please pass the result to `transformed_cell` argument and any exception that happen during thetransform in `preprocessing_exc_tuple` in IPython 7.17 and above.\n",
            "  and should_run_async(code)\n"
          ]
        },
        {
          "output_type": "execute_result",
          "data": {
            "text/plain": [
              "'Trump announced a plan to gut #SocialSecurity instead of working with Congress to pass #COVID19 relief. \\n\\nWrite to… https://t.co/a7qfQKPHQi'"
            ],
            "application/vnd.google.colaboratory.intrinsic+json": {
              "type": "string"
            }
          },
          "metadata": {},
          "execution_count": 15
        }
      ]
    },
    {
      "cell_type": "code",
      "source": [
        "covid_sample[\"full_clear\"].tolist()[8]"
      ],
      "metadata": {
        "id": "79qnRI2DOBGY",
        "colab": {
          "base_uri": "https://localhost:8080/",
          "height": 91
        },
        "outputId": "f0370d23-4809-4225-8413-709cf0c6775b"
      },
      "execution_count": 16,
      "outputs": [
        {
          "output_type": "stream",
          "name": "stderr",
          "text": [
            "/usr/local/lib/python3.10/dist-packages/ipykernel/ipkernel.py:283: DeprecationWarning: `should_run_async` will not call `transform_cell` automatically in the future. Please pass the result to `transformed_cell` argument and any exception that happen during thetransform in `preprocessing_exc_tuple` in IPython 7.17 and above.\n",
            "  and should_run_async(code)\n"
          ]
        },
        {
          "output_type": "execute_result",
          "data": {
            "text/plain": [
              "'trump announced a plan to gut instead of working with congress to pass relief write to'"
            ],
            "application/vnd.google.colaboratory.intrinsic+json": {
              "type": "string"
            }
          },
          "metadata": {},
          "execution_count": 16
        }
      ]
    },
    {
      "cell_type": "code",
      "source": [
        "from transformers import pipeline\n",
        "#generator = pipeline('text-generation', model='gpt2')\n",
        "#text_ids = base_tokenizer.encode(covid_sample[\"full_clear\"].tolist(), max_length=10000, max_new_tokens=5000, truncation=True, return_tensors = 'pt')\n",
        "text_ids = base_tokenizer.encode(covid_sample[\"full_clear\"].tolist()[1], return_tensors = 'pt')\n",
        "generated_text_samples = base_model.generate(text_ids, max_length=100)\n",
        "\n",
        "for i, beam in enumerate(generated_text_samples):\n",
        "    print(f\"{i}: {base_tokenizer.decode(beam, skip_special_tokens=True)}\")\n",
        "    print()\n"
      ],
      "metadata": {
        "id": "8wIBEe2OQ73B",
        "colab": {
          "base_uri": "https://localhost:8080/"
        },
        "outputId": "d3200d13-bc82-40bd-9c0f-b400a9d2a309"
      },
      "execution_count": 17,
      "outputs": [
        {
          "output_type": "stream",
          "name": "stderr",
          "text": [
            "/usr/local/lib/python3.10/dist-packages/ipykernel/ipkernel.py:283: DeprecationWarning: `should_run_async` will not call `transform_cell` automatically in the future. Please pass the result to `transformed_cell` argument and any exception that happen during thetransform in `preprocessing_exc_tuple` in IPython 7.17 and above.\n",
            "  and should_run_async(code)\n",
            "The attention mask and the pad token id were not set. As a consequence, you may observe unexpected behavior. Please pass your input's `attention_mask` to obtain reliable results.\n",
            "Setting `pad_token_id` to `eos_token_id`:50256 for open-end generation.\n"
          ]
        },
        {
          "output_type": "stream",
          "name": "stdout",
          "text": [
            "0: was only trying to help the people of the city.\n",
            "\n",
            "\"I'm not going to be a part of this,\" he said. \"I'm not going to be a part of this. I'm not going to be a part of this. I'm not going to be a part of this. I'm not going to be a part of this. I'm not going to be a part of this. I'm not going to be a part of this. I'm not going to\n",
            "\n"
          ]
        }
      ]
    },
    {
      "cell_type": "code",
      "source": [
        "covid_sample[\"full_clear\"].tolist()[1]"
      ],
      "metadata": {
        "id": "4-aUMjWdLxp3",
        "colab": {
          "base_uri": "https://localhost:8080/",
          "height": 91
        },
        "outputId": "5ecf5ac6-0423-4e0a-c06f-dd57fc60ec6b"
      },
      "execution_count": 18,
      "outputs": [
        {
          "output_type": "stream",
          "name": "stderr",
          "text": [
            "/usr/local/lib/python3.10/dist-packages/ipykernel/ipkernel.py:283: DeprecationWarning: `should_run_async` will not call `transform_cell` automatically in the future. Please pass the result to `transformed_cell` argument and any exception that happen during thetransform in `preprocessing_exc_tuple` in IPython 7.17 and above.\n",
            "  and should_run_async(code)\n"
          ]
        },
        {
          "output_type": "execute_result",
          "data": {
            "text/plain": [
              "'was only trying to help'"
            ],
            "application/vnd.google.colaboratory.intrinsic+json": {
              "type": "string"
            }
          },
          "metadata": {},
          "execution_count": 18
        }
      ]
    },
    {
      "cell_type": "code",
      "source": [
        "generated_text_samples = base_model.generate(\n",
        "    text_ids,\n",
        "    max_length= 50,  \n",
        "    num_beams=5,\n",
        "    num_return_sequences= 5,\n",
        "    early_stopping=True \n",
        ")\n",
        "\n",
        "for i, beam in enumerate(generated_text_samples):\n",
        "  pretty_print(f\"{i}: {base_tokenizer.decode(beam, skip_special_tokens=True)}\")\n",
        "  print()"
      ],
      "metadata": {
        "id": "DPJwN5UHNHdX",
        "colab": {
          "base_uri": "https://localhost:8080/"
        },
        "outputId": "01ef27f3-db56-433e-b987-64200d2dc7b9"
      },
      "execution_count": 19,
      "outputs": [
        {
          "output_type": "stream",
          "name": "stderr",
          "text": [
            "/usr/local/lib/python3.10/dist-packages/ipykernel/ipkernel.py:283: DeprecationWarning: `should_run_async` will not call `transform_cell` automatically in the future. Please pass the result to `transformed_cell` argument and any exception that happen during thetransform in `preprocessing_exc_tuple` in IPython 7.17 and above.\n",
            "  and should_run_async(code)\n",
            "The attention mask and the pad token id were not set. As a consequence, you may observe unexpected behavior. Please pass your input's `attention_mask` to obtain reliable results.\n",
            "Setting `pad_token_id` to `eos_token_id`:50256 for open-end generation.\n"
          ]
        },
        {
          "output_type": "stream",
          "name": "stdout",
          "text": [
            " 0: was only trying to help.\n",
            "\n",
            "\"I'm just trying to help,\" he said. \"I'm just trying to help. I'm just\n",
            " trying to help. I'm just trying to help. I'm just trying to help. I'm\n",
            "\n",
            " 1: was only trying to help.\n",
            "\n",
            "\"I'm just trying to help,\" he said. \"I'm just trying to help. I'm just\n",
            " trying to help. I'm just trying to help. I'm just trying to help.\"\n",
            "\n",
            "\n",
            "\n",
            " 2: was only trying to help.\n",
            "\n",
            "\"I'm just trying to help,\" she said. \"I'm just trying to help. I'm just\n",
            " trying to help. I'm just trying to help. I'm just trying to help. I'm\n",
            "\n",
            " 3: was only trying to help.\n",
            "\n",
            "\"I'm just trying to help,\" she said. \"I'm just trying to help. I'm just\n",
            " trying to help. I'm just trying to help. I'm just trying to help.\"\n",
            "\n",
            "\n",
            "\n",
            " 4: was only trying to help.\n",
            "\n",
            "\"I'm just trying to help,\" he said. \"I'm just trying to help. I'm just\n",
            " trying to help. I'm just trying to help. I'm just trying to help. I just\n",
            "\n"
          ]
        }
      ]
    },
    {
      "cell_type": "code",
      "source": [
        "generated_text_samples = base_model.generate(\n",
        "    text_ids,\n",
        "    max_length= 50,  \n",
        "    num_beams=5,\n",
        "    no_repeat_ngram_size=2,\n",
        "    num_return_sequences= 5,\n",
        "    early_stopping=True \n",
        ")\n",
        "\n",
        "for i, beam in enumerate(generated_text_samples):\n",
        "  print(f\"{i}: {base_tokenizer.decode(beam, skip_special_tokens=True)}\")\n",
        "  print()\n"
      ],
      "metadata": {
        "id": "3a_ISEryNcg3",
        "colab": {
          "base_uri": "https://localhost:8080/"
        },
        "outputId": "2c925731-7d09-44f7-f690-28b340751f41"
      },
      "execution_count": 20,
      "outputs": [
        {
          "output_type": "stream",
          "name": "stderr",
          "text": [
            "/usr/local/lib/python3.10/dist-packages/ipykernel/ipkernel.py:283: DeprecationWarning: `should_run_async` will not call `transform_cell` automatically in the future. Please pass the result to `transformed_cell` argument and any exception that happen during thetransform in `preprocessing_exc_tuple` in IPython 7.17 and above.\n",
            "  and should_run_async(code)\n",
            "The attention mask and the pad token id were not set. As a consequence, you may observe unexpected behavior. Please pass your input's `attention_mask` to obtain reliable results.\n",
            "Setting `pad_token_id` to `eos_token_id`:50256 for open-end generation.\n"
          ]
        },
        {
          "output_type": "stream",
          "name": "stdout",
          "text": [
            "0: was only trying to help.\n",
            "\n",
            "\"I'm not going to give up,\" he said. \"I don't want to lose my job. I want my kids to be able to go to college.\"\n",
            "\n",
            "1: was only trying to help.\n",
            "\n",
            "\"I'm not going to give up,\" he said. \"I don't want to lose my job.\"\n",
            "\n",
            "2: was only trying to help.\n",
            "\n",
            "\"I'm not going to give up,\" he said. \"I don't want to lose my job. I want my kids to have a better life.\"\n",
            "\n",
            "3: was only trying to help.\n",
            "\n",
            "\"I'm not going to give up,\" he said. \"I don't want to lose my job. I want my kids to be able to go to college and get a good job.\"\n",
            "\n",
            "4: was only trying to help.\n",
            "\n",
            "\"I'm not going to give up,\" he said. \"I don't want to lose my job. I want my kids to be able to go to college and get a good education.\"\n",
            "\n"
          ]
        }
      ]
    },
    {
      "cell_type": "code",
      "source": [
        "generated_text_samples = base_model.generate(\n",
        "    text_ids,\n",
        "    max_length= 50,  \n",
        "    do_sample=True,  \n",
        "    top_k=0,\n",
        "    num_return_sequences= 5\n",
        ")\n",
        "\n",
        "for i, beam in enumerate(generated_text_samples):\n",
        "  pretty_print(f\"{i}: {base_tokenizer.decode(beam, skip_special_tokens=True)}\")\n",
        "  print()\n"
      ],
      "metadata": {
        "id": "g5GHvWWLNl6R",
        "colab": {
          "base_uri": "https://localhost:8080/"
        },
        "outputId": "55ef63bf-6adb-468e-fea2-b03959147c6d"
      },
      "execution_count": 21,
      "outputs": [
        {
          "output_type": "stream",
          "name": "stderr",
          "text": [
            "/usr/local/lib/python3.10/dist-packages/ipykernel/ipkernel.py:283: DeprecationWarning: `should_run_async` will not call `transform_cell` automatically in the future. Please pass the result to `transformed_cell` argument and any exception that happen during thetransform in `preprocessing_exc_tuple` in IPython 7.17 and above.\n",
            "  and should_run_async(code)\n",
            "The attention mask and the pad token id were not set. As a consequence, you may observe unexpected behavior. Please pass your input's `attention_mask` to obtain reliable results.\n",
            "Setting `pad_token_id` to `eos_token_id`:50256 for open-end generation.\n"
          ]
        },
        {
          "output_type": "stream",
          "name": "stdout",
          "text": [
            " 0: was only trying to help a friend if she wanted to. Although she received a bone marrow magnetised\n",
            " cell (MMC) from her donor, the patient not only had cancer showing up on the MRI, but also appeared\n",
            " to have a disordered release\n",
            "\n",
            " 1: was only trying to help them reach some sort of reconciliation. However, they were also\n",
            " cognitively challenged in prose about how racism (high prescribed MSM treatment), which tends to\n",
            " create disparate opinions and experiences, may stimulate very negative attitudes toward minority\n",
            " people. However\n",
            "\n",
            " 2: was only trying to help the band. He left on a tour bus today and he and his family are totally\n",
            " taken with the fun (he dumped the kids at YMCA numerous times, though).\n",
            "\n",
            "\"I like it. I passed out\n",
            "\n",
            " 3: was only trying to help him, naked, as much of Ashley's pale skin as it was her face, and cares\n",
            " made things awkward between them.\n",
            "\n",
            "At this point, Ashley heard Braden think of jogging down the\n",
            " street and did one\n",
            "\n",
            " 4: was only trying to help serve these people as little as possible, nothing more, and this press\n",
            " release reflects the ageing of our country's political party in the place of its ANC and\n",
            " Chunkumbulur (National Assembly) leaderships at the same\n",
            "\n"
          ]
        }
      ]
    },
    {
      "cell_type": "code",
      "source": [
        "generated_text_samples = base_model.generate(\n",
        "    text_ids,\n",
        "    max_length= 50,  \n",
        "    do_sample=True,  \n",
        "    top_k=0,\n",
        "    temperature=0.9,\n",
        "    num_return_sequences= 5\n",
        ")\n",
        "\n",
        "for i, beam in enumerate(generated_text_samples):\n",
        "  pretty_print(f\"{i}: {base_tokenizer.decode(beam, skip_special_tokens=True)}\")\n",
        "  print()\n"
      ],
      "metadata": {
        "id": "zJRu57c8Nvgp",
        "colab": {
          "base_uri": "https://localhost:8080/"
        },
        "outputId": "3fba1850-6c24-409e-d435-f1b05264eab2"
      },
      "execution_count": 22,
      "outputs": [
        {
          "output_type": "stream",
          "name": "stderr",
          "text": [
            "/usr/local/lib/python3.10/dist-packages/ipykernel/ipkernel.py:283: DeprecationWarning: `should_run_async` will not call `transform_cell` automatically in the future. Please pass the result to `transformed_cell` argument and any exception that happen during thetransform in `preprocessing_exc_tuple` in IPython 7.17 and above.\n",
            "  and should_run_async(code)\n",
            "The attention mask and the pad token id were not set. As a consequence, you may observe unexpected behavior. Please pass your input's `attention_mask` to obtain reliable results.\n",
            "Setting `pad_token_id` to `eos_token_id`:50256 for open-end generation.\n"
          ]
        },
        {
          "output_type": "stream",
          "name": "stdout",
          "text": [
            " 0: was only trying to help people if someone threatened him. So I wouldn't advise him to do it. I\n",
            " would recommend him to anyone who needs to know what happened to Don.\n",
            "\n",
            "I would advise you to read\n",
            " many books on other of the\n",
            "\n",
            " 1: was only trying to help her.\"\n",
            "\n",
            "In 2000, Beck also provided emergency food to Gilbert that night,\n",
            " and her neighbor and second-floor neighbor read a newspaper about the hospital, asking for social\n",
            " services.\n",
            "\n",
            "\"Her initial response was,\n",
            "\n",
            " 2: was only trying to help his friends. It's not like the police have any jurisdiction over the\n",
            " Peruvian cops. As a family, I'm scared to go outside and not see them.\n",
            "\n",
            "DL: Do you fear for your\n",
            " safety or freedom\n",
            "\n",
            " 3: was only trying to help with one rather large part, which looked the less beautiful than the\n",
            " other two because of the negro. There was no doubt about it, and, as I later explained why we kept\n",
            " seeing death incarnate at the same time,\n",
            "\n",
            " 4: was only trying to help Andy in a live environment.\n",
            "\n",
            "But, rightly or wrongly, Mendoza performed a\n",
            " significant part in how Andy learned. Under McCabe's leadership, Mendoza's hard work saved Andy from\n",
            " a bad situation and essentially\n",
            "\n"
          ]
        }
      ]
    },
    {
      "cell_type": "code",
      "source": [
        "generated_text_samples = base_model.generate(\n",
        "    text_ids,\n",
        "    max_length= 50,  \n",
        "    do_sample=True,  \n",
        "    top_k=25,\n",
        "    num_return_sequences= 5\n",
        ")\n",
        "\n",
        "for i, beam in enumerate(generated_text_samples):\n",
        "  pretty_print(f\"{i}: {base_tokenizer.decode(beam, skip_special_tokens=True)}\")\n",
        "  print()\n"
      ],
      "metadata": {
        "id": "gyYKqyYiN6pH",
        "colab": {
          "base_uri": "https://localhost:8080/"
        },
        "outputId": "028c21a1-b884-4000-f3f8-f29dd13429bb"
      },
      "execution_count": 23,
      "outputs": [
        {
          "output_type": "stream",
          "name": "stderr",
          "text": [
            "/usr/local/lib/python3.10/dist-packages/ipykernel/ipkernel.py:283: DeprecationWarning: `should_run_async` will not call `transform_cell` automatically in the future. Please pass the result to `transformed_cell` argument and any exception that happen during thetransform in `preprocessing_exc_tuple` in IPython 7.17 and above.\n",
            "  and should_run_async(code)\n",
            "The attention mask and the pad token id were not set. As a consequence, you may observe unexpected behavior. Please pass your input's `attention_mask` to obtain reliable results.\n",
            "Setting `pad_token_id` to `eos_token_id`:50256 for open-end generation.\n"
          ]
        },
        {
          "output_type": "stream",
          "name": "stdout",
          "text": [
            " 0: was only trying to help a girl who was being abused,\" he said. He was shocked by the incident,\n",
            " particularly the fact that he is \"in some way a parent.\"\n",
            "\n",
            "\"As a parent of child, it's just\n",
            " devastating, to\n",
            "\n",
            " 1: was only trying to help people who had been victims on the streets, and they are also trying to\n",
            " get people out of jail so we can go to them and help them,\" she said. \"The police have already done\n",
            " an amazing job on their own\n",
            "\n",
            " 2: was only trying to help. He is trying to find his family, to make peace, to find peace for him\n",
            " now.\"\n",
            "\n",
            "The father says he is so happy for his wife, her mother, and other children, for seeing the\n",
            " results of\n",
            "\n",
            " 3: was only trying to help his son to be an entrepreneur and an entrepreneur in her mother's\n",
            " home.\n",
            "\n",
            "In a letter to his mother, the mother writes: \"We've been through a very difficult time and I\n",
            " know it will be difficult for\n",
            "\n",
            " 4: was only trying to help those who had already been killed by the attackers in the other town. The\n",
            " militants also attacked two military installations, a police barracks and three hospitals. \"The\n",
            " situation has become worse in the first month. This, in addition to\n",
            "\n"
          ]
        }
      ]
    },
    {
      "cell_type": "code",
      "source": [
        "generated_text_samples = base_model.generate(\n",
        "    text_ids,\n",
        "    max_length= 50,  \n",
        "    do_sample=True,  \n",
        "    top_k=0,\n",
        "    top_p=0.92,\n",
        "    num_return_sequences= 5\n",
        ")\n",
        "\n",
        "for i, beam in enumerate(generated_text_samples):\n",
        "  pretty_print(f\"{i}: {base_tokenizer.decode(beam, skip_special_tokens=True)}\")\n",
        "  print()\n"
      ],
      "metadata": {
        "id": "HYTBdkzlOUKJ",
        "colab": {
          "base_uri": "https://localhost:8080/"
        },
        "outputId": "f95ffded-f043-4225-b3ac-5a17d910f936"
      },
      "execution_count": 24,
      "outputs": [
        {
          "output_type": "stream",
          "name": "stderr",
          "text": [
            "/usr/local/lib/python3.10/dist-packages/ipykernel/ipkernel.py:283: DeprecationWarning: `should_run_async` will not call `transform_cell` automatically in the future. Please pass the result to `transformed_cell` argument and any exception that happen during thetransform in `preprocessing_exc_tuple` in IPython 7.17 and above.\n",
            "  and should_run_async(code)\n",
            "The attention mask and the pad token id were not set. As a consequence, you may observe unexpected behavior. Please pass your input's `attention_mask` to obtain reliable results.\n",
            "Setting `pad_token_id` to `eos_token_id`:50256 for open-end generation.\n"
          ]
        },
        {
          "output_type": "stream",
          "name": "stdout",
          "text": [
            " 0: was only trying to help my current wife, who went by the name Little Donald, pay her car loans.\n",
            " As her compensation by the auto companies was $600.00 an hour, she had to break even. We were at her\n",
            " house searching for\n",
            "\n",
            " 1: was only trying to help her boyfriend, but I assume that did his part as he overcame his bit of\n",
            " sex because he is a human being.\n",
            "\n",
            "Or maybe that is what Sadon likes to say. If you might consider\n",
            " him a \"mere\n",
            "\n",
            " 2: was only trying to help out with distribution. He did it for $30K because he knew if he didn't\n",
            " get funding from Amazon he'd die. He chose to live off people he felt were foolish enough to let his\n",
            " three kids grow up and\n",
            "\n",
            " 3: was only trying to help out for friends at his university, and living at home.\n",
            "\n",
            "His friend agreed\n",
            " to donate bitcoin to Uber to help cover the costs.\n",
            "\n",
            "But after he caught wind of it, Glass stopped\n",
            " paying any amount to meet\n",
            "\n",
            " 4: was only trying to help his fellow faggots with their harassment of foreigners.\n",
            "\n",
            "\n",
            "Thanks for your\n",
            " time\n",
            "\n",
            "Yeah, I got quite curious. :D Don't be condescending. Hit me up on reddit, make sure you've\n",
            " read\n",
            "\n"
          ]
        }
      ]
    },
    {
      "cell_type": "code",
      "source": [
        "generated_text_samples = base_model.generate(\n",
        "    text_ids,\n",
        "    max_length= 50,  \n",
        "    do_sample=True,  \n",
        "    top_k=100,\n",
        "    top_p=0.92,\n",
        "    temperature=0.8,\n",
        "    repetition_penalty= 1.5,\n",
        "    num_return_sequences= 5\n",
        ")\n",
        "\n",
        "for i, beam in enumerate(generated_text_samples):\n",
        "  pretty_print(f\"{i}: {base_tokenizer.decode(beam, skip_special_tokens=True)}\")\n",
        "  print()\n"
      ],
      "metadata": {
        "id": "Wfu3Ho6sOmem",
        "colab": {
          "base_uri": "https://localhost:8080/"
        },
        "outputId": "702588e0-63c8-407c-cabe-7d91d04becc9"
      },
      "execution_count": 25,
      "outputs": [
        {
          "output_type": "stream",
          "name": "stderr",
          "text": [
            "/usr/local/lib/python3.10/dist-packages/ipykernel/ipkernel.py:283: DeprecationWarning: `should_run_async` will not call `transform_cell` automatically in the future. Please pass the result to `transformed_cell` argument and any exception that happen during thetransform in `preprocessing_exc_tuple` in IPython 7.17 and above.\n",
            "  and should_run_async(code)\n",
            "The attention mask and the pad token id were not set. As a consequence, you may observe unexpected behavior. Please pass your input's `attention_mask` to obtain reliable results.\n",
            "Setting `pad_token_id` to `eos_token_id`:50256 for open-end generation.\n"
          ]
        },
        {
          "output_type": "stream",
          "name": "stdout",
          "text": [
            " 0: was only trying to help the children, he said. \"The mother was quite upset at first.\"\n",
            "(Read more:\n",
            " http://www....)\n",
            "\n",
            " 1: was only trying to help their local people. She was very interested in the area, she always liked\n",
            " what they were doing there and wanted more money.\"\n",
            " (Karen Brueckner/CBC) \"We had a lot of success\n",
            " with women\n",
            "\n",
            " 2: was only trying to help, but he was hurting. It wasn't all that long ago I had some kind of heart\n",
            " problem and it became very bad,\" she said.\n",
            "\"He asked me if we would like a second opinion on what is\n",
            " going\n",
            "\n",
            " 3: was only trying to help others who couldn't afford it. But that wasn\n",
            "\"a serious problem,\" he\n",
            " said. \"We've lost four in a row since 2009, but this is the first time we have not been able fully\n",
            " recover from one\n",
            "\n",
            " 4: was only trying to help others who needed it.\n",
            "This is a very specific case, but the most common\n",
            " problem we encounter in many cases of mental health issues among LGBT people are problems with their\n",
            " own bodies and relationships or lack of desire for sex (\n",
            "\n"
          ]
        }
      ]
    },
    {
      "cell_type": "code",
      "source": [
        "def generate_n_text_samples(model, tokenizer, input_text, device, n_samples = 5):\n",
        "    text_ids = tokenizer.encode(input_text, return_tensors = 'pt')\n",
        "    text_ids = text_ids.to(device)\n",
        "    model = model.to(device)\n",
        "\n",
        "    generated_text_samples = model.generate(\n",
        "        text_ids, \n",
        "        max_length= 100,  \n",
        "        num_return_sequences= n_samples,\n",
        "        no_repeat_ngram_size= 2,\n",
        "        repetition_penalty= 1.5,\n",
        "        top_p= 0.92,\n",
        "        temperature= .85,\n",
        "        do_sample= True,\n",
        "        top_k= 125,\n",
        "        early_stopping= True\n",
        "    )\n",
        "    gen_text = []\n",
        "    for t in generated_text_samples:\n",
        "        text = tokenizer.decode(t, skip_special_tokens=True)\n",
        "        gen_text.append(text)\n",
        "\n",
        "        return gen_text\n"
      ],
      "metadata": {
        "id": "PTQSlGYYsH7K",
        "colab": {
          "base_uri": "https://localhost:8080/"
        },
        "outputId": "ef404304-f004-4bca-ce79-e036556c1c9d"
      },
      "execution_count": 26,
      "outputs": [
        {
          "output_type": "stream",
          "name": "stderr",
          "text": [
            "/usr/local/lib/python3.10/dist-packages/ipykernel/ipkernel.py:283: DeprecationWarning: `should_run_async` will not call `transform_cell` automatically in the future. Please pass the result to `transformed_cell` argument and any exception that happen during thetransform in `preprocessing_exc_tuple` in IPython 7.17 and above.\n",
            "  and should_run_async(code)\n"
          ]
        }
      ]
    },
    {
      "cell_type": "markdown",
      "source": [
        "## ***Как для заголовков***"
      ],
      "metadata": {
        "id": "fYbsdf9aQs7s"
      }
    },
    {
      "cell_type": "code",
      "source": [
        "bos = '<|endoftext|>'\n",
        "eos = '<|EOS|>'\n",
        "pad = '<|pad|>'\n",
        "\n",
        "special_tokens_dict = {'eos_token': eos, 'bos_token': bos, 'pad_token': pad}\n",
        "\n",
        "# the new token is added to the tokenizer\n",
        "num_added_toks = base_tokenizer.add_special_tokens(special_tokens_dict)\n",
        "\n",
        "# the model config to which we add the special tokens\n",
        "config = AutoConfig.from_pretrained('gpt2', \n",
        "                                    bos_token_id=base_tokenizer.bos_token_id,\n",
        "                                    eos_token_id=base_tokenizer.eos_token_id,\n",
        "                                    pad_token_id=base_tokenizer.pad_token_id,\n",
        "                                    output_hidden_states=False)\n",
        "\n",
        "# the pre-trained model is loaded with the custom configuration\n",
        "base_model = GPT2LMHeadModel.from_pretrained('gpt2', config=config)\n",
        "\n",
        "# the model embedding is resized\n",
        "base_model.resize_token_embeddings(len(base_tokenizer))\n"
      ],
      "metadata": {
        "id": "VRb5voizQv98",
        "colab": {
          "base_uri": "https://localhost:8080/"
        },
        "outputId": "8840358a-ecbe-4ac2-afac-ff539abcbeaa"
      },
      "execution_count": 27,
      "outputs": [
        {
          "output_type": "stream",
          "name": "stderr",
          "text": [
            "/usr/local/lib/python3.10/dist-packages/ipykernel/ipkernel.py:283: DeprecationWarning: `should_run_async` will not call `transform_cell` automatically in the future. Please pass the result to `transformed_cell` argument and any exception that happen during thetransform in `preprocessing_exc_tuple` in IPython 7.17 and above.\n",
            "  and should_run_async(code)\n"
          ]
        },
        {
          "output_type": "execute_result",
          "data": {
            "text/plain": [
              "Embedding(50259, 768)"
            ]
          },
          "metadata": {},
          "execution_count": 27
        }
      ]
    },
    {
      "cell_type": "code",
      "source": [
        "covid_sample['full_clear'] = bos + ' ' + covid_sample['full_clear'] + ' ' + eos\n",
        "\n",
        "df_train, df_val = train_test_split(covid_sample, train_size = 0.9, random_state = 100)\n",
        "print(f'There are {len(df_train)} headlines for training and {len(df_val)} for validation')\n"
      ],
      "metadata": {
        "id": "tCG1mew8Q1w2",
        "colab": {
          "base_uri": "https://localhost:8080/"
        },
        "outputId": "e881947c-e3a5-4ebf-96f0-2e1c2b2db922"
      },
      "execution_count": 28,
      "outputs": [
        {
          "output_type": "stream",
          "name": "stdout",
          "text": [
            "There are 9000 headlines for training and 1000 for validation\n"
          ]
        },
        {
          "output_type": "stream",
          "name": "stderr",
          "text": [
            "/usr/local/lib/python3.10/dist-packages/ipykernel/ipkernel.py:283: DeprecationWarning: `should_run_async` will not call `transform_cell` automatically in the future. Please pass the result to `transformed_cell` argument and any exception that happen during thetransform in `preprocessing_exc_tuple` in IPython 7.17 and above.\n",
            "  and should_run_async(code)\n"
          ]
        }
      ]
    },
    {
      "cell_type": "code",
      "source": [
        "train_dataset = Dataset.from_pandas(df_train[['full_clear']])\n",
        "val_dataset = Dataset.from_pandas(df_val[['full_clear']])"
      ],
      "metadata": {
        "id": "JKaqr-g-RDfu",
        "colab": {
          "base_uri": "https://localhost:8080/"
        },
        "outputId": "2a821d7c-385e-48f3-a84c-8aea8032c43c"
      },
      "execution_count": 29,
      "outputs": [
        {
          "output_type": "stream",
          "name": "stderr",
          "text": [
            "/usr/local/lib/python3.10/dist-packages/ipykernel/ipkernel.py:283: DeprecationWarning: `should_run_async` will not call `transform_cell` automatically in the future. Please pass the result to `transformed_cell` argument and any exception that happen during thetransform in `preprocessing_exc_tuple` in IPython 7.17 and above.\n",
            "  and should_run_async(code)\n"
          ]
        }
      ]
    },
    {
      "cell_type": "code",
      "source": [
        "def tokenize_function(examples):\n",
        "    return base_tokenizer(examples['full_clear'], padding=True)\n",
        "\n",
        "\n",
        "tokenized_train_dataset = train_dataset.map(\n",
        "    tokenize_function,\n",
        "    batched=True,\n",
        "    num_proc=5,\n",
        "    remove_columns=['full_clear'],\n",
        ")\n",
        "tokenized_val_dataset = val_dataset.map(\n",
        "    tokenize_function,\n",
        "    batched=True,\n",
        "    num_proc=5,\n",
        "    remove_columns=['full_clear'],\n",
        ")\n"
      ],
      "metadata": {
        "id": "l_ddZx8jRId7",
        "colab": {
          "base_uri": "https://localhost:8080/",
          "height": 72,
          "referenced_widgets": [
            "e0b17390664c4071a8994f4aabf17fae",
            "3e801a1260b64ebe924536b65d5526dc",
            "81fb564217f540d6a9fd3da9bbfc049f",
            "b98a495cdd524a8cb1e324f06e9e8449",
            "85add5efd7474ec6b3e04ebcd1205e77",
            "f32c02b8af564e1083af3149c331a778",
            "4ecf45a5dfa946f998845db2f70d5093",
            "e8dfdbaa3a974b87a7718357ec51460b",
            "b50fdfbe0263476383dd8e81f288cf6d",
            "7e5bcfd3528c457892a9bab5540c3aed",
            "52715a1c94404fbca274473407728d13",
            "d4d314a0fb024fc0bd1fa5828cb7d667",
            "81e55999a3a74746b5b7ef4d9d668747",
            "dd4148eb265540b4abd7cd6c0762b175",
            "a22e7d613c824fc397f8f767c51bf073",
            "a804ec47f6934086bfa0746bbf3711e0",
            "ba5fbf3152c34cddab903a46005b8407",
            "62b5cdf0b03a4e7cbd39e4c4c29d1f05",
            "8c545d20271d42efaf0ea742a609d510",
            "d762a85148174742a00f8790d36e89f6",
            "d32498aac5124710b52a517705724908",
            "3e139a7c5b7c4578a3f73c032bca6cfa"
          ]
        },
        "outputId": "88750a40-9433-4155-b297-8ab6886bc63a"
      },
      "execution_count": 30,
      "outputs": [
        {
          "output_type": "stream",
          "name": "stderr",
          "text": [
            "/usr/local/lib/python3.10/dist-packages/ipykernel/ipkernel.py:283: DeprecationWarning: `should_run_async` will not call `transform_cell` automatically in the future. Please pass the result to `transformed_cell` argument and any exception that happen during thetransform in `preprocessing_exc_tuple` in IPython 7.17 and above.\n",
            "  and should_run_async(code)\n"
          ]
        },
        {
          "output_type": "display_data",
          "data": {
            "text/plain": [
              "Map (num_proc=5):   0%|          | 0/9000 [00:00<?, ? examples/s]"
            ],
            "application/vnd.jupyter.widget-view+json": {
              "version_major": 2,
              "version_minor": 0,
              "model_id": "e0b17390664c4071a8994f4aabf17fae"
            }
          },
          "metadata": {}
        },
        {
          "output_type": "display_data",
          "data": {
            "text/plain": [
              "Map (num_proc=5):   0%|          | 0/1000 [00:00<?, ? examples/s]"
            ],
            "application/vnd.jupyter.widget-view+json": {
              "version_major": 2,
              "version_minor": 0,
              "model_id": "d4d314a0fb024fc0bd1fa5828cb7d667"
            }
          },
          "metadata": {}
        }
      ]
    },
    {
      "cell_type": "code",
      "source": [
        "base_tokenizer.decode(tokenized_train_dataset['input_ids'][0])"
      ],
      "metadata": {
        "id": "wD1CJBTERRcs",
        "colab": {
          "base_uri": "https://localhost:8080/",
          "height": 126
        },
        "outputId": "37020e5b-9ca2-4926-8d14-3e4c1daf2412"
      },
      "execution_count": 31,
      "outputs": [
        {
          "output_type": "stream",
          "name": "stderr",
          "text": [
            "/usr/local/lib/python3.10/dist-packages/ipykernel/ipkernel.py:283: DeprecationWarning: `should_run_async` will not call `transform_cell` automatically in the future. Please pass the result to `transformed_cell` argument and any exception that happen during thetransform in `preprocessing_exc_tuple` in IPython 7.17 and above.\n",
            "  and should_run_async(code)\n"
          ]
        },
        {
          "output_type": "execute_result",
          "data": {
            "text/plain": [
              "'<|endoftext|> you decided not to wear a mask because you listened to the insane ramblings of a lunatic mind at t <|EOS|> <|pad|> <|pad|> <|pad|> <|pad|> <|pad|> <|pad|> <|pad|> <|pad|> <|pad|> <|pad|> <|pad|> <|pad|> <|pad|> <|pad|> <|pad|> <|pad|> <|pad|> <|pad|> <|pad|> <|pad|> <|pad|> <|pad|> <|pad|> <|pad|> <|pad|> <|pad|> <|pad|> <|pad|> <|pad|> <|pad|> <|pad|> <|pad|> <|pad|>'"
            ],
            "application/vnd.google.colaboratory.intrinsic+json": {
              "type": "string"
            }
          },
          "metadata": {},
          "execution_count": 31
        }
      ]
    },
    {
      "cell_type": "code",
      "source": [
        "model_headlines_path = './model_headlines_news'\n",
        "\n",
        "training_args = TrainingArguments(\n",
        "    output_dir=model_headlines_path,          # output directory\n",
        "    num_train_epochs=6,              # total # of training epochs\n",
        "    per_device_train_batch_size=32,  # batch size per device during training\n",
        "    per_device_eval_batch_size=16,   # batch size for evaluation\n",
        "    warmup_steps=200,                # number of warmup steps for learning rate scheduler\n",
        "    weight_decay=0.01,               # strength of weight decay\n",
        "    logging_dir=model_headlines_path,            # directory for storing logs\n",
        "    prediction_loss_only=True,\n",
        "    save_steps=10000 \n",
        ")\n"
      ],
      "metadata": {
        "id": "wrE-0Eh6Rcvv",
        "colab": {
          "base_uri": "https://localhost:8080/"
        },
        "outputId": "385c98c7-a90e-4882-cddf-317b6d7eb87c"
      },
      "execution_count": 33,
      "outputs": [
        {
          "output_type": "stream",
          "name": "stderr",
          "text": [
            "/usr/local/lib/python3.10/dist-packages/ipykernel/ipkernel.py:283: DeprecationWarning: `should_run_async` will not call `transform_cell` automatically in the future. Please pass the result to `transformed_cell` argument and any exception that happen during thetransform in `preprocessing_exc_tuple` in IPython 7.17 and above.\n",
            "  and should_run_async(code)\n"
          ]
        }
      ]
    },
    {
      "cell_type": "code",
      "source": [
        "data_collator = DataCollatorForLanguageModeling(\n",
        "        tokenizer=base_tokenizer,\n",
        "        mlm=False\n",
        "    )"
      ],
      "metadata": {
        "id": "JYLsKD19RfbI",
        "colab": {
          "base_uri": "https://localhost:8080/"
        },
        "outputId": "85ec7df4-3fec-493d-8acc-5b032341b0bf"
      },
      "execution_count": 34,
      "outputs": [
        {
          "output_type": "stream",
          "name": "stderr",
          "text": [
            "/usr/local/lib/python3.10/dist-packages/ipykernel/ipkernel.py:283: DeprecationWarning: `should_run_async` will not call `transform_cell` automatically in the future. Please pass the result to `transformed_cell` argument and any exception that happen during thetransform in `preprocessing_exc_tuple` in IPython 7.17 and above.\n",
            "  and should_run_async(code)\n"
          ]
        }
      ]
    },
    {
      "cell_type": "code",
      "source": [
        "trainer = Trainer(\n",
        "    model=base_model,                         # the instantiated 🤗 Transformers model to be trained\n",
        "    args=training_args,                  # training arguments, defined above\n",
        "    data_collator=data_collator,\n",
        "    train_dataset=tokenized_train_dataset,         # training dataset\n",
        "    eval_dataset=tokenized_val_dataset            # evaluation dataset\n",
        ")\n",
        "trainer.train()\n"
      ],
      "metadata": {
        "id": "TnYDbrQZRhoY",
        "colab": {
          "base_uri": "https://localhost:8080/",
          "height": 293
        },
        "outputId": "033444c4-6ec0-46e7-87b0-5828bee4a9ff"
      },
      "execution_count": 35,
      "outputs": [
        {
          "output_type": "stream",
          "name": "stderr",
          "text": [
            "/usr/local/lib/python3.10/dist-packages/ipykernel/ipkernel.py:283: DeprecationWarning: `should_run_async` will not call `transform_cell` automatically in the future. Please pass the result to `transformed_cell` argument and any exception that happen during thetransform in `preprocessing_exc_tuple` in IPython 7.17 and above.\n",
            "  and should_run_async(code)\n",
            "/usr/local/lib/python3.10/dist-packages/transformers/optimization.py:391: FutureWarning: This implementation of AdamW is deprecated and will be removed in a future version. Use the PyTorch implementation torch.optim.AdamW instead, or set `no_deprecation_warning=True` to disable this warning\n",
            "  warnings.warn(\n"
          ]
        },
        {
          "output_type": "display_data",
          "data": {
            "text/plain": [
              "<IPython.core.display.HTML object>"
            ],
            "text/html": [
              "\n",
              "    <div>\n",
              "      \n",
              "      <progress value='1692' max='1692' style='width:300px; height:20px; vertical-align: middle;'></progress>\n",
              "      [1692/1692 15:57, Epoch 6/6]\n",
              "    </div>\n",
              "    <table border=\"1\" class=\"dataframe\">\n",
              "  <thead>\n",
              " <tr style=\"text-align: left;\">\n",
              "      <th>Step</th>\n",
              "      <th>Training Loss</th>\n",
              "    </tr>\n",
              "  </thead>\n",
              "  <tbody>\n",
              "    <tr>\n",
              "      <td>500</td>\n",
              "      <td>10.172600</td>\n",
              "    </tr>\n",
              "    <tr>\n",
              "      <td>1000</td>\n",
              "      <td>4.652400</td>\n",
              "    </tr>\n",
              "    <tr>\n",
              "      <td>1500</td>\n",
              "      <td>4.361800</td>\n",
              "    </tr>\n",
              "  </tbody>\n",
              "</table><p>"
            ]
          },
          "metadata": {}
        },
        {
          "output_type": "execute_result",
          "data": {
            "text/plain": [
              "TrainOutput(global_step=1692, training_loss=6.15411694393654, metrics={'train_runtime': 960.4484, 'train_samples_per_second': 56.224, 'train_steps_per_second': 1.762, 'total_flos': 1708523274240000.0, 'train_loss': 6.15411694393654, 'epoch': 6.0})"
            ]
          },
          "metadata": {},
          "execution_count": 35
        }
      ]
    },
    {
      "cell_type": "code",
      "source": [
        "trainer.save_model()\n",
        "base_tokenizer.save_pretrained(model_headlines_path)"
      ],
      "metadata": {
        "id": "RSeRhXp-Rl6k",
        "colab": {
          "base_uri": "https://localhost:8080/"
        },
        "outputId": "84e7d6e1-f504-48a1-bb11-34bb8adcedc6"
      },
      "execution_count": 36,
      "outputs": [
        {
          "output_type": "stream",
          "name": "stderr",
          "text": [
            "/usr/local/lib/python3.10/dist-packages/ipykernel/ipkernel.py:283: DeprecationWarning: `should_run_async` will not call `transform_cell` automatically in the future. Please pass the result to `transformed_cell` argument and any exception that happen during thetransform in `preprocessing_exc_tuple` in IPython 7.17 and above.\n",
            "  and should_run_async(code)\n"
          ]
        },
        {
          "output_type": "execute_result",
          "data": {
            "text/plain": [
              "('./model_headlines_news/tokenizer_config.json',\n",
              " './model_headlines_news/special_tokens_map.json',\n",
              " './model_headlines_news/vocab.json',\n",
              " './model_headlines_news/merges.txt',\n",
              " './model_headlines_news/added_tokens.json')"
            ]
          },
          "metadata": {},
          "execution_count": 36
        }
      ]
    },
    {
      "cell_type": "code",
      "source": [
        "model_headlines_path = './model_headlines_news'\n",
        "headlines_tokenizer = GPT2Tokenizer.from_pretrained(model_headlines_path)\n",
        "headlines_model = GPT2LMHeadModel.from_pretrained(model_headlines_path)\n",
        "device = \"cuda:0\"\n",
        "input_text = headlines_tokenizer.bos_token"
      ],
      "metadata": {
        "id": "2s2784E5xwp0",
        "colab": {
          "base_uri": "https://localhost:8080/"
        },
        "outputId": "1ceaae23-1e7e-4bb5-acf9-0f3eeb7e322d"
      },
      "execution_count": 37,
      "outputs": [
        {
          "output_type": "stream",
          "name": "stderr",
          "text": [
            "/usr/local/lib/python3.10/dist-packages/ipykernel/ipkernel.py:283: DeprecationWarning: `should_run_async` will not call `transform_cell` automatically in the future. Please pass the result to `transformed_cell` argument and any exception that happen during thetransform in `preprocessing_exc_tuple` in IPython 7.17 and above.\n",
            "  and should_run_async(code)\n"
          ]
        }
      ]
    },
    {
      "cell_type": "code",
      "source": [
        "text = \"Covid19\"\n",
        "text1 = \"Coronavirus\"\n",
        "text_ids = headlines_tokenizer.encode(text, return_tensors=\"pt\")\n",
        "text_ids1 = headlines_tokenizer.encode(text1, return_tensors=\"pt\")"
      ],
      "metadata": {
        "id": "8LcP50ewx9wY",
        "colab": {
          "base_uri": "https://localhost:8080/"
        },
        "outputId": "4056f860-df51-4f7f-a202-6c8987d096a5"
      },
      "execution_count": 38,
      "outputs": [
        {
          "output_type": "stream",
          "name": "stderr",
          "text": [
            "/usr/local/lib/python3.10/dist-packages/ipykernel/ipkernel.py:283: DeprecationWarning: `should_run_async` will not call `transform_cell` automatically in the future. Please pass the result to `transformed_cell` argument and any exception that happen during thetransform in `preprocessing_exc_tuple` in IPython 7.17 and above.\n",
            "  and should_run_async(code)\n"
          ]
        }
      ]
    },
    {
      "cell_type": "code",
      "source": [
        "generated_text_samples = headlines_model.generate(text_ids, max_length=250, do_sample=True, top_k=100, top_p=0.92, temperature=0.85, repetition_penalty=1.75, num_return_sequences=20)"
      ],
      "metadata": {
        "id": "wmqN1bZmurM1",
        "colab": {
          "base_uri": "https://localhost:8080/"
        },
        "outputId": "0d399276-8ae5-46fe-cb10-f3935815d5d1"
      },
      "execution_count": 39,
      "outputs": [
        {
          "output_type": "stream",
          "name": "stderr",
          "text": [
            "/usr/local/lib/python3.10/dist-packages/ipykernel/ipkernel.py:283: DeprecationWarning: `should_run_async` will not call `transform_cell` automatically in the future. Please pass the result to `transformed_cell` argument and any exception that happen during thetransform in `preprocessing_exc_tuple` in IPython 7.17 and above.\n",
            "  and should_run_async(code)\n",
            "/usr/local/lib/python3.10/dist-packages/transformers/generation/utils.py:1219: UserWarning: You have modified the pretrained model configuration to control generation. This is a deprecated strategy to control generation and will be removed soon, in a future version. Please use a generation configuration file (see https://huggingface.co/docs/transformers/main_classes/text_generation)\n",
            "  warnings.warn(\n"
          ]
        }
      ]
    },
    {
      "cell_type": "code",
      "source": [
        "generated_text_samples1 = headlines_model.generate(text_ids1, max_length=250, do_sample=True, top_k=100, top_p=0.92, temperature=0.85, repetition_penalty=1.75, num_return_sequences=20)"
      ],
      "metadata": {
        "id": "_dkDsMEu0hul",
        "colab": {
          "base_uri": "https://localhost:8080/"
        },
        "outputId": "847b7baf-f342-478a-89cc-fbd31bc63b96"
      },
      "execution_count": 40,
      "outputs": [
        {
          "output_type": "stream",
          "name": "stderr",
          "text": [
            "/usr/local/lib/python3.10/dist-packages/ipykernel/ipkernel.py:283: DeprecationWarning: `should_run_async` will not call `transform_cell` automatically in the future. Please pass the result to `transformed_cell` argument and any exception that happen during thetransform in `preprocessing_exc_tuple` in IPython 7.17 and above.\n",
            "  and should_run_async(code)\n"
          ]
        }
      ]
    },
    {
      "cell_type": "code",
      "source": [
        "for i in range(len(generated_text_samples)):\n",
        "  print(f\"{i+1}: {headlines_tokenizer.decode(generated_text_samples[i], skip_special_tokens=True)}\")"
      ],
      "metadata": {
        "id": "pGgZgfVWzFbT",
        "colab": {
          "base_uri": "https://localhost:8080/"
        },
        "outputId": "e10aa887-9e19-45ea-bffe-a5310feb5073"
      },
      "execution_count": 41,
      "outputs": [
        {
          "output_type": "stream",
          "name": "stdout",
          "text": [
            "1: Covid19 incidence in us as of 01 august 2020 487 confirmed cases 745 recovered 486 recoveries 1188 recovered deaths\n",
            "2: Covid19 situation in germany continues to deterior\n",
            "3: Covid19 testing centre in honduras tests positive for covid 19\n",
            "4: Covid19 rate of covc in maharashtra reports highest spike of 662467 cases surpassing previous record for first time\n",
            "5: Covid19 vaccine has proven to be a huge boost for many families in the developing world who do have their children\n",
            "6: Covid19 is now the 2nd leading cause of death worldwide in a single day\n",
            "7: Covid19 update for the mid 2020 saturday august 7th 68949 cases reported in total 1248 gmt\n",
            "8: Covid19 vaccine trial in india\n",
            "9: Covid19 vaccine is not a panacea for the problem of covids in particular as well it does contain deadly i\n",
            "10: Covid19 vaccine in children\n",
            "11: Covid19 is just the beginning of what will be a daunting challenge when it comes to handling coronavirus cases in all parts o\n",
            "12: Covid19 is an exciting new finding which explains why covids may not be the only factor in predicting the future\n",
            "13: Covid19 has been linked to the spread of and it remains uncertain whether in people\n",
            "14: Covid19 update global cases 84843 742 deaths 595 recovered 214820 767 cases reported d\n",
            "15: Covid19 impact on economic activity including employment and mobility due to covid 19\n",
            "16: Covid19 in the news\n",
            "17: Covid19 has not only killed and sickened many more people but has\n",
            "18: Covid19 response guidance for physicians and pharma industry with comments from the president of c\n",
            "19: Covid19 level at 3rd degree point is like a fever without heat\n",
            "20: Covid19 in human blood plasma from patients is much lower than the level of acute infection\n"
          ]
        },
        {
          "output_type": "stream",
          "name": "stderr",
          "text": [
            "/usr/local/lib/python3.10/dist-packages/ipykernel/ipkernel.py:283: DeprecationWarning: `should_run_async` will not call `transform_cell` automatically in the future. Please pass the result to `transformed_cell` argument and any exception that happen during thetransform in `preprocessing_exc_tuple` in IPython 7.17 and above.\n",
            "  and should_run_async(code)\n"
          ]
        }
      ]
    },
    {
      "cell_type": "code",
      "source": [
        "for i in range(len(generated_text_samples1)):\n",
        "  print(f\"{i+1}: {headlines_tokenizer.decode(generated_text_samples1[i], skip_special_tokens=True)}\")"
      ],
      "metadata": {
        "id": "bOorCkjrzjiN",
        "colab": {
          "base_uri": "https://localhost:8080/"
        },
        "outputId": "da81e513-c32c-49b4-a113-f1c384aa5a30"
      },
      "execution_count": 42,
      "outputs": [
        {
          "output_type": "stream",
          "name": "stdout",
          "text": [
            "1: Coronavirus is now the second most deadly infectious disease worldwide after\n",
            "2: Coronavirus via\n",
            "3: Coronavirus can damage the liver and kidney because of a lack o\n",
            "4: Coronavirus covid19 cases in india total number of confirmed positive cases as on august 27 2020 24\n",
            "5: Coronavirus covid19 cases in india rise to 489747\n",
            "6: Coronavirus s work to fight infections in 2020\n",
            "7: Coronavirus covid19 updates in april\n",
            "8: Coronavirus situation in australia after coronation and pandemic\n",
            "9: Coronavirus virus has been linked to a range\n",
            "10: Coronavirus is a global pandemic problem that impacts over 500 million people worldwide according to the latest figures\n",
            "11: Coronavirus covid19 death toll is still at a ppe level so it s possible that we may have crossed the threshold\n",
            "12: Coronavirus i m the only one with a vaccine i know how to tell if you have it or not i love these i m\n",
            "13: Coronavirus is the virus that causes severe disabilities such as mobility and\n",
            "14: Coronavirus in the us has reached a new low after experiencing an unprecedented surge since midweek we re calling for more c\n",
            "15: Coronavirus in humans\n",
            "16: Coronavirus is the world's deadliest coronoviruses have been discovered on a bus in india the virus has not shown any symptoms\n",
            "17: Coronavirus and covid19 virus related deaths toll rises to 230\n",
            "18: Coronavirus will not work on all people or countries is a myth the virus that we ve had this whole time s\n",
            "19: Coronavirus update on the state of covid19 in india\n",
            "20: Coronavirus is the worst economic crisis since july 23 and all other countries are hit hard by it the second biggest in europe\n"
          ]
        },
        {
          "output_type": "stream",
          "name": "stderr",
          "text": [
            "/usr/local/lib/python3.10/dist-packages/ipykernel/ipkernel.py:283: DeprecationWarning: `should_run_async` will not call `transform_cell` automatically in the future. Please pass the result to `transformed_cell` argument and any exception that happen during thetransform in `preprocessing_exc_tuple` in IPython 7.17 and above.\n",
            "  and should_run_async(code)\n"
          ]
        }
      ]
    },
    {
      "cell_type": "code",
      "source": [],
      "metadata": {
        "id": "pxnoRVCEUkAA"
      },
      "execution_count": null,
      "outputs": []
    }
  ]
}